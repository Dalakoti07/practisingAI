{
 "cells": [
  {
   "cell_type": "code",
   "execution_count": 1,
   "metadata": {},
   "outputs": [
    {
     "name": "stdout",
     "output_type": "stream",
     "text": [
      "Read 25000 labeled train reviews, 25000 labeled test reviews, and 50000 unlabeled reviews\n",
      "\n"
     ]
    }
   ],
   "source": [
    "import pandas as pd\n",
    "\n",
    "# Read data from files \n",
    "train = pd.read_csv( \"labeledTrainData.tsv\", header=0, \n",
    " delimiter=\"\\t\", quoting=3 )\n",
    "test = pd.read_csv( \"testData.tsv\", header=0, delimiter=\"\\t\", quoting=3 )\n",
    "unlabeled_train = pd.read_csv( \"unlabeledTrainData.tsv\", header=0, \n",
    " delimiter=\"\\t\", quoting=3 )\n",
    "\n",
    "# Verify the number of reviews that were read (100,000 in total)\n",
    "print (\"Read %d labeled train reviews, %d labeled test reviews, \" \\\n",
    " \"and %d unlabeled reviews\\n\" % (train[\"review\"].size,  \n",
    " test[\"review\"].size, unlabeled_train[\"review\"].size ))"
   ]
  },
  {
   "cell_type": "markdown",
   "metadata": {},
   "source": [
    "The functions we write to clean the data are also similar to Part 1, although now there are a couple of differences. First, to train Word2Vec it is better not to remove stop words because the algorithm relies on the broader context of the sentence in order to produce high-quality word vectors. For this reason, we will make stop word removal optional in the functions below. It also might be better not to remove numbers, but we leave that as an exercise for the reader."
   ]
  },
  {
   "cell_type": "code",
   "execution_count": 2,
   "metadata": {},
   "outputs": [],
   "source": [
    "# Import various modules for string cleaning\n",
    "from bs4 import BeautifulSoup\n",
    "import re\n",
    "from nltk.corpus import stopwords\n",
    "\n",
    "def review_to_wordlist( review, remove_stopwords=False ):\n",
    "    # Function to convert a document to a sequence of words,\n",
    "    # optionally removing stop words.  Returns a list of words.\n",
    "    #\n",
    "    # 1. Remove HTML\n",
    "    review_text = BeautifulSoup(review).get_text()\n",
    "    #  \n",
    "    # 2. Remove non-letters\n",
    "    review_text = re.sub(\"[^a-zA-Z]\",\" \", review_text)\n",
    "    #\n",
    "    # 3. Convert words to lower case and split them\n",
    "    words = review_text.lower().split()\n",
    "    #\n",
    "    # 4. Optionally remove stop words (false by default)\n",
    "    if remove_stopwords:\n",
    "        stops = set(stopwords.words(\"english\"))\n",
    "        words = [w for w in words if not w in stops]\n",
    "    #\n",
    "    # 5. Return a list of words\n",
    "    return(words)"
   ]
  },
  {
   "cell_type": "markdown",
   "metadata": {},
   "source": [
    "Next, we want a specific input format. Word2Vec expects single sentences, each one as a list of words. In other words, the input format is a list of lists.\n",
    "\n",
    "It is not at all straightforward how to split a paragraph into sentences. There are all kinds of gotchas in natural language. English sentences can end with \"?\", \"!\", \"\"\", or \".\", among other things, and spacing and capitalization are not reliable guides either. For this reason, we'll use NLTK's punkt tokenizer for sentence splitting. In order to use this, you will need to install NLTK and use nltk.download() to download the relevant training file for punkt."
   ]
  },
  {
   "cell_type": "code",
   "execution_count": 3,
   "metadata": {},
   "outputs": [],
   "source": [
    "# Download the punkt tokenizer for sentence splitting\n",
    "import nltk.data\n",
    "# nltk.download()   \n",
    "\n",
    "# Load the punkt tokenizer\n",
    "tokenizer = nltk.data.load('tokenizers/punkt/english.pickle')\n",
    "\n",
    "# Define a function to split a review into parsed sentences\n",
    "def review_to_sentences( review, tokenizer, remove_stopwords=False ):\n",
    "    # Function to split a review into parsed sentences. Returns a \n",
    "    # list of sentences, where each sentence is a list of words\n",
    "    #\n",
    "    # 1. Use the NLTK tokenizer to split the paragraph into sentences\n",
    "    raw_sentences = tokenizer.tokenize(review.strip())\n",
    "    #\n",
    "    # 2. Loop over each sentence\n",
    "    sentences = []\n",
    "    for raw_sentence in raw_sentences:\n",
    "        # If a sentence is empty, skip it\n",
    "        if len(raw_sentence) > 0:\n",
    "            # Otherwise, call review_to_wordlist to get a list of words\n",
    "            sentences.append( review_to_wordlist( raw_sentence, \\\n",
    "              remove_stopwords ))\n",
    "    #\n",
    "    # Return the list of sentences (each sentence is a list of words,\n",
    "    # so this returns a list of lists\n",
    "    return sentences"
   ]
  },
  {
   "cell_type": "markdown",
   "metadata": {},
   "source": [
    "Now we can apply this function to prepare our data for input to Word2Vec (this will take a couple minutes):"
   ]
  },
  {
   "cell_type": "code",
   "execution_count": 5,
   "metadata": {},
   "outputs": [
    {
     "name": "stdout",
     "output_type": "stream",
     "text": [
      "Parsing sentences from training set\n"
     ]
    },
    {
     "name": "stderr",
     "output_type": "stream",
     "text": [
      "C:\\Users\\saurabh\\Anaconda3\\lib\\site-packages\\bs4\\__init__.py:272: UserWarning: \"b'.'\" looks like a filename, not markup. You should probably open this file and pass the filehandle into Beautiful Soup.\n",
      "  ' Beautiful Soup.' % markup)\n",
      "C:\\Users\\saurabh\\Anaconda3\\lib\\site-packages\\bs4\\__init__.py:272: UserWarning: \"b'...'\" looks like a filename, not markup. You should probably open this file and pass the filehandle into Beautiful Soup.\n",
      "  ' Beautiful Soup.' % markup)\n",
      "C:\\Users\\saurabh\\Anaconda3\\lib\\site-packages\\bs4\\__init__.py:335: UserWarning: \"http://www.happierabroad.com\"\" looks like a URL. Beautiful Soup is not an HTTP client. You should probably use an HTTP client like requests to get the document behind the URL, and feed that document to Beautiful Soup.\n",
      "  ' that document to Beautiful Soup.' % decoded_markup\n"
     ]
    },
    {
     "name": "stdout",
     "output_type": "stream",
     "text": [
      "Parsing sentences from unlabeled set\n"
     ]
    },
    {
     "name": "stderr",
     "output_type": "stream",
     "text": [
      "C:\\Users\\saurabh\\Anaconda3\\lib\\site-packages\\bs4\\__init__.py:335: UserWarning: \"http://www.archive.org/details/LovefromaStranger\"\" looks like a URL. Beautiful Soup is not an HTTP client. You should probably use an HTTP client like requests to get the document behind the URL, and feed that document to Beautiful Soup.\n",
      "  ' that document to Beautiful Soup.' % decoded_markup\n",
      "C:\\Users\\saurabh\\Anaconda3\\lib\\site-packages\\bs4\\__init__.py:335: UserWarning: \"http://www.loosechangeguide.com/LooseChangeGuide.html\"\" looks like a URL. Beautiful Soup is not an HTTP client. You should probably use an HTTP client like requests to get the document behind the URL, and feed that document to Beautiful Soup.\n",
      "  ' that document to Beautiful Soup.' % decoded_markup\n",
      "C:\\Users\\saurabh\\Anaconda3\\lib\\site-packages\\bs4\\__init__.py:272: UserWarning: \"b'... ...'\" looks like a filename, not markup. You should probably open this file and pass the filehandle into Beautiful Soup.\n",
      "  ' Beautiful Soup.' % markup)\n",
      "C:\\Users\\saurabh\\Anaconda3\\lib\\site-packages\\bs4\\__init__.py:272: UserWarning: \"b'....'\" looks like a filename, not markup. You should probably open this file and pass the filehandle into Beautiful Soup.\n",
      "  ' Beautiful Soup.' % markup)\n",
      "C:\\Users\\saurabh\\Anaconda3\\lib\\site-packages\\bs4\\__init__.py:335: UserWarning: \"http://www.msnbc.msn.com/id/4972055/site/newsweek/\"\" looks like a URL. Beautiful Soup is not an HTTP client. You should probably use an HTTP client like requests to get the document behind the URL, and feed that document to Beautiful Soup.\n",
      "  ' that document to Beautiful Soup.' % decoded_markup\n",
      "C:\\Users\\saurabh\\Anaconda3\\lib\\site-packages\\bs4\\__init__.py:272: UserWarning: \"b'..'\" looks like a filename, not markup. You should probably open this file and pass the filehandle into Beautiful Soup.\n",
      "  ' Beautiful Soup.' % markup)\n",
      "C:\\Users\\saurabh\\Anaconda3\\lib\\site-packages\\bs4\\__init__.py:335: UserWarning: \"http://www.youtube.com/watch?v=a0KSqelmgN8\"\" looks like a URL. Beautiful Soup is not an HTTP client. You should probably use an HTTP client like requests to get the document behind the URL, and feed that document to Beautiful Soup.\n",
      "  ' that document to Beautiful Soup.' % decoded_markup\n",
      "C:\\Users\\saurabh\\Anaconda3\\lib\\site-packages\\bs4\\__init__.py:272: UserWarning: \"b'.. .'\" looks like a filename, not markup. You should probably open this file and pass the filehandle into Beautiful Soup.\n",
      "  ' Beautiful Soup.' % markup)\n",
      "C:\\Users\\saurabh\\Anaconda3\\lib\\site-packages\\bs4\\__init__.py:335: UserWarning: \"http://jake-weird.blogspot.com/2007/08/beneath.html\"\" looks like a URL. Beautiful Soup is not an HTTP client. You should probably use an HTTP client like requests to get the document behind the URL, and feed that document to Beautiful Soup.\n",
      "  ' that document to Beautiful Soup.' % decoded_markup\n"
     ]
    }
   ],
   "source": [
    "sentences = []  # Initialize an empty list of sentences\n",
    "\n",
    "print (\"Parsing sentences from training set\")\n",
    "for review in train[\"review\"]:\n",
    "    sentences += review_to_sentences(review, tokenizer)\n",
    "\n",
    "print (\"Parsing sentences from unlabeled set\")\n",
    "for review in unlabeled_train[\"review\"]:\n",
    "    sentences += review_to_sentences(review, tokenizer)\n"
   ]
  },
  {
   "cell_type": "markdown",
   "metadata": {},
   "source": [
    "You may get a few warnings from BeautifulSoup about URLs in the sentences. These are nothing to worry about (although you may want to consider removing URLs when cleaning the text). \n",
    "\n",
    "We can take a look at the output to see how this differs from Part 1:"
   ]
  },
  {
   "cell_type": "code",
   "execution_count": 6,
   "metadata": {},
   "outputs": [
    {
     "name": "stdout",
     "output_type": "stream",
     "text": [
      "795538\n"
     ]
    }
   ],
   "source": [
    "print(len(sentences))"
   ]
  },
  {
   "cell_type": "code",
   "execution_count": 7,
   "metadata": {},
   "outputs": [
    {
     "name": "stdout",
     "output_type": "stream",
     "text": [
      "['with', 'all', 'this', 'stuff', 'going', 'down', 'at', 'the', 'moment', 'with', 'mj', 'i', 've', 'started', 'listening', 'to', 'his', 'music', 'watching', 'the', 'odd', 'documentary', 'here', 'and', 'there', 'watched', 'the', 'wiz', 'and', 'watched', 'moonwalker', 'again']\n"
     ]
    }
   ],
   "source": [
    "print (sentences[0])"
   ]
  },
  {
   "cell_type": "markdown",
   "metadata": {},
   "source": [
    "Training and Saving Your Model\n",
    "With the list of nicely parsed sentences, we're ready to train the model. There are a number of parameter choices that affect the run time and the quality of the final model that is produced. For details on the algorithms below, see the word2vec API documentation as well as the Google documentation. \n",
    "\n",
    "Architecture: Architecture options are skip-gram (default) or continuous bag of words. We found that skip-gram was very slightly slower but produced better results.\n",
    "\n",
    "Training algorithm: Hierarchical softmax (default) or negative sampling. For us, the default worked well.\n",
    "\n",
    "Downsampling of frequent words: The Google documentation recommends values between .00001 and .001. For us, values closer 0.001 seemed to improve the accuracy of the final model.\n",
    "\n",
    "Word vector dimensionality: More features result in longer runtimes, and often, but not always, result in better models. Reasonable values can be in the tens to hundreds; we used 300.\n",
    "\n",
    "Context / window size: How many words of context should the training algorithm take into account? 10 seems to work well for hierarchical softmax (more is better, up to a point).\n",
    "\n",
    "Worker threads: Number of parallel processes to run. This is computer-specific, but between 4 and 6 should work on most systems.\n",
    "\n",
    "Minimum word count: This helps limit the size of the vocabulary to meaningful words. Any word that does not occur at least this many times across all documents is ignored. Reasonable values could be between 10 and 100. In this case, since each movie occurs 30 times, we set the minimum word count to 40, to avoid attaching too much importance to individual movie titles. This resulted in an overall vocabulary size of around 15,000 words. Higher values also help limit run time.\n",
    "Choosing parameters is not easy, but once we have chosen our parameters, creating a Word2Vec model is straightforward:"
   ]
  },
  {
   "cell_type": "code",
   "execution_count": 8,
   "metadata": {},
   "outputs": [
    {
     "name": "stderr",
     "output_type": "stream",
     "text": [
      "2019-11-05 03:33:21,817 : INFO : 'pattern' package not found; tag filters are not available for English\n",
      "C:\\Users\\saurabh\\Anaconda3\\lib\\site-packages\\gensim\\models\\base_any2vec.py:743: UserWarning: C extension not loaded, training will be slow. Install a C compiler and reinstall gensim for fast training.\n",
      "  \"C extension not loaded, training will be slow. \"\n",
      "2019-11-05 03:33:21,895 : INFO : collecting all words and their counts\n",
      "2019-11-05 03:33:21,900 : INFO : PROGRESS: at sentence #0, processed 0 words, keeping 0 word types\n",
      "2019-11-05 03:33:22,064 : INFO : PROGRESS: at sentence #10000, processed 225803 words, keeping 17776 word types\n"
     ]
    },
    {
     "name": "stdout",
     "output_type": "stream",
     "text": [
      "Training model...\n"
     ]
    },
    {
     "name": "stderr",
     "output_type": "stream",
     "text": [
      "2019-11-05 03:33:22,236 : INFO : PROGRESS: at sentence #20000, processed 451892 words, keeping 24948 word types\n",
      "2019-11-05 03:33:22,482 : INFO : PROGRESS: at sentence #30000, processed 671315 words, keeping 30034 word types\n",
      "2019-11-05 03:33:22,640 : INFO : PROGRESS: at sentence #40000, processed 897815 words, keeping 34348 word types\n",
      "2019-11-05 03:33:22,799 : INFO : PROGRESS: at sentence #50000, processed 1116963 words, keeping 37761 word types\n",
      "2019-11-05 03:33:22,982 : INFO : PROGRESS: at sentence #60000, processed 1338404 words, keeping 40723 word types\n",
      "2019-11-05 03:33:23,115 : INFO : PROGRESS: at sentence #70000, processed 1561580 words, keeping 43333 word types\n",
      "2019-11-05 03:33:23,266 : INFO : PROGRESS: at sentence #80000, processed 1780887 words, keeping 45714 word types\n",
      "2019-11-05 03:33:23,486 : INFO : PROGRESS: at sentence #90000, processed 2004996 words, keeping 48135 word types\n",
      "2019-11-05 03:33:23,859 : INFO : PROGRESS: at sentence #100000, processed 2226966 words, keeping 50207 word types\n",
      "2019-11-05 03:33:24,250 : INFO : PROGRESS: at sentence #110000, processed 2446580 words, keeping 52081 word types\n",
      "2019-11-05 03:33:24,544 : INFO : PROGRESS: at sentence #120000, processed 2668775 words, keeping 54119 word types\n",
      "2019-11-05 03:33:24,947 : INFO : PROGRESS: at sentence #130000, processed 2894303 words, keeping 55847 word types\n",
      "2019-11-05 03:33:25,190 : INFO : PROGRESS: at sentence #140000, processed 3107005 words, keeping 57346 word types\n",
      "2019-11-05 03:33:25,394 : INFO : PROGRESS: at sentence #150000, processed 3332627 words, keeping 59055 word types\n",
      "2019-11-05 03:33:25,616 : INFO : PROGRESS: at sentence #160000, processed 3555315 words, keeping 60617 word types\n",
      "2019-11-05 03:33:25,839 : INFO : PROGRESS: at sentence #170000, processed 3778655 words, keeping 62077 word types\n",
      "2019-11-05 03:33:26,016 : INFO : PROGRESS: at sentence #180000, processed 3999236 words, keeping 63496 word types\n",
      "2019-11-05 03:33:26,141 : INFO : PROGRESS: at sentence #190000, processed 4224449 words, keeping 64794 word types\n",
      "2019-11-05 03:33:26,323 : INFO : PROGRESS: at sentence #200000, processed 4448603 words, keeping 66087 word types\n",
      "2019-11-05 03:33:26,521 : INFO : PROGRESS: at sentence #210000, processed 4669967 words, keeping 67390 word types\n",
      "2019-11-05 03:33:26,712 : INFO : PROGRESS: at sentence #220000, processed 4894968 words, keeping 68697 word types\n",
      "2019-11-05 03:33:26,951 : INFO : PROGRESS: at sentence #230000, processed 5117545 words, keeping 69958 word types\n",
      "2019-11-05 03:33:27,236 : INFO : PROGRESS: at sentence #240000, processed 5345050 words, keeping 71167 word types\n",
      "2019-11-05 03:33:27,427 : INFO : PROGRESS: at sentence #250000, processed 5559165 words, keeping 72351 word types\n",
      "2019-11-05 03:33:27,592 : INFO : PROGRESS: at sentence #260000, processed 5779146 words, keeping 73478 word types\n",
      "2019-11-05 03:33:27,785 : INFO : PROGRESS: at sentence #270000, processed 6000435 words, keeping 74767 word types\n",
      "2019-11-05 03:33:27,951 : INFO : PROGRESS: at sentence #280000, processed 6226314 words, keeping 76369 word types\n",
      "2019-11-05 03:33:28,159 : INFO : PROGRESS: at sentence #290000, processed 6449474 words, keeping 77839 word types\n",
      "2019-11-05 03:33:28,369 : INFO : PROGRESS: at sentence #300000, processed 6674077 words, keeping 79171 word types\n",
      "2019-11-05 03:33:28,554 : INFO : PROGRESS: at sentence #310000, processed 6899391 words, keeping 80480 word types\n",
      "2019-11-05 03:33:28,780 : INFO : PROGRESS: at sentence #320000, processed 7124278 words, keeping 81808 word types\n",
      "2019-11-05 03:33:28,946 : INFO : PROGRESS: at sentence #330000, processed 7346021 words, keeping 83030 word types\n",
      "2019-11-05 03:33:29,149 : INFO : PROGRESS: at sentence #340000, processed 7575533 words, keeping 84280 word types\n",
      "2019-11-05 03:33:29,577 : INFO : PROGRESS: at sentence #350000, processed 7798803 words, keeping 85425 word types\n",
      "2019-11-05 03:33:29,968 : INFO : PROGRESS: at sentence #360000, processed 8019427 words, keeping 86596 word types\n",
      "2019-11-05 03:33:30,250 : INFO : PROGRESS: at sentence #370000, processed 8246619 words, keeping 87708 word types\n",
      "2019-11-05 03:33:30,519 : INFO : PROGRESS: at sentence #380000, processed 8471766 words, keeping 88878 word types\n",
      "2019-11-05 03:33:30,881 : INFO : PROGRESS: at sentence #390000, processed 8701497 words, keeping 89907 word types\n",
      "2019-11-05 03:33:31,166 : INFO : PROGRESS: at sentence #400000, processed 8924446 words, keeping 90916 word types\n",
      "2019-11-05 03:33:31,558 : INFO : PROGRESS: at sentence #410000, processed 9145796 words, keeping 91880 word types\n",
      "2019-11-05 03:33:31,917 : INFO : PROGRESS: at sentence #420000, processed 9366876 words, keeping 92912 word types\n",
      "2019-11-05 03:33:32,316 : INFO : PROGRESS: at sentence #430000, processed 9594413 words, keeping 93932 word types\n",
      "2019-11-05 03:33:32,715 : INFO : PROGRESS: at sentence #440000, processed 9821166 words, keeping 94906 word types\n",
      "2019-11-05 03:33:33,082 : INFO : PROGRESS: at sentence #450000, processed 10044928 words, keeping 96036 word types\n",
      "2019-11-05 03:33:33,440 : INFO : PROGRESS: at sentence #460000, processed 10277688 words, keeping 97088 word types\n",
      "2019-11-05 03:33:33,673 : INFO : PROGRESS: at sentence #470000, processed 10505613 words, keeping 97933 word types\n",
      "2019-11-05 03:33:34,035 : INFO : PROGRESS: at sentence #480000, processed 10725997 words, keeping 98862 word types\n",
      "2019-11-05 03:33:34,296 : INFO : PROGRESS: at sentence #490000, processed 10952741 words, keeping 99871 word types\n",
      "2019-11-05 03:33:34,514 : INFO : PROGRESS: at sentence #500000, processed 11174397 words, keeping 100765 word types\n",
      "2019-11-05 03:33:34,875 : INFO : PROGRESS: at sentence #510000, processed 11399672 words, keeping 101699 word types\n",
      "2019-11-05 03:33:35,341 : INFO : PROGRESS: at sentence #520000, processed 11623020 words, keeping 102598 word types\n",
      "2019-11-05 03:33:35,809 : INFO : PROGRESS: at sentence #530000, processed 11847418 words, keeping 103400 word types\n",
      "2019-11-05 03:33:36,276 : INFO : PROGRESS: at sentence #540000, processed 12072033 words, keeping 104265 word types\n",
      "2019-11-05 03:33:36,631 : INFO : PROGRESS: at sentence #550000, processed 12297571 words, keeping 105133 word types\n",
      "2019-11-05 03:33:37,024 : INFO : PROGRESS: at sentence #560000, processed 12518861 words, keeping 105997 word types\n",
      "2019-11-05 03:33:37,344 : INFO : PROGRESS: at sentence #570000, processed 12747916 words, keeping 106787 word types\n",
      "2019-11-05 03:33:37,650 : INFO : PROGRESS: at sentence #580000, processed 12969412 words, keeping 107665 word types\n",
      "2019-11-05 03:33:37,917 : INFO : PROGRESS: at sentence #590000, processed 13194937 words, keeping 108501 word types\n",
      "2019-11-05 03:33:38,145 : INFO : PROGRESS: at sentence #600000, processed 13417135 words, keeping 109218 word types\n",
      "2019-11-05 03:33:38,484 : INFO : PROGRESS: at sentence #610000, processed 13638158 words, keeping 110092 word types\n",
      "2019-11-05 03:33:38,981 : INFO : PROGRESS: at sentence #620000, processed 13864483 words, keeping 110837 word types\n",
      "2019-11-05 03:33:39,527 : INFO : PROGRESS: at sentence #630000, processed 14088769 words, keeping 111610 word types\n",
      "2019-11-05 03:33:39,920 : INFO : PROGRESS: at sentence #640000, processed 14309552 words, keeping 112416 word types\n",
      "2019-11-05 03:33:40,240 : INFO : PROGRESS: at sentence #650000, processed 14535308 words, keeping 113196 word types\n",
      "2019-11-05 03:33:40,522 : INFO : PROGRESS: at sentence #660000, processed 14758098 words, keeping 113945 word types\n",
      "2019-11-05 03:33:40,956 : INFO : PROGRESS: at sentence #670000, processed 14981482 words, keeping 114643 word types\n",
      "2019-11-05 03:33:41,227 : INFO : PROGRESS: at sentence #680000, processed 15206314 words, keeping 115354 word types\n",
      "2019-11-05 03:33:41,454 : INFO : PROGRESS: at sentence #690000, processed 15428507 words, keeping 116131 word types\n",
      "2019-11-05 03:33:41,745 : INFO : PROGRESS: at sentence #700000, processed 15657213 words, keeping 116943 word types\n",
      "2019-11-05 03:33:42,026 : INFO : PROGRESS: at sentence #710000, processed 15880202 words, keeping 117596 word types\n",
      "2019-11-05 03:33:42,237 : INFO : PROGRESS: at sentence #720000, processed 16105489 words, keeping 118221 word types\n",
      "2019-11-05 03:33:42,435 : INFO : PROGRESS: at sentence #730000, processed 16331870 words, keeping 118954 word types\n"
     ]
    },
    {
     "name": "stderr",
     "output_type": "stream",
     "text": [
      "2019-11-05 03:33:42,732 : INFO : PROGRESS: at sentence #740000, processed 16552903 words, keeping 119668 word types\n",
      "2019-11-05 03:33:42,894 : INFO : PROGRESS: at sentence #750000, processed 16771230 words, keeping 120295 word types\n",
      "2019-11-05 03:33:43,061 : INFO : PROGRESS: at sentence #760000, processed 16990622 words, keeping 120930 word types\n",
      "2019-11-05 03:33:43,221 : INFO : PROGRESS: at sentence #770000, processed 17217759 words, keeping 121703 word types\n",
      "2019-11-05 03:33:43,381 : INFO : PROGRESS: at sentence #780000, processed 17447905 words, keeping 122402 word types\n",
      "2019-11-05 03:33:43,524 : INFO : PROGRESS: at sentence #790000, processed 17674981 words, keeping 123066 word types\n",
      "2019-11-05 03:33:43,614 : INFO : collected 123504 word types from a corpus of 17798082 raw words and 795538 sentences\n",
      "2019-11-05 03:33:43,616 : INFO : Loading a fresh vocabulary\n",
      "2019-11-05 03:33:44,141 : INFO : effective_min_count=40 retains 16490 unique words (13% of original 123504, drops 107014)\n",
      "2019-11-05 03:33:44,143 : INFO : effective_min_count=40 leaves 17238940 word corpus (96% of original 17798082, drops 559142)\n",
      "2019-11-05 03:33:44,386 : INFO : deleting the raw counts dictionary of 123504 items\n",
      "2019-11-05 03:33:44,397 : INFO : sample=0.001 downsamples 48 most-common words\n",
      "2019-11-05 03:33:44,412 : INFO : downsampling leaves estimated 12749658 word corpus (74.0% of prior 17238940)\n",
      "2019-11-05 03:33:44,601 : INFO : estimated required memory for 16490 words and 300 dimensions: 47821000 bytes\n",
      "2019-11-05 03:33:44,604 : INFO : resetting layer weights\n",
      "2019-11-05 03:33:46,597 : INFO : training model with 4 workers on 16490 vocabulary and 300 features, using sg=0 hs=0 sample=0.001 negative=5 window=10\n",
      "2019-11-05 03:34:14,821 : INFO : EPOCH 1 - PROGRESS: at 0.06% examples, 255 words/s, in_qsize 7, out_qsize 0\n",
      "2019-11-05 03:34:16,286 : INFO : EPOCH 1 - PROGRESS: at 0.22% examples, 970 words/s, in_qsize 8, out_qsize 0\n",
      "2019-11-05 03:34:43,159 : INFO : EPOCH 1 - PROGRESS: at 0.29% examples, 636 words/s, in_qsize 8, out_qsize 0\n",
      "2019-11-05 03:34:44,836 : INFO : EPOCH 1 - PROGRESS: at 0.44% examples, 986 words/s, in_qsize 8, out_qsize 0\n",
      "2019-11-05 03:35:13,279 : INFO : EPOCH 1 - PROGRESS: at 0.50% examples, 745 words/s, in_qsize 7, out_qsize 0\n",
      "2019-11-05 03:35:14,937 : INFO : EPOCH 1 - PROGRESS: at 0.61% examples, 892 words/s, in_qsize 8, out_qsize 0\n",
      "2019-11-05 03:35:46,299 : INFO : EPOCH 1 - PROGRESS: at 0.72% examples, 777 words/s, in_qsize 7, out_qsize 0\n",
      "2019-11-05 03:35:47,476 : INFO : EPOCH 1 - PROGRESS: at 0.78% examples, 828 words/s, in_qsize 7, out_qsize 0\n",
      "2019-11-05 03:35:48,998 : INFO : EPOCH 1 - PROGRESS: at 0.84% examples, 877 words/s, in_qsize 8, out_qsize 0\n",
      "2019-11-05 03:36:17,437 : INFO : EPOCH 1 - PROGRESS: at 0.95% examples, 806 words/s, in_qsize 7, out_qsize 0\n",
      "2019-11-05 03:36:21,206 : INFO : EPOCH 1 - PROGRESS: at 1.06% examples, 880 words/s, in_qsize 7, out_qsize 0\n",
      "2019-11-05 03:36:47,035 : INFO : EPOCH 1 - PROGRESS: at 1.17% examples, 833 words/s, in_qsize 7, out_qsize 0\n",
      "2019-11-05 03:36:48,455 : INFO : EPOCH 1 - PROGRESS: at 1.22% examples, 865 words/s, in_qsize 7, out_qsize 0\n",
      "2019-11-05 03:36:52,360 : INFO : EPOCH 1 - PROGRESS: at 1.28% examples, 885 words/s, in_qsize 7, out_qsize 0\n",
      "2019-11-05 03:37:17,674 : INFO : EPOCH 1 - PROGRESS: at 1.39% examples, 846 words/s, in_qsize 7, out_qsize 0\n",
      "2019-11-05 03:37:19,024 : INFO : EPOCH 1 - PROGRESS: at 1.45% examples, 875 words/s, in_qsize 7, out_qsize 0\n",
      "2019-11-05 03:37:23,114 : INFO : EPOCH 1 - PROGRESS: at 1.51% examples, 891 words/s, in_qsize 8, out_qsize 0\n",
      "2019-11-05 03:37:24,338 : INFO : EPOCH 1 - PROGRESS: at 1.56% examples, 919 words/s, in_qsize 7, out_qsize 0\n",
      "2019-11-05 03:37:45,289 : INFO : EPOCH 1 - PROGRESS: at 1.62% examples, 868 words/s, in_qsize 7, out_qsize 0\n",
      "2019-11-05 03:37:48,080 : INFO : EPOCH 1 - PROGRESS: at 1.67% examples, 887 words/s, in_qsize 7, out_qsize 0\n",
      "2019-11-05 03:37:51,735 : INFO : EPOCH 1 - PROGRESS: at 1.73% examples, 904 words/s, in_qsize 7, out_qsize 0\n",
      "2019-11-05 03:38:12,203 : INFO : EPOCH 1 - PROGRESS: at 1.84% examples, 888 words/s, in_qsize 7, out_qsize 0\n",
      "2019-11-05 03:38:15,477 : INFO : EPOCH 1 - PROGRESS: at 1.90% examples, 903 words/s, in_qsize 8, out_qsize 0\n",
      "2019-11-05 03:38:18,158 : INFO : EPOCH 1 - PROGRESS: at 1.96% examples, 920 words/s, in_qsize 8, out_qsize 0\n",
      "2019-11-05 03:38:19,640 : INFO : EPOCH 1 - PROGRESS: at 2.01% examples, 942 words/s, in_qsize 7, out_qsize 0\n",
      "2019-11-05 03:38:43,421 : INFO : EPOCH 1 - PROGRESS: at 2.07% examples, 891 words/s, in_qsize 7, out_qsize 0\n",
      "2019-11-05 03:38:46,729 : INFO : EPOCH 1 - PROGRESS: at 2.12% examples, 905 words/s, in_qsize 7, out_qsize 0\n",
      "2019-11-05 03:38:48,763 : INFO : EPOCH 1 - PROGRESS: at 2.18% examples, 922 words/s, in_qsize 7, out_qsize 0\n",
      "2019-11-05 03:38:50,955 : INFO : EPOCH 1 - PROGRESS: at 2.23% examples, 939 words/s, in_qsize 7, out_qsize 0\n",
      "2019-11-05 03:39:12,591 : INFO : EPOCH 1 - PROGRESS: at 2.29% examples, 899 words/s, in_qsize 8, out_qsize 0\n",
      "2019-11-05 03:39:17,445 : INFO : EPOCH 1 - PROGRESS: at 2.34% examples, 907 words/s, in_qsize 8, out_qsize 0\n",
      "2019-11-05 03:39:20,040 : INFO : EPOCH 1 - PROGRESS: at 2.39% examples, 922 words/s, in_qsize 7, out_qsize 0\n",
      "2019-11-05 03:39:22,409 : INFO : EPOCH 1 - PROGRESS: at 2.45% examples, 937 words/s, in_qsize 7, out_qsize 0\n",
      "2019-11-05 03:39:43,886 : INFO : EPOCH 1 - PROGRESS: at 2.50% examples, 900 words/s, in_qsize 8, out_qsize 0\n",
      "2019-11-05 03:39:49,484 : INFO : EPOCH 1 - PROGRESS: at 2.56% examples, 906 words/s, in_qsize 8, out_qsize 0\n",
      "2019-11-05 03:39:51,268 : INFO : EPOCH 1 - PROGRESS: at 2.62% examples, 922 words/s, in_qsize 7, out_qsize 0\n",
      "2019-11-05 03:40:09,672 : INFO : EPOCH 1 - PROGRESS: at 2.74% examples, 915 words/s, in_qsize 8, out_qsize 0\n",
      "2019-11-05 03:40:15,022 : INFO : EPOCH 1 - PROGRESS: at 2.80% examples, 920 words/s, in_qsize 8, out_qsize 0\n",
      "2019-11-05 03:40:17,332 : INFO : EPOCH 1 - PROGRESS: at 2.85% examples, 933 words/s, in_qsize 7, out_qsize 0\n",
      "2019-11-05 03:40:35,974 : INFO : EPOCH 1 - PROGRESS: at 2.97% examples, 925 words/s, in_qsize 7, out_qsize 0\n",
      "2019-11-05 03:40:40,627 : INFO : EPOCH 1 - PROGRESS: at 3.02% examples, 932 words/s, in_qsize 7, out_qsize 0\n",
      "2019-11-05 03:40:43,519 : INFO : EPOCH 1 - PROGRESS: at 3.08% examples, 943 words/s, in_qsize 7, out_qsize 0\n",
      "2019-11-05 03:41:02,056 : INFO : EPOCH 1 - PROGRESS: at 3.19% examples, 936 words/s, in_qsize 8, out_qsize 0\n",
      "2019-11-05 03:41:05,508 : INFO : EPOCH 1 - PROGRESS: at 3.25% examples, 945 words/s, in_qsize 7, out_qsize 0\n",
      "2019-11-05 03:41:08,487 : INFO : EPOCH 1 - PROGRESS: at 3.31% examples, 955 words/s, in_qsize 7, out_qsize 0\n",
      "2019-11-05 03:41:28,344 : INFO : EPOCH 1 - PROGRESS: at 3.42% examples, 945 words/s, in_qsize 8, out_qsize 0\n",
      "2019-11-05 03:41:32,701 : INFO : EPOCH 1 - PROGRESS: at 3.48% examples, 951 words/s, in_qsize 8, out_qsize 0\n",
      "2019-11-05 03:41:35,014 : INFO : EPOCH 1 - PROGRESS: at 3.53% examples, 962 words/s, in_qsize 8, out_qsize 0\n",
      "2019-11-05 03:41:56,760 : INFO : EPOCH 1 - PROGRESS: at 3.65% examples, 948 words/s, in_qsize 7, out_qsize 0\n",
      "2019-11-05 03:42:01,110 : INFO : EPOCH 1 - PROGRESS: at 3.70% examples, 954 words/s, in_qsize 8, out_qsize 0\n",
      "2019-11-05 03:42:03,447 : INFO : EPOCH 1 - PROGRESS: at 3.76% examples, 964 words/s, in_qsize 7, out_qsize 0\n",
      "2019-11-05 03:42:24,142 : INFO : EPOCH 1 - PROGRESS: at 3.87% examples, 953 words/s, in_qsize 7, out_qsize 0\n",
      "2019-11-05 03:42:29,291 : INFO : EPOCH 1 - PROGRESS: at 3.93% examples, 957 words/s, in_qsize 7, out_qsize 0\n",
      "2019-11-05 03:42:30,617 : INFO : EPOCH 1 - PROGRESS: at 3.99% examples, 968 words/s, in_qsize 8, out_qsize 0\n",
      "2019-11-05 03:42:54,413 : INFO : EPOCH 1 - PROGRESS: at 4.10% examples, 952 words/s, in_qsize 7, out_qsize 0\n",
      "2019-11-05 03:42:59,510 : INFO : EPOCH 1 - PROGRESS: at 4.16% examples, 957 words/s, in_qsize 7, out_qsize 0\n",
      "2019-11-05 03:43:02,295 : INFO : EPOCH 1 - PROGRESS: at 4.27% examples, 978 words/s, in_qsize 7, out_qsize 0\n",
      "2019-11-05 03:43:25,943 : INFO : EPOCH 1 - PROGRESS: at 4.32% examples, 950 words/s, in_qsize 7, out_qsize 0\n",
      "2019-11-05 03:43:31,874 : INFO : EPOCH 1 - PROGRESS: at 4.37% examples, 953 words/s, in_qsize 7, out_qsize 0\n",
      "2019-11-05 03:43:35,278 : INFO : EPOCH 1 - PROGRESS: at 4.48% examples, 972 words/s, in_qsize 8, out_qsize 0\n"
     ]
    },
    {
     "name": "stderr",
     "output_type": "stream",
     "text": [
      "2019-11-05 03:43:58,470 : INFO : EPOCH 1 - PROGRESS: at 4.54% examples, 946 words/s, in_qsize 8, out_qsize 0\n",
      "2019-11-05 03:44:04,855 : INFO : EPOCH 1 - PROGRESS: at 4.59% examples, 948 words/s, in_qsize 7, out_qsize 0\n",
      "2019-11-05 03:44:08,566 : INFO : EPOCH 1 - PROGRESS: at 4.70% examples, 965 words/s, in_qsize 8, out_qsize 0\n",
      "2019-11-05 03:44:27,304 : INFO : EPOCH 1 - PROGRESS: at 4.75% examples, 948 words/s, in_qsize 7, out_qsize 0\n",
      "2019-11-05 03:44:34,433 : INFO : EPOCH 1 - PROGRESS: at 4.81% examples, 949 words/s, in_qsize 7, out_qsize 0\n",
      "2019-11-05 03:44:37,886 : INFO : EPOCH 1 - PROGRESS: at 4.92% examples, 966 words/s, in_qsize 7, out_qsize 0\n",
      "2019-11-05 03:44:57,667 : INFO : EPOCH 1 - PROGRESS: at 4.98% examples, 948 words/s, in_qsize 8, out_qsize 0\n",
      "2019-11-05 03:45:04,928 : INFO : EPOCH 1 - PROGRESS: at 5.03% examples, 948 words/s, in_qsize 7, out_qsize 0\n",
      "2019-11-05 03:45:07,397 : INFO : EPOCH 1 - PROGRESS: at 5.14% examples, 966 words/s, in_qsize 8, out_qsize 0\n",
      "2019-11-05 03:45:26,722 : INFO : EPOCH 1 - PROGRESS: at 5.19% examples, 950 words/s, in_qsize 8, out_qsize 0\n",
      "2019-11-05 03:45:32,230 : INFO : EPOCH 1 - PROGRESS: at 5.25% examples, 952 words/s, in_qsize 8, out_qsize 0\n",
      "2019-11-05 03:45:33,622 : INFO : EPOCH 1 - PROGRESS: at 5.30% examples, 961 words/s, in_qsize 7, out_qsize 0\n",
      "2019-11-05 03:45:35,675 : INFO : EPOCH 1 - PROGRESS: at 5.37% examples, 968 words/s, in_qsize 8, out_qsize 0\n",
      "2019-11-05 03:45:59,231 : INFO : EPOCH 1 - PROGRESS: at 5.42% examples, 947 words/s, in_qsize 7, out_qsize 0\n",
      "2019-11-05 03:46:05,625 : INFO : EPOCH 1 - PROGRESS: at 5.48% examples, 948 words/s, in_qsize 7, out_qsize 0\n",
      "2019-11-05 03:46:07,066 : INFO : EPOCH 1 - PROGRESS: at 5.54% examples, 956 words/s, in_qsize 7, out_qsize 0\n",
      "2019-11-05 03:46:09,109 : INFO : EPOCH 1 - PROGRESS: at 5.60% examples, 963 words/s, in_qsize 7, out_qsize 0\n",
      "2019-11-05 03:46:31,620 : INFO : EPOCH 1 - PROGRESS: at 5.65% examples, 944 words/s, in_qsize 7, out_qsize 0\n",
      "2019-11-05 03:46:37,307 : INFO : EPOCH 1 - PROGRESS: at 5.71% examples, 946 words/s, in_qsize 8, out_qsize 0\n",
      "2019-11-05 03:46:39,281 : INFO : EPOCH 1 - PROGRESS: at 5.81% examples, 962 words/s, in_qsize 7, out_qsize 0\n",
      "2019-11-05 03:47:01,201 : INFO : EPOCH 1 - PROGRESS: at 5.87% examples, 945 words/s, in_qsize 8, out_qsize 0\n",
      "2019-11-05 03:47:04,912 : INFO : EPOCH 1 - PROGRESS: at 5.92% examples, 949 words/s, in_qsize 7, out_qsize 0\n",
      "2019-11-05 03:47:06,556 : INFO : EPOCH 1 - PROGRESS: at 5.98% examples, 956 words/s, in_qsize 7, out_qsize 0\n",
      "2019-11-05 03:47:07,706 : INFO : EPOCH 1 - PROGRESS: at 6.04% examples, 964 words/s, in_qsize 7, out_qsize 0\n",
      "2019-11-05 03:47:29,566 : INFO : EPOCH 1 - PROGRESS: at 6.09% examples, 947 words/s, in_qsize 7, out_qsize 0\n",
      "2019-11-05 03:47:33,337 : INFO : EPOCH 1 - PROGRESS: at 6.18% examples, 951 words/s, in_qsize 7, out_qsize 0\n",
      "2019-11-05 03:47:35,900 : INFO : EPOCH 1 - PROGRESS: at 6.23% examples, 957 words/s, in_qsize 7, out_qsize 0\n",
      "2019-11-05 03:47:37,886 : INFO : EPOCH 1 - PROGRESS: at 6.29% examples, 963 words/s, in_qsize 8, out_qsize 0\n",
      "2019-11-05 03:47:59,247 : INFO : EPOCH 1 - PROGRESS: at 6.35% examples, 947 words/s, in_qsize 8, out_qsize 0\n",
      "2019-11-05 03:48:04,220 : INFO : EPOCH 1 - PROGRESS: at 6.40% examples, 950 words/s, in_qsize 7, out_qsize 0\n",
      "2019-11-05 03:48:05,339 : INFO : EPOCH 1 - PROGRESS: at 6.45% examples, 957 words/s, in_qsize 8, out_qsize 0\n",
      "2019-11-05 03:48:06,674 : INFO : EPOCH 1 - PROGRESS: at 6.51% examples, 964 words/s, in_qsize 7, out_qsize 0\n",
      "2019-11-05 03:48:28,146 : INFO : EPOCH 1 - PROGRESS: at 6.56% examples, 949 words/s, in_qsize 7, out_qsize 0\n",
      "2019-11-05 03:48:33,055 : INFO : EPOCH 1 - PROGRESS: at 6.62% examples, 951 words/s, in_qsize 7, out_qsize 0\n",
      "2019-11-05 03:48:36,469 : INFO : EPOCH 1 - PROGRESS: at 6.74% examples, 964 words/s, in_qsize 7, out_qsize 0\n",
      "2019-11-05 03:48:56,246 : INFO : EPOCH 1 - PROGRESS: at 6.80% examples, 951 words/s, in_qsize 8, out_qsize 0\n",
      "2019-11-05 03:49:01,249 : INFO : EPOCH 1 - PROGRESS: at 6.85% examples, 953 words/s, in_qsize 8, out_qsize 0\n",
      "2019-11-05 03:49:05,227 : INFO : EPOCH 1 - PROGRESS: at 6.96% examples, 965 words/s, in_qsize 7, out_qsize 0\n",
      "2019-11-05 03:49:26,633 : INFO : EPOCH 1 - PROGRESS: at 7.02% examples, 950 words/s, in_qsize 8, out_qsize 0\n",
      "2019-11-05 03:49:29,974 : INFO : EPOCH 1 - PROGRESS: at 7.08% examples, 954 words/s, in_qsize 7, out_qsize 0\n",
      "2019-11-05 03:49:32,845 : INFO : EPOCH 1 - PROGRESS: at 7.19% examples, 967 words/s, in_qsize 7, out_qsize 0\n",
      "2019-11-05 03:49:53,828 : INFO : EPOCH 1 - PROGRESS: at 7.24% examples, 953 words/s, in_qsize 7, out_qsize 0\n",
      "2019-11-05 03:49:56,783 : INFO : EPOCH 1 - PROGRESS: at 7.30% examples, 958 words/s, in_qsize 7, out_qsize 0\n",
      "2019-11-05 03:49:57,927 : INFO : EPOCH 1 - PROGRESS: at 7.36% examples, 964 words/s, in_qsize 7, out_qsize 0\n",
      "2019-11-05 03:50:01,326 : INFO : EPOCH 1 - PROGRESS: at 7.42% examples, 968 words/s, in_qsize 7, out_qsize 0\n",
      "2019-11-05 03:50:19,840 : INFO : EPOCH 1 - PROGRESS: at 7.48% examples, 957 words/s, in_qsize 8, out_qsize 0\n",
      "2019-11-05 03:50:23,311 : INFO : EPOCH 1 - PROGRESS: at 7.54% examples, 961 words/s, in_qsize 7, out_qsize 0\n",
      "2019-11-05 03:50:28,312 : INFO : EPOCH 1 - PROGRESS: at 7.66% examples, 970 words/s, in_qsize 7, out_qsize 0\n",
      "2019-11-05 03:50:46,512 : INFO : EPOCH 1 - PROGRESS: at 7.71% examples, 960 words/s, in_qsize 7, out_qsize 0\n",
      "2019-11-05 03:50:49,536 : INFO : EPOCH 1 - PROGRESS: at 7.77% examples, 964 words/s, in_qsize 7, out_qsize 0\n",
      "2019-11-05 03:50:51,360 : INFO : EPOCH 1 - PROGRESS: at 7.83% examples, 969 words/s, in_qsize 7, out_qsize 0\n",
      "2019-11-05 03:50:54,927 : INFO : EPOCH 1 - PROGRESS: at 7.88% examples, 973 words/s, in_qsize 7, out_qsize 0\n",
      "2019-11-05 03:51:13,565 : INFO : EPOCH 1 - PROGRESS: at 7.94% examples, 962 words/s, in_qsize 7, out_qsize 0\n",
      "2019-11-05 03:51:18,396 : INFO : EPOCH 1 - PROGRESS: at 8.00% examples, 965 words/s, in_qsize 8, out_qsize 0\n",
      "2019-11-05 03:51:21,082 : INFO : EPOCH 1 - PROGRESS: at 8.11% examples, 976 words/s, in_qsize 7, out_qsize 0\n",
      "2019-11-05 03:51:39,673 : INFO : EPOCH 1 - PROGRESS: at 8.16% examples, 966 words/s, in_qsize 8, out_qsize 0\n",
      "2019-11-05 03:51:44,463 : INFO : EPOCH 1 - PROGRESS: at 8.22% examples, 968 words/s, in_qsize 8, out_qsize 0\n",
      "2019-11-05 03:51:47,823 : INFO : EPOCH 1 - PROGRESS: at 8.33% examples, 978 words/s, in_qsize 7, out_qsize 0\n",
      "2019-11-05 03:52:04,998 : INFO : EPOCH 1 - PROGRESS: at 8.39% examples, 969 words/s, in_qsize 8, out_qsize 0\n",
      "2019-11-05 03:52:08,840 : INFO : EPOCH 1 - PROGRESS: at 8.45% examples, 972 words/s, in_qsize 7, out_qsize 0\n",
      "2019-11-05 03:52:12,386 : INFO : EPOCH 1 - PROGRESS: at 8.56% examples, 982 words/s, in_qsize 8, out_qsize 0\n",
      "2019-11-05 06:52:26,600 : INFO : EPOCH 1 - PROGRESS: at 8.61% examples, 92 words/s, in_qsize 8, out_qsize 0\n",
      "2019-11-05 06:52:31,140 : INFO : EPOCH 1 - PROGRESS: at 8.67% examples, 92 words/s, in_qsize 7, out_qsize 0\n",
      "2019-11-05 06:52:33,262 : INFO : EPOCH 1 - PROGRESS: at 8.78% examples, 93 words/s, in_qsize 7, out_qsize 0\n",
      "2019-11-05 13:23:21,482 : INFO : EPOCH 1 - PROGRESS: at 8.83% examples, 32 words/s, in_qsize 7, out_qsize 0\n",
      "2019-11-05 13:23:26,359 : INFO : EPOCH 1 - PROGRESS: at 8.89% examples, 32 words/s, in_qsize 8, out_qsize 0\n",
      "2019-11-05 13:23:28,342 : INFO : EPOCH 1 - PROGRESS: at 9.00% examples, 32 words/s, in_qsize 7, out_qsize 0\n",
      "2019-11-05 13:23:49,997 : INFO : EPOCH 1 - PROGRESS: at 9.06% examples, 32 words/s, in_qsize 7, out_qsize 0\n",
      "2019-11-05 13:23:54,758 : INFO : EPOCH 1 - PROGRESS: at 9.12% examples, 33 words/s, in_qsize 8, out_qsize 0\n",
      "2019-11-05 13:23:55,814 : INFO : EPOCH 1 - PROGRESS: at 9.18% examples, 33 words/s, in_qsize 8, out_qsize 0\n",
      "2019-11-05 13:23:57,950 : INFO : EPOCH 1 - PROGRESS: at 9.24% examples, 33 words/s, in_qsize 8, out_qsize 0\n"
     ]
    },
    {
     "ename": "KeyboardInterrupt",
     "evalue": "",
     "output_type": "error",
     "traceback": [
      "\u001b[1;31m---------------------------------------------------------------------------\u001b[0m",
      "\u001b[1;31mKeyboardInterrupt\u001b[0m                         Traceback (most recent call last)",
      "\u001b[1;32m<ipython-input-8-80c39a541a0a>\u001b[0m in \u001b[0;36m<module>\u001b[1;34m\u001b[0m\n\u001b[0;32m     17\u001b[0m model = word2vec.Word2Vec(sentences, workers=num_workers, \\\n\u001b[0;32m     18\u001b[0m             \u001b[0msize\u001b[0m\u001b[1;33m=\u001b[0m\u001b[0mnum_features\u001b[0m\u001b[1;33m,\u001b[0m \u001b[0mmin_count\u001b[0m \u001b[1;33m=\u001b[0m \u001b[0mmin_word_count\u001b[0m\u001b[1;33m,\u001b[0m\u001b[0;31m \u001b[0m\u001b[0;31m\\\u001b[0m\u001b[1;33m\u001b[0m\u001b[1;33m\u001b[0m\u001b[0m\n\u001b[1;32m---> 19\u001b[1;33m             window = context, sample = downsampling)\n\u001b[0m\u001b[0;32m     20\u001b[0m \u001b[1;33m\u001b[0m\u001b[0m\n\u001b[0;32m     21\u001b[0m \u001b[1;31m# If you don't plan to train the model any further, calling\u001b[0m\u001b[1;33m\u001b[0m\u001b[1;33m\u001b[0m\u001b[1;33m\u001b[0m\u001b[0m\n",
      "\u001b[1;32m~\\Anaconda3\\lib\\site-packages\\gensim\\models\\word2vec.py\u001b[0m in \u001b[0;36m__init__\u001b[1;34m(self, sentences, corpus_file, size, alpha, window, min_count, max_vocab_size, sample, seed, workers, min_alpha, sg, hs, negative, ns_exponent, cbow_mean, hashfxn, iter, null_word, trim_rule, sorted_vocab, batch_words, compute_loss, callbacks, max_final_vocab)\u001b[0m\n\u001b[0;32m    781\u001b[0m             \u001b[0mcallbacks\u001b[0m\u001b[1;33m=\u001b[0m\u001b[0mcallbacks\u001b[0m\u001b[1;33m,\u001b[0m \u001b[0mbatch_words\u001b[0m\u001b[1;33m=\u001b[0m\u001b[0mbatch_words\u001b[0m\u001b[1;33m,\u001b[0m \u001b[0mtrim_rule\u001b[0m\u001b[1;33m=\u001b[0m\u001b[0mtrim_rule\u001b[0m\u001b[1;33m,\u001b[0m \u001b[0msg\u001b[0m\u001b[1;33m=\u001b[0m\u001b[0msg\u001b[0m\u001b[1;33m,\u001b[0m \u001b[0malpha\u001b[0m\u001b[1;33m=\u001b[0m\u001b[0malpha\u001b[0m\u001b[1;33m,\u001b[0m \u001b[0mwindow\u001b[0m\u001b[1;33m=\u001b[0m\u001b[0mwindow\u001b[0m\u001b[1;33m,\u001b[0m\u001b[1;33m\u001b[0m\u001b[1;33m\u001b[0m\u001b[0m\n\u001b[0;32m    782\u001b[0m             \u001b[0mseed\u001b[0m\u001b[1;33m=\u001b[0m\u001b[0mseed\u001b[0m\u001b[1;33m,\u001b[0m \u001b[0mhs\u001b[0m\u001b[1;33m=\u001b[0m\u001b[0mhs\u001b[0m\u001b[1;33m,\u001b[0m \u001b[0mnegative\u001b[0m\u001b[1;33m=\u001b[0m\u001b[0mnegative\u001b[0m\u001b[1;33m,\u001b[0m \u001b[0mcbow_mean\u001b[0m\u001b[1;33m=\u001b[0m\u001b[0mcbow_mean\u001b[0m\u001b[1;33m,\u001b[0m \u001b[0mmin_alpha\u001b[0m\u001b[1;33m=\u001b[0m\u001b[0mmin_alpha\u001b[0m\u001b[1;33m,\u001b[0m \u001b[0mcompute_loss\u001b[0m\u001b[1;33m=\u001b[0m\u001b[0mcompute_loss\u001b[0m\u001b[1;33m,\u001b[0m\u001b[1;33m\u001b[0m\u001b[1;33m\u001b[0m\u001b[0m\n\u001b[1;32m--> 783\u001b[1;33m             fast_version=FAST_VERSION)\n\u001b[0m\u001b[0;32m    784\u001b[0m \u001b[1;33m\u001b[0m\u001b[0m\n\u001b[0;32m    785\u001b[0m     def _do_train_epoch(self, corpus_file, thread_id, offset, cython_vocab, thread_private_mem, cur_epoch,\n",
      "\u001b[1;32m~\\Anaconda3\\lib\\site-packages\\gensim\\models\\base_any2vec.py\u001b[0m in \u001b[0;36m__init__\u001b[1;34m(self, sentences, corpus_file, workers, vector_size, epochs, callbacks, batch_words, trim_rule, sg, alpha, window, seed, hs, negative, ns_exponent, cbow_mean, min_alpha, compute_loss, fast_version, **kwargs)\u001b[0m\n\u001b[0;32m    761\u001b[0m                 \u001b[0msentences\u001b[0m\u001b[1;33m=\u001b[0m\u001b[0msentences\u001b[0m\u001b[1;33m,\u001b[0m \u001b[0mcorpus_file\u001b[0m\u001b[1;33m=\u001b[0m\u001b[0mcorpus_file\u001b[0m\u001b[1;33m,\u001b[0m \u001b[0mtotal_examples\u001b[0m\u001b[1;33m=\u001b[0m\u001b[0mself\u001b[0m\u001b[1;33m.\u001b[0m\u001b[0mcorpus_count\u001b[0m\u001b[1;33m,\u001b[0m\u001b[1;33m\u001b[0m\u001b[1;33m\u001b[0m\u001b[0m\n\u001b[0;32m    762\u001b[0m                 \u001b[0mtotal_words\u001b[0m\u001b[1;33m=\u001b[0m\u001b[0mself\u001b[0m\u001b[1;33m.\u001b[0m\u001b[0mcorpus_total_words\u001b[0m\u001b[1;33m,\u001b[0m \u001b[0mepochs\u001b[0m\u001b[1;33m=\u001b[0m\u001b[0mself\u001b[0m\u001b[1;33m.\u001b[0m\u001b[0mepochs\u001b[0m\u001b[1;33m,\u001b[0m \u001b[0mstart_alpha\u001b[0m\u001b[1;33m=\u001b[0m\u001b[0mself\u001b[0m\u001b[1;33m.\u001b[0m\u001b[0malpha\u001b[0m\u001b[1;33m,\u001b[0m\u001b[1;33m\u001b[0m\u001b[1;33m\u001b[0m\u001b[0m\n\u001b[1;32m--> 763\u001b[1;33m                 end_alpha=self.min_alpha, compute_loss=compute_loss)\n\u001b[0m\u001b[0;32m    764\u001b[0m         \u001b[1;32melse\u001b[0m\u001b[1;33m:\u001b[0m\u001b[1;33m\u001b[0m\u001b[1;33m\u001b[0m\u001b[0m\n\u001b[0;32m    765\u001b[0m             \u001b[1;32mif\u001b[0m \u001b[0mtrim_rule\u001b[0m \u001b[1;32mis\u001b[0m \u001b[1;32mnot\u001b[0m \u001b[1;32mNone\u001b[0m\u001b[1;33m:\u001b[0m\u001b[1;33m\u001b[0m\u001b[1;33m\u001b[0m\u001b[0m\n",
      "\u001b[1;32m~\\Anaconda3\\lib\\site-packages\\gensim\\models\\word2vec.py\u001b[0m in \u001b[0;36mtrain\u001b[1;34m(self, sentences, corpus_file, total_examples, total_words, epochs, start_alpha, end_alpha, word_count, queue_factor, report_delay, compute_loss, callbacks)\u001b[0m\n\u001b[0;32m    908\u001b[0m             \u001b[0msentences\u001b[0m\u001b[1;33m=\u001b[0m\u001b[0msentences\u001b[0m\u001b[1;33m,\u001b[0m \u001b[0mcorpus_file\u001b[0m\u001b[1;33m=\u001b[0m\u001b[0mcorpus_file\u001b[0m\u001b[1;33m,\u001b[0m \u001b[0mtotal_examples\u001b[0m\u001b[1;33m=\u001b[0m\u001b[0mtotal_examples\u001b[0m\u001b[1;33m,\u001b[0m \u001b[0mtotal_words\u001b[0m\u001b[1;33m=\u001b[0m\u001b[0mtotal_words\u001b[0m\u001b[1;33m,\u001b[0m\u001b[1;33m\u001b[0m\u001b[1;33m\u001b[0m\u001b[0m\n\u001b[0;32m    909\u001b[0m             \u001b[0mepochs\u001b[0m\u001b[1;33m=\u001b[0m\u001b[0mepochs\u001b[0m\u001b[1;33m,\u001b[0m \u001b[0mstart_alpha\u001b[0m\u001b[1;33m=\u001b[0m\u001b[0mstart_alpha\u001b[0m\u001b[1;33m,\u001b[0m \u001b[0mend_alpha\u001b[0m\u001b[1;33m=\u001b[0m\u001b[0mend_alpha\u001b[0m\u001b[1;33m,\u001b[0m \u001b[0mword_count\u001b[0m\u001b[1;33m=\u001b[0m\u001b[0mword_count\u001b[0m\u001b[1;33m,\u001b[0m\u001b[1;33m\u001b[0m\u001b[1;33m\u001b[0m\u001b[0m\n\u001b[1;32m--> 910\u001b[1;33m             queue_factor=queue_factor, report_delay=report_delay, compute_loss=compute_loss, callbacks=callbacks)\n\u001b[0m\u001b[0;32m    911\u001b[0m \u001b[1;33m\u001b[0m\u001b[0m\n\u001b[0;32m    912\u001b[0m     \u001b[1;32mdef\u001b[0m \u001b[0mscore\u001b[0m\u001b[1;33m(\u001b[0m\u001b[0mself\u001b[0m\u001b[1;33m,\u001b[0m \u001b[0msentences\u001b[0m\u001b[1;33m,\u001b[0m \u001b[0mtotal_sentences\u001b[0m\u001b[1;33m=\u001b[0m\u001b[0mint\u001b[0m\u001b[1;33m(\u001b[0m\u001b[1;36m1e6\u001b[0m\u001b[1;33m)\u001b[0m\u001b[1;33m,\u001b[0m \u001b[0mchunksize\u001b[0m\u001b[1;33m=\u001b[0m\u001b[1;36m100\u001b[0m\u001b[1;33m,\u001b[0m \u001b[0mqueue_factor\u001b[0m\u001b[1;33m=\u001b[0m\u001b[1;36m2\u001b[0m\u001b[1;33m,\u001b[0m \u001b[0mreport_delay\u001b[0m\u001b[1;33m=\u001b[0m\u001b[1;36m1\u001b[0m\u001b[1;33m)\u001b[0m\u001b[1;33m:\u001b[0m\u001b[1;33m\u001b[0m\u001b[1;33m\u001b[0m\u001b[0m\n",
      "\u001b[1;32m~\\Anaconda3\\lib\\site-packages\\gensim\\models\\base_any2vec.py\u001b[0m in \u001b[0;36mtrain\u001b[1;34m(self, sentences, corpus_file, total_examples, total_words, epochs, start_alpha, end_alpha, word_count, queue_factor, report_delay, compute_loss, callbacks, **kwargs)\u001b[0m\n\u001b[0;32m   1079\u001b[0m             \u001b[0mtotal_words\u001b[0m\u001b[1;33m=\u001b[0m\u001b[0mtotal_words\u001b[0m\u001b[1;33m,\u001b[0m \u001b[0mepochs\u001b[0m\u001b[1;33m=\u001b[0m\u001b[0mepochs\u001b[0m\u001b[1;33m,\u001b[0m \u001b[0mstart_alpha\u001b[0m\u001b[1;33m=\u001b[0m\u001b[0mstart_alpha\u001b[0m\u001b[1;33m,\u001b[0m \u001b[0mend_alpha\u001b[0m\u001b[1;33m=\u001b[0m\u001b[0mend_alpha\u001b[0m\u001b[1;33m,\u001b[0m \u001b[0mword_count\u001b[0m\u001b[1;33m=\u001b[0m\u001b[0mword_count\u001b[0m\u001b[1;33m,\u001b[0m\u001b[1;33m\u001b[0m\u001b[1;33m\u001b[0m\u001b[0m\n\u001b[0;32m   1080\u001b[0m             \u001b[0mqueue_factor\u001b[0m\u001b[1;33m=\u001b[0m\u001b[0mqueue_factor\u001b[0m\u001b[1;33m,\u001b[0m \u001b[0mreport_delay\u001b[0m\u001b[1;33m=\u001b[0m\u001b[0mreport_delay\u001b[0m\u001b[1;33m,\u001b[0m \u001b[0mcompute_loss\u001b[0m\u001b[1;33m=\u001b[0m\u001b[0mcompute_loss\u001b[0m\u001b[1;33m,\u001b[0m \u001b[0mcallbacks\u001b[0m\u001b[1;33m=\u001b[0m\u001b[0mcallbacks\u001b[0m\u001b[1;33m,\u001b[0m\u001b[1;33m\u001b[0m\u001b[1;33m\u001b[0m\u001b[0m\n\u001b[1;32m-> 1081\u001b[1;33m             **kwargs)\n\u001b[0m\u001b[0;32m   1082\u001b[0m \u001b[1;33m\u001b[0m\u001b[0m\n\u001b[0;32m   1083\u001b[0m     \u001b[1;32mdef\u001b[0m \u001b[0m_get_job_params\u001b[0m\u001b[1;33m(\u001b[0m\u001b[0mself\u001b[0m\u001b[1;33m,\u001b[0m \u001b[0mcur_epoch\u001b[0m\u001b[1;33m)\u001b[0m\u001b[1;33m:\u001b[0m\u001b[1;33m\u001b[0m\u001b[1;33m\u001b[0m\u001b[0m\n",
      "\u001b[1;32m~\\Anaconda3\\lib\\site-packages\\gensim\\models\\base_any2vec.py\u001b[0m in \u001b[0;36mtrain\u001b[1;34m(self, data_iterable, corpus_file, epochs, total_examples, total_words, queue_factor, report_delay, callbacks, **kwargs)\u001b[0m\n\u001b[0;32m    551\u001b[0m                 trained_word_count_epoch, raw_word_count_epoch, job_tally_epoch = self._train_epoch(\n\u001b[0;32m    552\u001b[0m                     \u001b[0mdata_iterable\u001b[0m\u001b[1;33m,\u001b[0m \u001b[0mcur_epoch\u001b[0m\u001b[1;33m=\u001b[0m\u001b[0mcur_epoch\u001b[0m\u001b[1;33m,\u001b[0m \u001b[0mtotal_examples\u001b[0m\u001b[1;33m=\u001b[0m\u001b[0mtotal_examples\u001b[0m\u001b[1;33m,\u001b[0m\u001b[1;33m\u001b[0m\u001b[1;33m\u001b[0m\u001b[0m\n\u001b[1;32m--> 553\u001b[1;33m                     total_words=total_words, queue_factor=queue_factor, report_delay=report_delay)\n\u001b[0m\u001b[0;32m    554\u001b[0m             \u001b[1;32melse\u001b[0m\u001b[1;33m:\u001b[0m\u001b[1;33m\u001b[0m\u001b[1;33m\u001b[0m\u001b[0m\n\u001b[0;32m    555\u001b[0m                 trained_word_count_epoch, raw_word_count_epoch, job_tally_epoch = self._train_epoch_corpusfile(\n",
      "\u001b[1;32m~\\Anaconda3\\lib\\site-packages\\gensim\\models\\base_any2vec.py\u001b[0m in \u001b[0;36m_train_epoch\u001b[1;34m(self, data_iterable, cur_epoch, total_examples, total_words, queue_factor, report_delay)\u001b[0m\n\u001b[0;32m    487\u001b[0m         trained_word_count, raw_word_count, job_tally = self._log_epoch_progress(\n\u001b[0;32m    488\u001b[0m             \u001b[0mprogress_queue\u001b[0m\u001b[1;33m,\u001b[0m \u001b[0mjob_queue\u001b[0m\u001b[1;33m,\u001b[0m \u001b[0mcur_epoch\u001b[0m\u001b[1;33m=\u001b[0m\u001b[0mcur_epoch\u001b[0m\u001b[1;33m,\u001b[0m \u001b[0mtotal_examples\u001b[0m\u001b[1;33m=\u001b[0m\u001b[0mtotal_examples\u001b[0m\u001b[1;33m,\u001b[0m \u001b[0mtotal_words\u001b[0m\u001b[1;33m=\u001b[0m\u001b[0mtotal_words\u001b[0m\u001b[1;33m,\u001b[0m\u001b[1;33m\u001b[0m\u001b[1;33m\u001b[0m\u001b[0m\n\u001b[1;32m--> 489\u001b[1;33m             report_delay=report_delay, is_corpus_file_mode=False)\n\u001b[0m\u001b[0;32m    490\u001b[0m \u001b[1;33m\u001b[0m\u001b[0m\n\u001b[0;32m    491\u001b[0m         \u001b[1;32mreturn\u001b[0m \u001b[0mtrained_word_count\u001b[0m\u001b[1;33m,\u001b[0m \u001b[0mraw_word_count\u001b[0m\u001b[1;33m,\u001b[0m \u001b[0mjob_tally\u001b[0m\u001b[1;33m\u001b[0m\u001b[1;33m\u001b[0m\u001b[0m\n",
      "\u001b[1;32m~\\Anaconda3\\lib\\site-packages\\gensim\\models\\base_any2vec.py\u001b[0m in \u001b[0;36m_log_epoch_progress\u001b[1;34m(self, progress_queue, job_queue, cur_epoch, total_examples, total_words, report_delay, is_corpus_file_mode)\u001b[0m\n\u001b[0;32m    344\u001b[0m \u001b[1;33m\u001b[0m\u001b[0m\n\u001b[0;32m    345\u001b[0m         \u001b[1;32mwhile\u001b[0m \u001b[0munfinished_worker_count\u001b[0m \u001b[1;33m>\u001b[0m \u001b[1;36m0\u001b[0m\u001b[1;33m:\u001b[0m\u001b[1;33m\u001b[0m\u001b[1;33m\u001b[0m\u001b[0m\n\u001b[1;32m--> 346\u001b[1;33m             \u001b[0mreport\u001b[0m \u001b[1;33m=\u001b[0m \u001b[0mprogress_queue\u001b[0m\u001b[1;33m.\u001b[0m\u001b[0mget\u001b[0m\u001b[1;33m(\u001b[0m\u001b[1;33m)\u001b[0m  \u001b[1;31m# blocks if workers too slow\u001b[0m\u001b[1;33m\u001b[0m\u001b[1;33m\u001b[0m\u001b[0m\n\u001b[0m\u001b[0;32m    347\u001b[0m             \u001b[1;32mif\u001b[0m \u001b[0mreport\u001b[0m \u001b[1;32mis\u001b[0m \u001b[1;32mNone\u001b[0m\u001b[1;33m:\u001b[0m  \u001b[1;31m# a thread reporting that it finished\u001b[0m\u001b[1;33m\u001b[0m\u001b[1;33m\u001b[0m\u001b[0m\n\u001b[0;32m    348\u001b[0m                 \u001b[0munfinished_worker_count\u001b[0m \u001b[1;33m-=\u001b[0m \u001b[1;36m1\u001b[0m\u001b[1;33m\u001b[0m\u001b[1;33m\u001b[0m\u001b[0m\n",
      "\u001b[1;32m~\\Anaconda3\\lib\\queue.py\u001b[0m in \u001b[0;36mget\u001b[1;34m(self, block, timeout)\u001b[0m\n\u001b[0;32m    162\u001b[0m             \u001b[1;32melif\u001b[0m \u001b[0mtimeout\u001b[0m \u001b[1;32mis\u001b[0m \u001b[1;32mNone\u001b[0m\u001b[1;33m:\u001b[0m\u001b[1;33m\u001b[0m\u001b[1;33m\u001b[0m\u001b[0m\n\u001b[0;32m    163\u001b[0m                 \u001b[1;32mwhile\u001b[0m \u001b[1;32mnot\u001b[0m \u001b[0mself\u001b[0m\u001b[1;33m.\u001b[0m\u001b[0m_qsize\u001b[0m\u001b[1;33m(\u001b[0m\u001b[1;33m)\u001b[0m\u001b[1;33m:\u001b[0m\u001b[1;33m\u001b[0m\u001b[1;33m\u001b[0m\u001b[0m\n\u001b[1;32m--> 164\u001b[1;33m                     \u001b[0mself\u001b[0m\u001b[1;33m.\u001b[0m\u001b[0mnot_empty\u001b[0m\u001b[1;33m.\u001b[0m\u001b[0mwait\u001b[0m\u001b[1;33m(\u001b[0m\u001b[1;33m)\u001b[0m\u001b[1;33m\u001b[0m\u001b[1;33m\u001b[0m\u001b[0m\n\u001b[0m\u001b[0;32m    165\u001b[0m             \u001b[1;32melif\u001b[0m \u001b[0mtimeout\u001b[0m \u001b[1;33m<\u001b[0m \u001b[1;36m0\u001b[0m\u001b[1;33m:\u001b[0m\u001b[1;33m\u001b[0m\u001b[1;33m\u001b[0m\u001b[0m\n\u001b[0;32m    166\u001b[0m                 \u001b[1;32mraise\u001b[0m \u001b[0mValueError\u001b[0m\u001b[1;33m(\u001b[0m\u001b[1;34m\"'timeout' must be a non-negative number\"\u001b[0m\u001b[1;33m)\u001b[0m\u001b[1;33m\u001b[0m\u001b[1;33m\u001b[0m\u001b[0m\n",
      "\u001b[1;32m~\\Anaconda3\\lib\\threading.py\u001b[0m in \u001b[0;36mwait\u001b[1;34m(self, timeout)\u001b[0m\n\u001b[0;32m    293\u001b[0m         \u001b[1;32mtry\u001b[0m\u001b[1;33m:\u001b[0m    \u001b[1;31m# restore state no matter what (e.g., KeyboardInterrupt)\u001b[0m\u001b[1;33m\u001b[0m\u001b[1;33m\u001b[0m\u001b[0m\n\u001b[0;32m    294\u001b[0m             \u001b[1;32mif\u001b[0m \u001b[0mtimeout\u001b[0m \u001b[1;32mis\u001b[0m \u001b[1;32mNone\u001b[0m\u001b[1;33m:\u001b[0m\u001b[1;33m\u001b[0m\u001b[1;33m\u001b[0m\u001b[0m\n\u001b[1;32m--> 295\u001b[1;33m                 \u001b[0mwaiter\u001b[0m\u001b[1;33m.\u001b[0m\u001b[0macquire\u001b[0m\u001b[1;33m(\u001b[0m\u001b[1;33m)\u001b[0m\u001b[1;33m\u001b[0m\u001b[1;33m\u001b[0m\u001b[0m\n\u001b[0m\u001b[0;32m    296\u001b[0m                 \u001b[0mgotit\u001b[0m \u001b[1;33m=\u001b[0m \u001b[1;32mTrue\u001b[0m\u001b[1;33m\u001b[0m\u001b[1;33m\u001b[0m\u001b[0m\n\u001b[0;32m    297\u001b[0m             \u001b[1;32melse\u001b[0m\u001b[1;33m:\u001b[0m\u001b[1;33m\u001b[0m\u001b[1;33m\u001b[0m\u001b[0m\n",
      "\u001b[1;31mKeyboardInterrupt\u001b[0m: "
     ]
    }
   ],
   "source": [
    "# Import the built-in logging module and configure it so that Word2Vec \n",
    "# creates nice output messages\n",
    "import logging\n",
    "logging.basicConfig(format='%(asctime)s : %(levelname)s : %(message)s',\\\n",
    "    level=logging.INFO)\n",
    "\n",
    "# Set values for various parameters\n",
    "num_features = 300    # Word vector dimensionality                      \n",
    "min_word_count = 40   # Minimum word count                        \n",
    "num_workers = 4       # Number of threads to run in parallel\n",
    "context = 10          # Context window size                                                                                    \n",
    "downsampling = 1e-3   # Downsample setting for frequent words\n",
    "\n",
    "# Initialize and train the model (this will take some time)\n",
    "from gensim.models import word2vec\n",
    "print (\"Training model...\")\n",
    "model = word2vec.Word2Vec(sentences, workers=num_workers, \\\n",
    "            size=num_features, min_count = min_word_count, \\\n",
    "            window = context, sample = downsampling)\n",
    "\n",
    "# If you don't plan to train the model any further, calling \n",
    "# init_sims will make the model much more memory-efficient.\n",
    "model.init_sims(replace=True)\n",
    "\n",
    "# It can be helpful to create a meaningful model name and \n",
    "# save the model for later use. You can load it later using Word2Vec.load()\n",
    "model_name = \"300features_40minwords_10context\"\n",
    "model.save(model_name)"
   ]
  },
  {
   "cell_type": "markdown",
   "metadata": {},
   "source": [
    "On a dual-core Macbook Pro, this took less than 15 minutes to run using 4 worker threads. However, it will vary depending on your computer. Fortunately, the logging functionality prints informative messages.\n",
    "\n",
    "If you are on a Mac or Linux system, you can use the \"top\" command from within Terminal (not from within Python) to see if your system is successfully parallelizing while the model is training. Type"
   ]
  },
  {
   "cell_type": "code",
   "execution_count": null,
   "metadata": {},
   "outputs": [],
   "source": [
    "model.doesnt_match(\"man woman child kitchen\".split())"
   ]
  },
  {
   "cell_type": "markdown",
   "metadata": {},
   "source": [
    "Our model is capable of distinguishing differences in meaning! It knows that men, women and children are more similar to each other than they are to kitchens. More exploration shows that the model is sensitive to more subtle differences in meaning, such as differences between countries and cities"
   ]
  },
  {
   "cell_type": "code",
   "execution_count": null,
   "metadata": {},
   "outputs": [],
   "source": [
    "model.doesnt_match(\"france england germany berlin\".split())\n",
    "'berlin'"
   ]
  },
  {
   "cell_type": "code",
   "execution_count": null,
   "metadata": {},
   "outputs": [],
   "source": [
    "model.doesnt_match(\"paris berlin london austria\".split())\n",
    "'paris'"
   ]
  },
  {
   "cell_type": "code",
   "execution_count": null,
   "metadata": {},
   "outputs": [],
   "source": [
    "model.most_similar(\"man\")"
   ]
  },
  {
   "cell_type": "code",
   "execution_count": null,
   "metadata": {},
   "outputs": [],
   "source": [
    "model.most_similar(\"queen\")"
   ]
  },
  {
   "cell_type": "code",
   "execution_count": null,
   "metadata": {},
   "outputs": [],
   "source": [
    "model.most_similar(\"awful\")"
   ]
  }
 ],
 "metadata": {
  "kernelspec": {
   "display_name": "Python 3",
   "language": "python",
   "name": "python3"
  },
  "language_info": {
   "codemirror_mode": {
    "name": "ipython",
    "version": 3
   },
   "file_extension": ".py",
   "mimetype": "text/x-python",
   "name": "python",
   "nbconvert_exporter": "python",
   "pygments_lexer": "ipython3",
   "version": "3.6.8"
  }
 },
 "nbformat": 4,
 "nbformat_minor": 2
}
