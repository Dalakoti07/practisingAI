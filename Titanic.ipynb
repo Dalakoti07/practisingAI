{
  "nbformat": 4,
  "nbformat_minor": 0,
  "metadata": {
    "colab": {
      "name": "titanic.ipynb",
      "version": "0.3.2",
      "provenance": [],
      "collapsed_sections": []
    },
    "kernelspec": {
      "name": "python3",
      "display_name": "Python 3"
    }
  },
  "cells": [
    {
      "cell_type": "code",
      "metadata": {
        "id": "rONhF7ii_qpQ",
        "colab_type": "code",
        "outputId": "ca196983-067d-4a35-ab35-167373c542c3",
        "colab": {
          "base_uri": "https://localhost:8080/",
          "height": 1000
        }
      },
      "source": [
        "pip install fastai==0.7.0"
      ],
      "execution_count": 185,
      "outputs": [
        {
          "output_type": "stream",
          "text": [
            "Requirement already satisfied: fastai==0.7.0 in /usr/local/lib/python3.6/dist-packages (0.7.0)\n",
            "Requirement already satisfied: scipy in /usr/local/lib/python3.6/dist-packages (from fastai==0.7.0) (1.3.0)\n",
            "Requirement already satisfied: torch<0.4 in /usr/local/lib/python3.6/dist-packages (from fastai==0.7.0) (0.3.1)\n",
            "Requirement already satisfied: isoweek in /usr/local/lib/python3.6/dist-packages (from fastai==0.7.0) (1.3.3)\n",
            "Requirement already satisfied: Jinja2 in /usr/local/lib/python3.6/dist-packages (from fastai==0.7.0) (2.10.1)\n",
            "Requirement already satisfied: cycler in /usr/local/lib/python3.6/dist-packages (from fastai==0.7.0) (0.10.0)\n",
            "Requirement already satisfied: tornado in /usr/local/lib/python3.6/dist-packages (from fastai==0.7.0) (4.5.3)\n",
            "Requirement already satisfied: ipykernel in /usr/local/lib/python3.6/dist-packages (from fastai==0.7.0) (4.6.1)\n",
            "Requirement already satisfied: simplegeneric in /usr/local/lib/python3.6/dist-packages (from fastai==0.7.0) (0.8.1)\n",
            "Requirement already satisfied: plotnine in /usr/local/lib/python3.6/dist-packages (from fastai==0.7.0) (0.5.1)\n",
            "Requirement already satisfied: testpath in /usr/local/lib/python3.6/dist-packages (from fastai==0.7.0) (0.4.2)\n",
            "Requirement already satisfied: ipython-genutils in /usr/local/lib/python3.6/dist-packages (from fastai==0.7.0) (0.2.0)\n",
            "Requirement already satisfied: wcwidth in /usr/local/lib/python3.6/dist-packages (from fastai==0.7.0) (0.1.7)\n",
            "Requirement already satisfied: ipython in /usr/local/lib/python3.6/dist-packages (from fastai==0.7.0) (5.5.0)\n",
            "Requirement already satisfied: bcolz in /usr/local/lib/python3.6/dist-packages (from fastai==0.7.0) (1.2.1)\n",
            "Requirement already satisfied: torchtext in /usr/local/lib/python3.6/dist-packages (from fastai==0.7.0) (0.3.1)\n",
            "Requirement already satisfied: opencv-python in /usr/local/lib/python3.6/dist-packages (from fastai==0.7.0) (3.4.5.20)\n",
            "Requirement already satisfied: pandas in /usr/local/lib/python3.6/dist-packages (from fastai==0.7.0) (0.24.2)\n",
            "Requirement already satisfied: widgetsnbextension in /usr/local/lib/python3.6/dist-packages (from fastai==0.7.0) (3.5.1)\n",
            "Requirement already satisfied: html5lib in /usr/local/lib/python3.6/dist-packages (from fastai==0.7.0) (1.0.1)\n",
            "Requirement already satisfied: certifi in /usr/local/lib/python3.6/dist-packages (from fastai==0.7.0) (2019.6.16)\n",
            "Requirement already satisfied: sklearn-pandas in /usr/local/lib/python3.6/dist-packages (from fastai==0.7.0) (1.8.0)\n",
            "Requirement already satisfied: PyYAML in /usr/local/lib/python3.6/dist-packages (from fastai==0.7.0) (3.13)\n",
            "Requirement already satisfied: graphviz in /usr/local/lib/python3.6/dist-packages (from fastai==0.7.0) (0.10.1)\n",
            "Requirement already satisfied: jupyter in /usr/local/lib/python3.6/dist-packages (from fastai==0.7.0) (1.0.0)\n",
            "Requirement already satisfied: MarkupSafe in /usr/local/lib/python3.6/dist-packages (from fastai==0.7.0) (1.1.1)\n",
            "Requirement already satisfied: pytz in /usr/local/lib/python3.6/dist-packages (from fastai==0.7.0) (2018.9)\n",
            "Requirement already satisfied: pickleshare in /usr/local/lib/python3.6/dist-packages (from fastai==0.7.0) (0.7.5)\n",
            "Requirement already satisfied: pyparsing in /usr/local/lib/python3.6/dist-packages (from fastai==0.7.0) (2.4.2)\n",
            "Requirement already satisfied: numpy in /usr/local/lib/python3.6/dist-packages (from fastai==0.7.0) (1.16.4)\n",
            "Requirement already satisfied: webencodings in /usr/local/lib/python3.6/dist-packages (from fastai==0.7.0) (0.5.1)\n",
            "Requirement already satisfied: pandas-summary in /usr/local/lib/python3.6/dist-packages (from fastai==0.7.0) (0.0.6)\n",
            "Requirement already satisfied: jsonschema in /usr/local/lib/python3.6/dist-packages (from fastai==0.7.0) (2.6.0)\n",
            "Requirement already satisfied: ptyprocess in /usr/local/lib/python3.6/dist-packages (from fastai==0.7.0) (0.6.0)\n",
            "Requirement already satisfied: Pygments in /usr/local/lib/python3.6/dist-packages (from fastai==0.7.0) (2.1.3)\n",
            "Requirement already satisfied: pyzmq in /usr/local/lib/python3.6/dist-packages (from fastai==0.7.0) (17.0.0)\n",
            "Requirement already satisfied: matplotlib in /usr/local/lib/python3.6/dist-packages (from fastai==0.7.0) (3.0.3)\n",
            "Requirement already satisfied: decorator in /usr/local/lib/python3.6/dist-packages (from fastai==0.7.0) (4.4.0)\n",
            "Requirement already satisfied: entrypoints in /usr/local/lib/python3.6/dist-packages (from fastai==0.7.0) (0.3)\n",
            "Requirement already satisfied: Pillow in /usr/local/lib/python3.6/dist-packages (from fastai==0.7.0) (4.3.0)\n",
            "Requirement already satisfied: seaborn in /usr/local/lib/python3.6/dist-packages (from fastai==0.7.0) (0.9.0)\n",
            "Requirement already satisfied: jedi in /usr/local/lib/python3.6/dist-packages (from fastai==0.7.0) (0.14.1)\n",
            "Requirement already satisfied: torchvision in /usr/local/lib/python3.6/dist-packages (from fastai==0.7.0) (0.3.0)\n",
            "Requirement already satisfied: feather-format in /usr/local/lib/python3.6/dist-packages (from fastai==0.7.0) (0.4.0)\n",
            "Requirement already satisfied: tqdm in /usr/local/lib/python3.6/dist-packages (from fastai==0.7.0) (4.28.1)\n",
            "Requirement already satisfied: traitlets in /usr/local/lib/python3.6/dist-packages (from fastai==0.7.0) (4.3.2)\n",
            "Requirement already satisfied: ipywidgets in /usr/local/lib/python3.6/dist-packages (from fastai==0.7.0) (7.5.1)\n",
            "Requirement already satisfied: python-dateutil in /usr/local/lib/python3.6/dist-packages (from fastai==0.7.0) (2.5.3)\n",
            "Requirement already satisfied: bleach in /usr/local/lib/python3.6/dist-packages (from fastai==0.7.0) (3.1.0)\n",
            "Requirement already satisfied: six in /usr/local/lib/python3.6/dist-packages (from cycler->fastai==0.7.0) (1.12.0)\n",
            "Requirement already satisfied: jupyter-client in /usr/local/lib/python3.6/dist-packages (from ipykernel->fastai==0.7.0) (5.3.1)\n",
            "Requirement already satisfied: descartes>=1.1.0 in /usr/local/lib/python3.6/dist-packages (from plotnine->fastai==0.7.0) (1.1.0)\n",
            "Requirement already satisfied: statsmodels>=0.8.0 in /usr/local/lib/python3.6/dist-packages (from plotnine->fastai==0.7.0) (0.10.1)\n",
            "Requirement already satisfied: mizani>=0.5.2 in /usr/local/lib/python3.6/dist-packages (from plotnine->fastai==0.7.0) (0.5.4)\n",
            "Requirement already satisfied: patsy>=0.4.1 in /usr/local/lib/python3.6/dist-packages (from plotnine->fastai==0.7.0) (0.5.1)\n",
            "Requirement already satisfied: pexpect; sys_platform != \"win32\" in /usr/local/lib/python3.6/dist-packages (from ipython->fastai==0.7.0) (4.7.0)\n",
            "Requirement already satisfied: setuptools>=18.5 in /usr/local/lib/python3.6/dist-packages (from ipython->fastai==0.7.0) (41.0.1)\n",
            "Requirement already satisfied: prompt-toolkit<2.0.0,>=1.0.4 in /usr/local/lib/python3.6/dist-packages (from ipython->fastai==0.7.0) (1.0.16)\n",
            "Requirement already satisfied: requests in /usr/local/lib/python3.6/dist-packages (from torchtext->fastai==0.7.0) (2.21.0)\n",
            "Requirement already satisfied: notebook>=4.4.1 in /usr/local/lib/python3.6/dist-packages (from widgetsnbextension->fastai==0.7.0) (5.2.2)\n",
            "Requirement already satisfied: scikit-learn>=0.15.0 in /usr/local/lib/python3.6/dist-packages (from sklearn-pandas->fastai==0.7.0) (0.21.3)\n",
            "Requirement already satisfied: nbconvert in /usr/local/lib/python3.6/dist-packages (from jupyter->fastai==0.7.0) (5.5.0)\n",
            "Requirement already satisfied: jupyter-console in /usr/local/lib/python3.6/dist-packages (from jupyter->fastai==0.7.0) (6.0.0)\n",
            "Requirement already satisfied: qtconsole in /usr/local/lib/python3.6/dist-packages (from jupyter->fastai==0.7.0) (4.5.2)\n",
            "Requirement already satisfied: kiwisolver>=1.0.1 in /usr/local/lib/python3.6/dist-packages (from matplotlib->fastai==0.7.0) (1.1.0)\n",
            "Requirement already satisfied: olefile in /usr/local/lib/python3.6/dist-packages (from Pillow->fastai==0.7.0) (0.46)\n",
            "Requirement already satisfied: parso>=0.5.0 in /usr/local/lib/python3.6/dist-packages (from jedi->fastai==0.7.0) (0.5.1)\n",
            "Requirement already satisfied: pyarrow>=0.4.0 in /usr/local/lib/python3.6/dist-packages (from feather-format->fastai==0.7.0) (0.14.1)\n",
            "Requirement already satisfied: nbformat>=4.2.0 in /usr/local/lib/python3.6/dist-packages (from ipywidgets->fastai==0.7.0) (4.4.0)\n",
            "Requirement already satisfied: jupyter-core in /usr/local/lib/python3.6/dist-packages (from jupyter-client->ipykernel->fastai==0.7.0) (4.5.0)\n",
            "Requirement already satisfied: palettable in /usr/local/lib/python3.6/dist-packages (from mizani>=0.5.2->plotnine->fastai==0.7.0) (3.2.0)\n",
            "Requirement already satisfied: urllib3<1.25,>=1.21.1 in /usr/local/lib/python3.6/dist-packages (from requests->torchtext->fastai==0.7.0) (1.24.3)\n",
            "Requirement already satisfied: chardet<3.1.0,>=3.0.2 in /usr/local/lib/python3.6/dist-packages (from requests->torchtext->fastai==0.7.0) (3.0.4)\n",
            "Requirement already satisfied: idna<2.9,>=2.5 in /usr/local/lib/python3.6/dist-packages (from requests->torchtext->fastai==0.7.0) (2.8)\n",
            "Requirement already satisfied: terminado>=0.3.3; sys_platform != \"win32\" in /usr/local/lib/python3.6/dist-packages (from notebook>=4.4.1->widgetsnbextension->fastai==0.7.0) (0.8.2)\n",
            "Requirement already satisfied: joblib>=0.11 in /usr/local/lib/python3.6/dist-packages (from scikit-learn>=0.15.0->sklearn-pandas->fastai==0.7.0) (0.13.2)\n",
            "Requirement already satisfied: defusedxml in /usr/local/lib/python3.6/dist-packages (from nbconvert->jupyter->fastai==0.7.0) (0.6.0)\n",
            "Requirement already satisfied: pandocfilters>=1.4.1 in /usr/local/lib/python3.6/dist-packages (from nbconvert->jupyter->fastai==0.7.0) (1.4.2)\n",
            "Requirement already satisfied: mistune>=0.8.1 in /usr/local/lib/python3.6/dist-packages (from nbconvert->jupyter->fastai==0.7.0) (0.8.4)\n"
          ],
          "name": "stdout"
        }
      ]
    },
    {
      "cell_type": "code",
      "metadata": {
        "id": "N-fd2DIo_1Xt",
        "colab_type": "code",
        "colab": {}
      },
      "source": [
        "from fastai.imports import *\n",
        "from fastai.structured import *\n",
        "\n",
        "from pandas_summary import DataFrameSummary\n",
        "from sklearn.ensemble import RandomForestRegressor, RandomForestClassifier\n",
        "from IPython.display import display\n",
        "\n",
        "from sklearn import metrics"
      ],
      "execution_count": 0,
      "outputs": []
    },
    {
      "cell_type": "code",
      "metadata": {
        "id": "HCXysLVDEmGo",
        "colab_type": "code",
        "outputId": "69b4ffa8-4ef5-45a2-a14b-b9b98be4e15d",
        "colab": {
          "base_uri": "https://localhost:8080/",
          "height": 34
        }
      },
      "source": [
        "from google.colab import drive\n",
        "drive.mount('/content/drive')"
      ],
      "execution_count": 187,
      "outputs": [
        {
          "output_type": "stream",
          "text": [
            "Drive already mounted at /content/drive; to attempt to forcibly remount, call drive.mount(\"/content/drive\", force_remount=True).\n"
          ],
          "name": "stdout"
        }
      ]
    },
    {
      "cell_type": "code",
      "metadata": {
        "id": "C5ihcYAqEozv",
        "colab_type": "code",
        "colab": {}
      },
      "source": [
        "import pandas as pd"
      ],
      "execution_count": 0,
      "outputs": []
    },
    {
      "cell_type": "code",
      "metadata": {
        "id": "vs9G0EwrDZXT",
        "colab_type": "code",
        "colab": {}
      },
      "source": [
        "data=pd.read_csv(\"/content/drive/My Drive/ML dataSets/titanic/train.csv\",encoding = \"ISO-8859-1\")"
      ],
      "execution_count": 0,
      "outputs": []
    },
    {
      "cell_type": "code",
      "metadata": {
        "id": "jSdF474LDiMF",
        "colab_type": "code",
        "outputId": "5068a8c3-2273-43f6-e3b1-24ef00f62e2d",
        "colab": {
          "base_uri": "https://localhost:8080/",
          "height": 195
        }
      },
      "source": [
        "data.head()"
      ],
      "execution_count": 190,
      "outputs": [
        {
          "output_type": "execute_result",
          "data": {
            "text/html": [
              "<div>\n",
              "<style scoped>\n",
              "    .dataframe tbody tr th:only-of-type {\n",
              "        vertical-align: middle;\n",
              "    }\n",
              "\n",
              "    .dataframe tbody tr th {\n",
              "        vertical-align: top;\n",
              "    }\n",
              "\n",
              "    .dataframe thead th {\n",
              "        text-align: right;\n",
              "    }\n",
              "</style>\n",
              "<table border=\"1\" class=\"dataframe\">\n",
              "  <thead>\n",
              "    <tr style=\"text-align: right;\">\n",
              "      <th></th>\n",
              "      <th>PassengerId</th>\n",
              "      <th>Survived</th>\n",
              "      <th>Pclass</th>\n",
              "      <th>Name</th>\n",
              "      <th>Sex</th>\n",
              "      <th>Age</th>\n",
              "      <th>SibSp</th>\n",
              "      <th>Parch</th>\n",
              "      <th>Ticket</th>\n",
              "      <th>Fare</th>\n",
              "      <th>Cabin</th>\n",
              "      <th>Embarked</th>\n",
              "    </tr>\n",
              "  </thead>\n",
              "  <tbody>\n",
              "    <tr>\n",
              "      <th>0</th>\n",
              "      <td>1</td>\n",
              "      <td>0</td>\n",
              "      <td>3</td>\n",
              "      <td>Braund, Mr. Owen Harris</td>\n",
              "      <td>male</td>\n",
              "      <td>22.0</td>\n",
              "      <td>1</td>\n",
              "      <td>0</td>\n",
              "      <td>A/5 21171</td>\n",
              "      <td>7.2500</td>\n",
              "      <td>NaN</td>\n",
              "      <td>S</td>\n",
              "    </tr>\n",
              "    <tr>\n",
              "      <th>1</th>\n",
              "      <td>2</td>\n",
              "      <td>1</td>\n",
              "      <td>1</td>\n",
              "      <td>Cumings, Mrs. John Bradley (Florence Briggs Th...</td>\n",
              "      <td>female</td>\n",
              "      <td>38.0</td>\n",
              "      <td>1</td>\n",
              "      <td>0</td>\n",
              "      <td>PC 17599</td>\n",
              "      <td>71.2833</td>\n",
              "      <td>C85</td>\n",
              "      <td>C</td>\n",
              "    </tr>\n",
              "    <tr>\n",
              "      <th>2</th>\n",
              "      <td>3</td>\n",
              "      <td>1</td>\n",
              "      <td>3</td>\n",
              "      <td>Heikkinen, Miss. Laina</td>\n",
              "      <td>female</td>\n",
              "      <td>26.0</td>\n",
              "      <td>0</td>\n",
              "      <td>0</td>\n",
              "      <td>STON/O2. 3101282</td>\n",
              "      <td>7.9250</td>\n",
              "      <td>NaN</td>\n",
              "      <td>S</td>\n",
              "    </tr>\n",
              "    <tr>\n",
              "      <th>3</th>\n",
              "      <td>4</td>\n",
              "      <td>1</td>\n",
              "      <td>1</td>\n",
              "      <td>Futrelle, Mrs. Jacques Heath (Lily May Peel)</td>\n",
              "      <td>female</td>\n",
              "      <td>35.0</td>\n",
              "      <td>1</td>\n",
              "      <td>0</td>\n",
              "      <td>113803</td>\n",
              "      <td>53.1000</td>\n",
              "      <td>C123</td>\n",
              "      <td>S</td>\n",
              "    </tr>\n",
              "    <tr>\n",
              "      <th>4</th>\n",
              "      <td>5</td>\n",
              "      <td>0</td>\n",
              "      <td>3</td>\n",
              "      <td>Allen, Mr. William Henry</td>\n",
              "      <td>male</td>\n",
              "      <td>35.0</td>\n",
              "      <td>0</td>\n",
              "      <td>0</td>\n",
              "      <td>373450</td>\n",
              "      <td>8.0500</td>\n",
              "      <td>NaN</td>\n",
              "      <td>S</td>\n",
              "    </tr>\n",
              "  </tbody>\n",
              "</table>\n",
              "</div>"
            ],
            "text/plain": [
              "   PassengerId  Survived  Pclass  ...     Fare Cabin  Embarked\n",
              "0            1         0       3  ...   7.2500   NaN         S\n",
              "1            2         1       1  ...  71.2833   C85         C\n",
              "2            3         1       3  ...   7.9250   NaN         S\n",
              "3            4         1       1  ...  53.1000  C123         S\n",
              "4            5         0       3  ...   8.0500   NaN         S\n",
              "\n",
              "[5 rows x 12 columns]"
            ]
          },
          "metadata": {
            "tags": []
          },
          "execution_count": 190
        }
      ]
    },
    {
      "cell_type": "code",
      "metadata": {
        "id": "XgBrNtRGK4xv",
        "colab_type": "code",
        "outputId": "e753e84a-4042-44ba-ee71-308fbb825dbc",
        "colab": {
          "base_uri": "https://localhost:8080/",
          "height": 34
        }
      },
      "source": [
        "data.shape"
      ],
      "execution_count": 191,
      "outputs": [
        {
          "output_type": "execute_result",
          "data": {
            "text/plain": [
              "(891, 12)"
            ]
          },
          "metadata": {
            "tags": []
          },
          "execution_count": 191
        }
      ]
    },
    {
      "cell_type": "code",
      "metadata": {
        "id": "iFG5Y5FRM7v-",
        "colab_type": "code",
        "outputId": "2f03a79f-cf1e-42fd-898b-34e0ab9a1e08",
        "colab": {
          "base_uri": "https://localhost:8080/",
          "height": 218
        }
      },
      "source": [
        "for i in data.columns:\n",
        "  print(i,data[i].dtype)"
      ],
      "execution_count": 192,
      "outputs": [
        {
          "output_type": "stream",
          "text": [
            "PassengerId int64\n",
            "Survived int64\n",
            "Pclass int64\n",
            "Name object\n",
            "Sex object\n",
            "Age float64\n",
            "SibSp int64\n",
            "Parch int64\n",
            "Ticket object\n",
            "Fare float64\n",
            "Cabin object\n",
            "Embarked object\n"
          ],
          "name": "stdout"
        }
      ]
    },
    {
      "cell_type": "markdown",
      "metadata": {
        "id": "2AgvF8jZKeKa",
        "colab_type": "text"
      },
      "source": [
        "## We will do data engineering\n",
        "\n",
        "We will convert non integer columns to numeric columns"
      ]
    },
    {
      "cell_type": "code",
      "metadata": {
        "id": "GzC5seVRKbZu",
        "colab_type": "code",
        "colab": {}
      },
      "source": [
        "train_cats(data)\n",
        "# it makes all the string column as categorical column"
      ],
      "execution_count": 0,
      "outputs": []
    },
    {
      "cell_type": "code",
      "metadata": {
        "id": "qYFqQscoNXqi",
        "colab_type": "code",
        "outputId": "d2d5f1af-ba1c-4cbe-d8e5-a452d05f1448",
        "colab": {
          "base_uri": "https://localhost:8080/",
          "height": 218
        }
      },
      "source": [
        "for i in data.columns:\n",
        "  print(i,data[i].dtype)"
      ],
      "execution_count": 194,
      "outputs": [
        {
          "output_type": "stream",
          "text": [
            "PassengerId int64\n",
            "Survived int64\n",
            "Pclass int64\n",
            "Name category\n",
            "Sex category\n",
            "Age float64\n",
            "SibSp int64\n",
            "Parch int64\n",
            "Ticket category\n",
            "Fare float64\n",
            "Cabin category\n",
            "Embarked category\n"
          ],
          "name": "stdout"
        }
      ]
    },
    {
      "cell_type": "markdown",
      "metadata": {
        "id": "5Ej1x7GJNcdP",
        "colab_type": "text"
      },
      "source": [
        "So now u can see that all the string based columns have been converted to categorical features"
      ]
    },
    {
      "cell_type": "code",
      "metadata": {
        "id": "9i8qPoYlNktL",
        "colab_type": "code",
        "outputId": "3e8c4799-fe9f-4e7f-af5e-da81e292de33",
        "colab": {
          "base_uri": "https://localhost:8080/",
          "height": 195
        }
      },
      "source": [
        "data.head()"
      ],
      "execution_count": 195,
      "outputs": [
        {
          "output_type": "execute_result",
          "data": {
            "text/html": [
              "<div>\n",
              "<style scoped>\n",
              "    .dataframe tbody tr th:only-of-type {\n",
              "        vertical-align: middle;\n",
              "    }\n",
              "\n",
              "    .dataframe tbody tr th {\n",
              "        vertical-align: top;\n",
              "    }\n",
              "\n",
              "    .dataframe thead th {\n",
              "        text-align: right;\n",
              "    }\n",
              "</style>\n",
              "<table border=\"1\" class=\"dataframe\">\n",
              "  <thead>\n",
              "    <tr style=\"text-align: right;\">\n",
              "      <th></th>\n",
              "      <th>PassengerId</th>\n",
              "      <th>Survived</th>\n",
              "      <th>Pclass</th>\n",
              "      <th>Name</th>\n",
              "      <th>Sex</th>\n",
              "      <th>Age</th>\n",
              "      <th>SibSp</th>\n",
              "      <th>Parch</th>\n",
              "      <th>Ticket</th>\n",
              "      <th>Fare</th>\n",
              "      <th>Cabin</th>\n",
              "      <th>Embarked</th>\n",
              "    </tr>\n",
              "  </thead>\n",
              "  <tbody>\n",
              "    <tr>\n",
              "      <th>0</th>\n",
              "      <td>1</td>\n",
              "      <td>0</td>\n",
              "      <td>3</td>\n",
              "      <td>Braund, Mr. Owen Harris</td>\n",
              "      <td>male</td>\n",
              "      <td>22.0</td>\n",
              "      <td>1</td>\n",
              "      <td>0</td>\n",
              "      <td>A/5 21171</td>\n",
              "      <td>7.2500</td>\n",
              "      <td>NaN</td>\n",
              "      <td>S</td>\n",
              "    </tr>\n",
              "    <tr>\n",
              "      <th>1</th>\n",
              "      <td>2</td>\n",
              "      <td>1</td>\n",
              "      <td>1</td>\n",
              "      <td>Cumings, Mrs. John Bradley (Florence Briggs Th...</td>\n",
              "      <td>female</td>\n",
              "      <td>38.0</td>\n",
              "      <td>1</td>\n",
              "      <td>0</td>\n",
              "      <td>PC 17599</td>\n",
              "      <td>71.2833</td>\n",
              "      <td>C85</td>\n",
              "      <td>C</td>\n",
              "    </tr>\n",
              "    <tr>\n",
              "      <th>2</th>\n",
              "      <td>3</td>\n",
              "      <td>1</td>\n",
              "      <td>3</td>\n",
              "      <td>Heikkinen, Miss. Laina</td>\n",
              "      <td>female</td>\n",
              "      <td>26.0</td>\n",
              "      <td>0</td>\n",
              "      <td>0</td>\n",
              "      <td>STON/O2. 3101282</td>\n",
              "      <td>7.9250</td>\n",
              "      <td>NaN</td>\n",
              "      <td>S</td>\n",
              "    </tr>\n",
              "    <tr>\n",
              "      <th>3</th>\n",
              "      <td>4</td>\n",
              "      <td>1</td>\n",
              "      <td>1</td>\n",
              "      <td>Futrelle, Mrs. Jacques Heath (Lily May Peel)</td>\n",
              "      <td>female</td>\n",
              "      <td>35.0</td>\n",
              "      <td>1</td>\n",
              "      <td>0</td>\n",
              "      <td>113803</td>\n",
              "      <td>53.1000</td>\n",
              "      <td>C123</td>\n",
              "      <td>S</td>\n",
              "    </tr>\n",
              "    <tr>\n",
              "      <th>4</th>\n",
              "      <td>5</td>\n",
              "      <td>0</td>\n",
              "      <td>3</td>\n",
              "      <td>Allen, Mr. William Henry</td>\n",
              "      <td>male</td>\n",
              "      <td>35.0</td>\n",
              "      <td>0</td>\n",
              "      <td>0</td>\n",
              "      <td>373450</td>\n",
              "      <td>8.0500</td>\n",
              "      <td>NaN</td>\n",
              "      <td>S</td>\n",
              "    </tr>\n",
              "  </tbody>\n",
              "</table>\n",
              "</div>"
            ],
            "text/plain": [
              "   PassengerId  Survived  Pclass  ...     Fare Cabin  Embarked\n",
              "0            1         0       3  ...   7.2500   NaN         S\n",
              "1            2         1       1  ...  71.2833   C85         C\n",
              "2            3         1       3  ...   7.9250   NaN         S\n",
              "3            4         1       1  ...  53.1000  C123         S\n",
              "4            5         0       3  ...   8.0500   NaN         S\n",
              "\n",
              "[5 rows x 12 columns]"
            ]
          },
          "metadata": {
            "tags": []
          },
          "execution_count": 195
        }
      ]
    },
    {
      "cell_type": "markdown",
      "metadata": {
        "id": "wGzCfixUOBjc",
        "colab_type": "text"
      },
      "source": [
        "U can also see that train_cats hasn't changed the data frame at all, all it has done is that it has changed the data type from string to categorical"
      ]
    },
    {
      "cell_type": "code",
      "metadata": {
        "id": "bixS3lmeOAha",
        "colab_type": "code",
        "outputId": "3589ee46-baeb-4c41-8b7f-c5ebf16bd590",
        "colab": {
          "base_uri": "https://localhost:8080/",
          "height": 34
        }
      },
      "source": [
        "data.Embarked.cat.categories"
      ],
      "execution_count": 196,
      "outputs": [
        {
          "output_type": "execute_result",
          "data": {
            "text/plain": [
              "Index(['C', 'Q', 'S'], dtype='object')"
            ]
          },
          "metadata": {
            "tags": []
          },
          "execution_count": 196
        }
      ]
    },
    {
      "cell_type": "markdown",
      "metadata": {
        "id": "eZqN0l6bOdjQ",
        "colab_type": "text"
      },
      "source": [
        "Embarked columns has been categorised, earlier it was an object"
      ]
    },
    {
      "cell_type": "code",
      "metadata": {
        "id": "45mjlpngOanu",
        "colab_type": "code",
        "colab": {}
      },
      "source": [
        "# m = RandomForestRegressor(n_jobs=-1)\n",
        "# # The following code is supposed to fail due to string values in the input data\n",
        "# m.fit(data.drop('Survived', axis=1), data.Survived)\n",
        "\n",
        "# This would give could not convert string to float: 'Braund, Mr. Owen Harris', because what all ML models expect is numeric dataset, but here we have categories, in which we have string data\n",
        "# and string cannot be converted to float is the error"
      ],
      "execution_count": 0,
      "outputs": []
    },
    {
      "cell_type": "code",
      "metadata": {
        "id": "q8j1VoMCPfew",
        "colab_type": "code",
        "outputId": "01ecce8b-6057-432f-d0ab-93f2ac28360b",
        "colab": {
          "base_uri": "https://localhost:8080/",
          "height": 34
        }
      },
      "source": [
        "len(data.Name.cat.categories)"
      ],
      "execution_count": 198,
      "outputs": [
        {
          "output_type": "execute_result",
          "data": {
            "text/plain": [
              "891"
            ]
          },
          "metadata": {
            "tags": []
          },
          "execution_count": 198
        }
      ]
    },
    {
      "cell_type": "markdown",
      "metadata": {
        "id": "LOJn5Ji7QSf6",
        "colab_type": "text"
      },
      "source": [
        "proc_df takes a data frame df and splits off the response variable, and\n",
        "    changes the df into an entirely numeric dataframe. For each column of df \n",
        "    which is not in skip_flds nor in ignore_flds, na values are replaced by the\n",
        "    median value of the column"
      ]
    },
    {
      "cell_type": "code",
      "metadata": {
        "id": "Od3ddqUkQCnQ",
        "colab_type": "code",
        "colab": {}
      },
      "source": [
        "df, y, nas = proc_df(data, 'Survived')"
      ],
      "execution_count": 0,
      "outputs": []
    },
    {
      "cell_type": "code",
      "metadata": {
        "id": "j__aQOsxQjPm",
        "colab_type": "code",
        "outputId": "7828c6a0-04d5-4df6-ed9f-70d6f56ea956",
        "colab": {
          "base_uri": "https://localhost:8080/",
          "height": 67
        }
      },
      "source": [
        "df.columns"
      ],
      "execution_count": 200,
      "outputs": [
        {
          "output_type": "execute_result",
          "data": {
            "text/plain": [
              "Index(['PassengerId', 'Pclass', 'Name', 'Sex', 'Age', 'SibSp', 'Parch',\n",
              "       'Ticket', 'Fare', 'Cabin', 'Embarked', 'Age_na'],\n",
              "      dtype='object')"
            ]
          },
          "metadata": {
            "tags": []
          },
          "execution_count": 200
        }
      ]
    },
    {
      "cell_type": "code",
      "metadata": {
        "id": "vWNNaJJ5Qu19",
        "colab_type": "code",
        "outputId": "695379cd-b1e6-4ada-bc88-b5cca603befc",
        "colab": {
          "base_uri": "https://localhost:8080/",
          "height": 195
        }
      },
      "source": [
        "df.head()"
      ],
      "execution_count": 201,
      "outputs": [
        {
          "output_type": "execute_result",
          "data": {
            "text/html": [
              "<div>\n",
              "<style scoped>\n",
              "    .dataframe tbody tr th:only-of-type {\n",
              "        vertical-align: middle;\n",
              "    }\n",
              "\n",
              "    .dataframe tbody tr th {\n",
              "        vertical-align: top;\n",
              "    }\n",
              "\n",
              "    .dataframe thead th {\n",
              "        text-align: right;\n",
              "    }\n",
              "</style>\n",
              "<table border=\"1\" class=\"dataframe\">\n",
              "  <thead>\n",
              "    <tr style=\"text-align: right;\">\n",
              "      <th></th>\n",
              "      <th>PassengerId</th>\n",
              "      <th>Pclass</th>\n",
              "      <th>Name</th>\n",
              "      <th>Sex</th>\n",
              "      <th>Age</th>\n",
              "      <th>SibSp</th>\n",
              "      <th>Parch</th>\n",
              "      <th>Ticket</th>\n",
              "      <th>Fare</th>\n",
              "      <th>Cabin</th>\n",
              "      <th>Embarked</th>\n",
              "      <th>Age_na</th>\n",
              "    </tr>\n",
              "  </thead>\n",
              "  <tbody>\n",
              "    <tr>\n",
              "      <th>0</th>\n",
              "      <td>1</td>\n",
              "      <td>3</td>\n",
              "      <td>109</td>\n",
              "      <td>2</td>\n",
              "      <td>22.0</td>\n",
              "      <td>1</td>\n",
              "      <td>0</td>\n",
              "      <td>524</td>\n",
              "      <td>7.2500</td>\n",
              "      <td>0</td>\n",
              "      <td>3</td>\n",
              "      <td>False</td>\n",
              "    </tr>\n",
              "    <tr>\n",
              "      <th>1</th>\n",
              "      <td>2</td>\n",
              "      <td>1</td>\n",
              "      <td>191</td>\n",
              "      <td>1</td>\n",
              "      <td>38.0</td>\n",
              "      <td>1</td>\n",
              "      <td>0</td>\n",
              "      <td>597</td>\n",
              "      <td>71.2833</td>\n",
              "      <td>82</td>\n",
              "      <td>1</td>\n",
              "      <td>False</td>\n",
              "    </tr>\n",
              "    <tr>\n",
              "      <th>2</th>\n",
              "      <td>3</td>\n",
              "      <td>3</td>\n",
              "      <td>354</td>\n",
              "      <td>1</td>\n",
              "      <td>26.0</td>\n",
              "      <td>0</td>\n",
              "      <td>0</td>\n",
              "      <td>670</td>\n",
              "      <td>7.9250</td>\n",
              "      <td>0</td>\n",
              "      <td>3</td>\n",
              "      <td>False</td>\n",
              "    </tr>\n",
              "    <tr>\n",
              "      <th>3</th>\n",
              "      <td>4</td>\n",
              "      <td>1</td>\n",
              "      <td>273</td>\n",
              "      <td>1</td>\n",
              "      <td>35.0</td>\n",
              "      <td>1</td>\n",
              "      <td>0</td>\n",
              "      <td>50</td>\n",
              "      <td>53.1000</td>\n",
              "      <td>56</td>\n",
              "      <td>3</td>\n",
              "      <td>False</td>\n",
              "    </tr>\n",
              "    <tr>\n",
              "      <th>4</th>\n",
              "      <td>5</td>\n",
              "      <td>3</td>\n",
              "      <td>16</td>\n",
              "      <td>2</td>\n",
              "      <td>35.0</td>\n",
              "      <td>0</td>\n",
              "      <td>0</td>\n",
              "      <td>473</td>\n",
              "      <td>8.0500</td>\n",
              "      <td>0</td>\n",
              "      <td>3</td>\n",
              "      <td>False</td>\n",
              "    </tr>\n",
              "  </tbody>\n",
              "</table>\n",
              "</div>"
            ],
            "text/plain": [
              "   PassengerId  Pclass  Name  Sex  ...     Fare  Cabin  Embarked  Age_na\n",
              "0            1       3   109    2  ...   7.2500      0         3   False\n",
              "1            2       1   191    1  ...  71.2833     82         1   False\n",
              "2            3       3   354    1  ...   7.9250      0         3   False\n",
              "3            4       1   273    1  ...  53.1000     56         3   False\n",
              "4            5       3    16    2  ...   8.0500      0         3   False\n",
              "\n",
              "[5 rows x 12 columns]"
            ]
          },
          "metadata": {
            "tags": []
          },
          "execution_count": 201
        }
      ]
    },
    {
      "cell_type": "markdown",
      "metadata": {
        "id": "lTwrCg45QyHl",
        "colab_type": "text"
      },
      "source": [
        "U can see that Name also have been numericalised, so this function is amazing"
      ]
    },
    {
      "cell_type": "code",
      "metadata": {
        "id": "U7pgz4DBQ4J5",
        "colab_type": "code",
        "outputId": "52d16212-2990-481d-ae43-3df9107a6ac4",
        "colab": {
          "base_uri": "https://localhost:8080/",
          "height": 67
        }
      },
      "source": [
        "m=RandomForestClassifier(n_jobs=-1)\n",
        "m.fit(df,y)\n",
        "m.score(df,y)"
      ],
      "execution_count": 202,
      "outputs": [
        {
          "output_type": "stream",
          "text": [
            "/usr/local/lib/python3.6/dist-packages/sklearn/ensemble/forest.py:245: FutureWarning: The default value of n_estimators will change from 10 in version 0.20 to 100 in 0.22.\n",
            "  \"10 in version 0.20 to 100 in 0.22.\", FutureWarning)\n"
          ],
          "name": "stderr"
        },
        {
          "output_type": "execute_result",
          "data": {
            "text/plain": [
              "0.9820426487093153"
            ]
          },
          "metadata": {
            "tags": []
          },
          "execution_count": 202
        }
      ]
    },
    {
      "cell_type": "markdown",
      "metadata": {
        "id": "nFm4BAx6Rg7T",
        "colab_type": "text"
      },
      "source": [
        "So we have a training score of 98%"
      ]
    },
    {
      "cell_type": "markdown",
      "metadata": {
        "id": "BsHHDvo8RsV4",
        "colab_type": "text"
      },
      "source": [
        "## What each tree is doing\n",
        "\n",
        "What if I have only One tree"
      ]
    },
    {
      "cell_type": "code",
      "metadata": {
        "id": "BfHLfwVDRl-r",
        "colab_type": "code",
        "outputId": "199c48ba-9527-4c06-95c7-bb7e4dbc9430",
        "colab": {
          "base_uri": "https://localhost:8080/",
          "height": 34
        }
      },
      "source": [
        "m=RandomForestClassifier(n_jobs=-1,n_estimators=1,bootstrap=False)\n",
        "m.fit(df,y)\n",
        "m.score(df,y)"
      ],
      "execution_count": 203,
      "outputs": [
        {
          "output_type": "execute_result",
          "data": {
            "text/plain": [
              "1.0"
            ]
          },
          "metadata": {
            "tags": []
          },
          "execution_count": 203
        }
      ]
    },
    {
      "cell_type": "code",
      "metadata": {
        "id": "rBvUWNKBTqCv",
        "colab_type": "code",
        "outputId": "4ba43a57-b725-489b-bb00-de9070e9bc77",
        "colab": {
          "base_uri": "https://localhost:8080/",
          "height": 235
        }
      },
      "source": [
        "!pip install IPython"
      ],
      "execution_count": 204,
      "outputs": [
        {
          "output_type": "stream",
          "text": [
            "Requirement already satisfied: IPython in /usr/local/lib/python3.6/dist-packages (5.5.0)\n",
            "Requirement already satisfied: decorator in /usr/local/lib/python3.6/dist-packages (from IPython) (4.4.0)\n",
            "Requirement already satisfied: simplegeneric>0.8 in /usr/local/lib/python3.6/dist-packages (from IPython) (0.8.1)\n",
            "Requirement already satisfied: traitlets>=4.2 in /usr/local/lib/python3.6/dist-packages (from IPython) (4.3.2)\n",
            "Requirement already satisfied: pexpect; sys_platform != \"win32\" in /usr/local/lib/python3.6/dist-packages (from IPython) (4.7.0)\n",
            "Requirement already satisfied: setuptools>=18.5 in /usr/local/lib/python3.6/dist-packages (from IPython) (41.0.1)\n",
            "Requirement already satisfied: pickleshare in /usr/local/lib/python3.6/dist-packages (from IPython) (0.7.5)\n",
            "Requirement already satisfied: pygments in /usr/local/lib/python3.6/dist-packages (from IPython) (2.1.3)\n",
            "Requirement already satisfied: prompt-toolkit<2.0.0,>=1.0.4 in /usr/local/lib/python3.6/dist-packages (from IPython) (1.0.16)\n",
            "Requirement already satisfied: six in /usr/local/lib/python3.6/dist-packages (from traitlets>=4.2->IPython) (1.12.0)\n",
            "Requirement already satisfied: ipython-genutils in /usr/local/lib/python3.6/dist-packages (from traitlets>=4.2->IPython) (0.2.0)\n",
            "Requirement already satisfied: ptyprocess>=0.5 in /usr/local/lib/python3.6/dist-packages (from pexpect; sys_platform != \"win32\"->IPython) (0.6.0)\n",
            "Requirement already satisfied: wcwidth in /usr/local/lib/python3.6/dist-packages (from prompt-toolkit<2.0.0,>=1.0.4->IPython) (0.1.7)\n"
          ],
          "name": "stdout"
        }
      ]
    },
    {
      "cell_type": "code",
      "metadata": {
        "id": "4HNcwpHfS7_V",
        "colab_type": "code",
        "colab": {}
      },
      "source": [
        "import IPython\n",
        "import graphviz\n",
        "# from sklearn.tree import graphviz\n",
        "from sklearn.tree import export_graphviz\n",
        "from IPython.display import display"
      ],
      "execution_count": 0,
      "outputs": []
    },
    {
      "cell_type": "markdown",
      "metadata": {
        "id": "fSwN5G_VUGEN",
        "colab_type": "text"
      },
      "source": [
        "## Solve this issue\n",
        "\n",
        "Of not able to plot the tree"
      ]
    },
    {
      "cell_type": "code",
      "metadata": {
        "id": "LhhaMnCNSjV9",
        "colab_type": "code",
        "outputId": "1ae51013-d4ec-417a-ac19-88c39a74082c",
        "colab": {
          "base_uri": "https://localhost:8080/",
          "height": 279
        }
      },
      "source": [
        "draw_tree(m.estimators_[0],df,precision=3)"
      ],
      "execution_count": 206,
      "outputs": [
        {
          "output_type": "error",
          "ename": "NameError",
          "evalue": "ignored",
          "traceback": [
            "\u001b[0;31m---------------------------------------------------------------------------\u001b[0m",
            "\u001b[0;31mNameError\u001b[0m                                 Traceback (most recent call last)",
            "\u001b[0;32m<ipython-input-206-e3f46e9c3150>\u001b[0m in \u001b[0;36m<module>\u001b[0;34m()\u001b[0m\n\u001b[0;32m----> 1\u001b[0;31m \u001b[0mdraw_tree\u001b[0m\u001b[0;34m(\u001b[0m\u001b[0mm\u001b[0m\u001b[0;34m.\u001b[0m\u001b[0mestimators_\u001b[0m\u001b[0;34m[\u001b[0m\u001b[0;36m0\u001b[0m\u001b[0;34m]\u001b[0m\u001b[0;34m,\u001b[0m\u001b[0mdf\u001b[0m\u001b[0;34m,\u001b[0m\u001b[0mprecision\u001b[0m\u001b[0;34m=\u001b[0m\u001b[0;36m3\u001b[0m\u001b[0;34m)\u001b[0m\u001b[0;34m\u001b[0m\u001b[0;34m\u001b[0m\u001b[0m\n\u001b[0m",
            "\u001b[0;32m/usr/local/lib/python3.6/dist-packages/fastai/structured.py\u001b[0m in \u001b[0;36mdraw_tree\u001b[0;34m(t, df, size, ratio, precision)\u001b[0m\n\u001b[1;32m     30\u001b[0m     s=export_graphviz(t, out_file=None, feature_names=df.columns, filled=True,\n\u001b[1;32m     31\u001b[0m                       special_characters=True, rotate=True, precision=precision)\n\u001b[0;32m---> 32\u001b[0;31m     IPython.display.display(graphviz.Source(re.sub('Tree {',\n\u001b[0m\u001b[1;32m     33\u001b[0m        f'Tree {{ size={size}; ratio={ratio}', s)))\n\u001b[1;32m     34\u001b[0m \u001b[0;34m\u001b[0m\u001b[0m\n",
            "\u001b[0;31mNameError\u001b[0m: name 'IPython' is not defined"
          ]
        }
      ]
    },
    {
      "cell_type": "code",
      "metadata": {
        "id": "8OisFqm6S058",
        "colab_type": "code",
        "colab": {}
      },
      "source": [
        ""
      ],
      "execution_count": 0,
      "outputs": []
    },
    {
      "cell_type": "markdown",
      "metadata": {
        "id": "gHHEZtL_URQg",
        "colab_type": "text"
      },
      "source": [
        "#Observation\n",
        "\n",
        "We have seen that single tree is performing much better, than ensemble\n",
        "\n",
        "But we havn't tested it against validation set, since we have small dataset, we can't have validation dataset, and luckily for Random forest, we dont need validation set, we can use OBB score\n",
        "\n",
        "\n",
        "## OR lets say\n",
        "\n",
        "Have some validation set, of 200 rows, so that we can play around and so some tweaks\n",
        "\n",
        "It is important to make good validation set, otherwise we end up with wrong results"
      ]
    },
    {
      "cell_type": "code",
      "metadata": {
        "id": "mJLSAvHQUqAU",
        "colab_type": "code",
        "outputId": "ebe102d1-6eea-4be1-bfc1-2aca59f50b5c",
        "colab": {
          "base_uri": "https://localhost:8080/",
          "height": 34
        }
      },
      "source": [
        "threshold=(100/len(df))*200\n",
        "print(threshold)"
      ],
      "execution_count": 207,
      "outputs": [
        {
          "output_type": "stream",
          "text": [
            "22.44668911335578\n"
          ],
          "name": "stdout"
        }
      ]
    },
    {
      "cell_type": "code",
      "metadata": {
        "id": "utshNZaHVzHW",
        "colab_type": "code",
        "colab": {}
      },
      "source": [
        "# let take 78% data into train and 22% in validation, let us do it randomly becoz timestamp dont play a huge role here\n",
        "from sklearn.model_selection import train_test_split\n",
        "def_train, def_val,y_train, y_val=train_test_split(df,y,test_size=0.22,random_state=77)"
      ],
      "execution_count": 0,
      "outputs": []
    },
    {
      "cell_type": "code",
      "metadata": {
        "id": "lMuaOL_voAdB",
        "colab_type": "code",
        "outputId": "902ed60c-150a-4d3c-c9d0-52c8bb22f384",
        "colab": {
          "base_uri": "https://localhost:8080/",
          "height": 50
        }
      },
      "source": [
        "print(def_train.shape)\n",
        "print(def_val.shape)"
      ],
      "execution_count": 209,
      "outputs": [
        {
          "output_type": "stream",
          "text": [
            "(694, 12)\n",
            "(197, 12)\n"
          ],
          "name": "stdout"
        }
      ]
    },
    {
      "cell_type": "markdown",
      "metadata": {
        "id": "Zj-ldfsnoWot",
        "colab_type": "text"
      },
      "source": [
        "Now we are good to go and now we will train the model, and then tune the parameters accordingly"
      ]
    },
    {
      "cell_type": "code",
      "metadata": {
        "id": "c1d9-IvRoO_5",
        "colab_type": "code",
        "outputId": "c90c1b2c-a748-45a4-949c-ef18ca063604",
        "colab": {
          "base_uri": "https://localhost:8080/",
          "height": 50
        }
      },
      "source": [
        "m=RandomForestClassifier(n_estimators=10)\n",
        "m.fit(def_train,y_train)\n",
        "print('the training score is ',m.score(def_train,y_train))\n",
        "print('the val score is ',m.score(def_val,y_val))"
      ],
      "execution_count": 210,
      "outputs": [
        {
          "output_type": "stream",
          "text": [
            "the training score is  0.9855907780979827\n",
            "the val score is  0.8121827411167513\n"
          ],
          "name": "stdout"
        }
      ]
    },
    {
      "cell_type": "markdown",
      "metadata": {
        "id": "R6MAQ7BzpSuY",
        "colab_type": "text"
      },
      "source": [
        "It seems we are overfitting the data because, we have val_score very less as compared to the training error\n",
        "\n",
        "Or may turn out that our validation set is  not good, well so good case, let us say we have good validation set, and now we are get better validation score\n",
        "\n",
        "We can do so in many ways, One way is that we can tune certain hyper parameters, like : \n",
        "\n",
        "###min_sample_leaf,which would affect the height of the tree and would reduce the overfitting\n",
        "\n",
        "###max_feature which would do sampling of the columns, and thus each tree in forestg would have different properties and prediction power\n",
        "\n",
        "###other way is by enabling boostraping as True, by default bootstrap is True\n",
        "\n",
        "Try out increasing the number of tree also"
      ]
    },
    {
      "cell_type": "code",
      "metadata": {
        "id": "GjcEGRCTpRjx",
        "colab_type": "code",
        "outputId": "329c7e3f-6001-460e-c44b-60dbdc734a86",
        "colab": {
          "base_uri": "https://localhost:8080/",
          "height": 487
        }
      },
      "source": [
        "val_score_list=[]\n",
        "estimators_list=[]\n",
        "for i in [20,30,40,50,60,100,120]:\n",
        "  m=RandomForestClassifier(n_estimators=i,bootstrap=False)\n",
        "  m.fit(def_train,y_train)\n",
        "  print('when estimators are ',i)\n",
        "  p=m.score(def_train,y_train)\n",
        "  print('training score is ',p)\n",
        "  q=m.score(def_val,y_val)\n",
        "  print('validation score is ',q)\n",
        "  print()\n",
        "  val_score_list.append(q)\n",
        "  estimators_list.append(i)"
      ],
      "execution_count": 211,
      "outputs": [
        {
          "output_type": "stream",
          "text": [
            "when estimators are  20\n",
            "training score is  1.0\n",
            "validation score is  0.8375634517766497\n",
            "\n",
            "when estimators are  30\n",
            "training score is  1.0\n",
            "validation score is  0.8426395939086294\n",
            "\n",
            "when estimators are  40\n",
            "training score is  1.0\n",
            "validation score is  0.8121827411167513\n",
            "\n",
            "when estimators are  50\n",
            "training score is  1.0\n",
            "validation score is  0.8274111675126904\n",
            "\n",
            "when estimators are  60\n",
            "training score is  1.0\n",
            "validation score is  0.8274111675126904\n",
            "\n",
            "when estimators are  100\n",
            "training score is  1.0\n",
            "validation score is  0.8375634517766497\n",
            "\n",
            "when estimators are  120\n",
            "training score is  1.0\n",
            "validation score is  0.8324873096446701\n",
            "\n"
          ],
          "name": "stdout"
        }
      ]
    },
    {
      "cell_type": "code",
      "metadata": {
        "id": "pgVJS4F0tauv",
        "colab_type": "code",
        "colab": {}
      },
      "source": [
        "import matplotlib.pyplot as plt"
      ],
      "execution_count": 0,
      "outputs": []
    },
    {
      "cell_type": "code",
      "metadata": {
        "id": "Cq3lNnyuuibB",
        "colab_type": "code",
        "colab": {}
      },
      "source": [
        "??plt.plot()"
      ],
      "execution_count": 0,
      "outputs": []
    },
    {
      "cell_type": "code",
      "metadata": {
        "id": "8UEQUly-tpou",
        "colab_type": "code",
        "outputId": "60479eb0-2b1f-4b7f-9756-640c9b52b393",
        "colab": {
          "base_uri": "https://localhost:8080/",
          "height": 286
        }
      },
      "source": [
        "plt.plot(estimators_list,val_score_list,'go--')"
      ],
      "execution_count": 214,
      "outputs": [
        {
          "output_type": "execute_result",
          "data": {
            "text/plain": [
              "[<matplotlib.lines.Line2D at 0x7f1a07554c18>]"
            ]
          },
          "metadata": {
            "tags": []
          },
          "execution_count": 214
        },
        {
          "output_type": "display_data",
          "data": {
            "image/png": "[encoded data removed]",
            "text/plain": [
              "<Figure size 432x288 with 1 Axes>"
            ]
          },
          "metadata": {
            "tags": []
          }
        }
      ]
    },
    {
      "cell_type": "markdown",
      "metadata": {
        "id": "bvgjG9i_vSbm",
        "colab_type": "text"
      },
      "source": [
        "## Observation\n",
        "\n",
        "Given that boostraping is False\n",
        "We just plotted that val score became almost flat, no improvement\n",
        "\n",
        "We are terribly overfitting the data, as we have val score as 1, and getting low val score"
      ]
    },
    {
      "cell_type": "markdown",
      "metadata": {
        "id": "B_Jd5JBex1Os",
        "colab_type": "text"
      },
      "source": [
        "## Lets tune others parameters\n",
        "\n",
        "## Bootstraping\n",
        "\n",
        "\n",
        "Let us try bootstraping, which says that instead of taking whole dataset for training we take only a few rows(subset with replacement ) and train each  tree, and in such a way we have different trees and we can get better Random Forest Model\n",
        "\n",
        "Since we are using only subset of data to train each tree, thus remaining rows act as validation set for that tree, thus each tree has its validation set, and we can have OBB score in case of bootstrap is true\n",
        "\n",
        "How OBB score is calculated is as follows, for each row, let us say row A, we see, in whose validation set this row A falls and all those trees predict the value of row A, and we take the average of all these predictions as final prediction of row A.\n",
        "\n",
        "Same is done for all rows in the dataset, and then these predictions are compared with actual value of y, and OBB score is calculated\n",
        "\n",
        "OBB score is less promising than validation score. Think Why?"
      ]
    },
    {
      "cell_type": "code",
      "metadata": {
        "id": "v0mmQaKbvRRk",
        "colab_type": "code",
        "colab": {
          "base_uri": "https://localhost:8080/",
          "height": 487
        },
        "outputId": "86a554dc-4651-4528-d3e2-b69e34454970"
      },
      "source": [
        "val_score_list=[]\n",
        "estimators_list=[]\n",
        "for i in [20,30,40,50,60,100,120]:\n",
        "  m=RandomForestClassifier(n_estimators=i,bootstrap=True)\n",
        "  m.fit(def_train,y_train)\n",
        "  print('when estimators are ',i)\n",
        "  p=m.score(def_train,y_train)\n",
        "  print('training score is ',p)\n",
        "  q=m.score(def_val,y_val)\n",
        "  print('validation score is ',q)\n",
        "  print()\n",
        "  val_score_list.append(q)\n",
        "  estimators_list.append(i)"
      ],
      "execution_count": 215,
      "outputs": [
        {
          "output_type": "stream",
          "text": [
            "when estimators are  20\n",
            "training score is  0.9956772334293948\n",
            "validation score is  0.8274111675126904\n",
            "\n",
            "when estimators are  30\n",
            "training score is  1.0\n",
            "validation score is  0.8324873096446701\n",
            "\n",
            "when estimators are  40\n",
            "training score is  0.9985590778097982\n",
            "validation score is  0.8020304568527918\n",
            "\n",
            "when estimators are  50\n",
            "training score is  1.0\n",
            "validation score is  0.8324873096446701\n",
            "\n",
            "when estimators are  60\n",
            "training score is  1.0\n",
            "validation score is  0.7969543147208121\n",
            "\n",
            "when estimators are  100\n",
            "training score is  1.0\n",
            "validation score is  0.8121827411167513\n",
            "\n",
            "when estimators are  120\n",
            "training score is  1.0\n",
            "validation score is  0.8121827411167513\n",
            "\n"
          ],
          "name": "stdout"
        }
      ]
    },
    {
      "cell_type": "code",
      "metadata": {
        "id": "-F8HuIN606Bb",
        "colab_type": "code",
        "colab": {
          "base_uri": "https://localhost:8080/",
          "height": 286
        },
        "outputId": "32f3f5c6-4c65-42e3-b008-fe77bbbe0d6e"
      },
      "source": [
        "plt.plot(estimators_list,val_score_list,'go--')"
      ],
      "execution_count": 216,
      "outputs": [
        {
          "output_type": "execute_result",
          "data": {
            "text/plain": [
              "[<matplotlib.lines.Line2D at 0x7f1a074ae4a8>]"
            ]
          },
          "metadata": {
            "tags": []
          },
          "execution_count": 216
        },
        {
          "output_type": "display_data",
          "data": {
            "image/png": "[encoded data removed]",
            "text/plain": [
              "<Figure size 432x288 with 1 Axes>"
            ]
          },
          "metadata": {
            "tags": []
          }
        }
      ]
    },
    {
      "cell_type": "markdown",
      "metadata": {
        "id": "yMQIdtSt1Yyi",
        "colab_type": "text"
      },
      "source": [
        "Clearly Boostraping is removing the overfit by 0.1 percent, increase in # trees is then again making overfit\n",
        "\n",
        "\n",
        "##Reason why increase in # trees is increasing overfit?\n",
        "One possible reason is that as all trees are identical in their decision making, which we can change by max_features"
      ]
    },
    {
      "cell_type": "markdown",
      "metadata": {
        "id": "xfqD3RQG2ZpE",
        "colab_type": "text"
      },
      "source": [
        "## Tuning min_samples_leaf\n",
        "\n",
        "By default it is 1\n",
        "\n",
        "The minimum number of samples required to be at a leaf node.\n",
        "        A split point at any depth will only be considered if it leaves at\n",
        "        least ``min_samples_leaf`` training samples in each of the left and\n",
        "        right branches.  This may have the effect of smoothing the model,\n",
        "        especially in regression."
      ]
    },
    {
      "cell_type": "code",
      "metadata": {
        "id": "qsOFZjEN2LBD",
        "colab_type": "code",
        "colab": {
          "base_uri": "https://localhost:8080/",
          "height": 1000
        },
        "outputId": "a7d910ff-bc9b-452e-b880-9783bd675d1b"
      },
      "source": [
        "val_score_list=[]\n",
        "estimators_list=[]\n",
        "for i in [1,2,3,4,5,6,7,8,9,10]:\n",
        "  m=RandomForestClassifier(min_samples_leaf=i)\n",
        "  m.fit(def_train,y_train)\n",
        "  print('when estimators are ',i)\n",
        "  p=m.score(def_train,y_train)\n",
        "  print('training score is ',p)\n",
        "  q=m.score(def_val,y_val)\n",
        "  print('validation score is ',q)\n",
        "  print()\n",
        "  val_score_list.append(q)\n",
        "  estimators_list.append(i)"
      ],
      "execution_count": 217,
      "outputs": [
        {
          "output_type": "stream",
          "text": [
            "/usr/local/lib/python3.6/dist-packages/sklearn/ensemble/forest.py:245: FutureWarning: The default value of n_estimators will change from 10 in version 0.20 to 100 in 0.22.\n",
            "  \"10 in version 0.20 to 100 in 0.22.\", FutureWarning)\n",
            "/usr/local/lib/python3.6/dist-packages/sklearn/ensemble/forest.py:245: FutureWarning: The default value of n_estimators will change from 10 in version 0.20 to 100 in 0.22.\n",
            "  \"10 in version 0.20 to 100 in 0.22.\", FutureWarning)\n",
            "/usr/local/lib/python3.6/dist-packages/sklearn/ensemble/forest.py:245: FutureWarning: The default value of n_estimators will change from 10 in version 0.20 to 100 in 0.22.\n",
            "  \"10 in version 0.20 to 100 in 0.22.\", FutureWarning)\n",
            "/usr/local/lib/python3.6/dist-packages/sklearn/ensemble/forest.py:245: FutureWarning: The default value of n_estimators will change from 10 in version 0.20 to 100 in 0.22.\n",
            "  \"10 in version 0.20 to 100 in 0.22.\", FutureWarning)\n",
            "/usr/local/lib/python3.6/dist-packages/sklearn/ensemble/forest.py:245: FutureWarning: The default value of n_estimators will change from 10 in version 0.20 to 100 in 0.22.\n",
            "  \"10 in version 0.20 to 100 in 0.22.\", FutureWarning)\n",
            "/usr/local/lib/python3.6/dist-packages/sklearn/ensemble/forest.py:245: FutureWarning: The default value of n_estimators will change from 10 in version 0.20 to 100 in 0.22.\n",
            "  \"10 in version 0.20 to 100 in 0.22.\", FutureWarning)\n",
            "/usr/local/lib/python3.6/dist-packages/sklearn/ensemble/forest.py:245: FutureWarning: The default value of n_estimators will change from 10 in version 0.20 to 100 in 0.22.\n",
            "  \"10 in version 0.20 to 100 in 0.22.\", FutureWarning)\n",
            "/usr/local/lib/python3.6/dist-packages/sklearn/ensemble/forest.py:245: FutureWarning: The default value of n_estimators will change from 10 in version 0.20 to 100 in 0.22.\n",
            "  \"10 in version 0.20 to 100 in 0.22.\", FutureWarning)\n"
          ],
          "name": "stderr"
        },
        {
          "output_type": "stream",
          "text": [
            "when estimators are  1\n",
            "training score is  0.9913544668587896\n",
            "validation score is  0.8324873096446701\n",
            "\n",
            "when estimators are  2\n",
            "training score is  0.946685878962536\n",
            "validation score is  0.8324873096446701\n",
            "\n",
            "when estimators are  3\n",
            "training score is  0.9178674351585014\n",
            "validation score is  0.8071065989847716\n",
            "\n",
            "when estimators are  4\n",
            "training score is  0.8962536023054755\n",
            "validation score is  0.8071065989847716\n",
            "\n",
            "when estimators are  5\n",
            "training score is  0.8847262247838616\n",
            "validation score is  0.8223350253807107\n",
            "\n",
            "when estimators are  6\n",
            "training score is  0.8904899135446686\n",
            "validation score is  0.817258883248731\n",
            "\n",
            "when estimators are  7\n",
            "training score is  0.8847262247838616\n",
            "validation score is  0.8274111675126904\n",
            "\n",
            "when estimators are  8\n",
            "training score is  0.877521613832853\n",
            "validation score is  0.8274111675126904\n",
            "\n",
            "when estimators are  9\n",
            "training score is  0.8530259365994236\n",
            "validation score is  0.8020304568527918\n",
            "\n",
            "when estimators are  10\n",
            "training score is  0.8645533141210374\n",
            "validation score is  0.8121827411167513\n",
            "\n"
          ],
          "name": "stdout"
        },
        {
          "output_type": "stream",
          "text": [
            "/usr/local/lib/python3.6/dist-packages/sklearn/ensemble/forest.py:245: FutureWarning: The default value of n_estimators will change from 10 in version 0.20 to 100 in 0.22.\n",
            "  \"10 in version 0.20 to 100 in 0.22.\", FutureWarning)\n",
            "/usr/local/lib/python3.6/dist-packages/sklearn/ensemble/forest.py:245: FutureWarning: The default value of n_estimators will change from 10 in version 0.20 to 100 in 0.22.\n",
            "  \"10 in version 0.20 to 100 in 0.22.\", FutureWarning)\n"
          ],
          "name": "stderr"
        }
      ]
    },
    {
      "cell_type": "code",
      "metadata": {
        "id": "JiMH-qH24Avy",
        "colab_type": "code",
        "colab": {
          "base_uri": "https://localhost:8080/",
          "height": 286
        },
        "outputId": "07beb4fc-8274-453c-d2cb-bde009f777ba"
      },
      "source": [
        "plt.plot(estimators_list,val_score_list,'go--')"
      ],
      "execution_count": 218,
      "outputs": [
        {
          "output_type": "execute_result",
          "data": {
            "text/plain": [
              "[<matplotlib.lines.Line2D at 0x7f1a0747f8d0>]"
            ]
          },
          "metadata": {
            "tags": []
          },
          "execution_count": 218
        },
        {
          "output_type": "display_data",
          "data": {
            "image/png": "[encoded data removed]",
            "text/plain": [
              "<Figure size 432x288 with 1 Axes>"
            ]
          },
          "metadata": {
            "tags": []
          }
        }
      ]
    },
    {
      "cell_type": "markdown",
      "metadata": {
        "id": "ULKM6hZ44gVb",
        "colab_type": "text"
      },
      "source": [
        "## checkpoint\n",
        "Got highest score of 84% at leaf size of 9"
      ]
    },
    {
      "cell_type": "markdown",
      "metadata": {
        "id": "_ZUO15My4xgR",
        "colab_type": "text"
      },
      "source": [
        "## Tuning the max_feature\n",
        "\n",
        "The number of features to consider when looking for the best split:\n",
        "\n",
        "\n",
        "If “auto”, then max_features=sqrt(n_features).\n",
        "\n",
        "If “sqrt”, then max_features=sqrt(n_features) (same as “auto”).\n",
        "\n",
        "If “log2”, then max_features=log2(n_features)"
      ]
    },
    {
      "cell_type": "code",
      "metadata": {
        "id": "6FC7Xhjd-F1Q",
        "colab_type": "code",
        "colab": {}
      },
      "source": [
        "from math import sqrt"
      ],
      "execution_count": 0,
      "outputs": []
    },
    {
      "cell_type": "code",
      "metadata": {
        "id": "1mVyskQq4wwA",
        "colab_type": "code",
        "colab": {
          "base_uri": "https://localhost:8080/",
          "height": 84
        },
        "outputId": "5de0f431-028f-40d2-8665-d06a2d256bf7"
      },
      "source": [
        "m=RandomForestClassifier(max_features=9,bootstrap=False)\n",
        "m.fit(def_train,y_train)\n",
        "print(m.score(def_train,y_train))\n",
        "print(m.score(def_val,y_val))"
      ],
      "execution_count": 220,
      "outputs": [
        {
          "output_type": "stream",
          "text": [
            "1.0\n",
            "0.8274111675126904\n"
          ],
          "name": "stdout"
        },
        {
          "output_type": "stream",
          "text": [
            "/usr/local/lib/python3.6/dist-packages/sklearn/ensemble/forest.py:245: FutureWarning: The default value of n_estimators will change from 10 in version 0.20 to 100 in 0.22.\n",
            "  \"10 in version 0.20 to 100 in 0.22.\", FutureWarning)\n"
          ],
          "name": "stderr"
        }
      ]
    },
    {
      "cell_type": "markdown",
      "metadata": {
        "id": "Vf5cd0Dx_XZ4",
        "colab_type": "text"
      },
      "source": [
        "9 max_features is giving us better validation error"
      ]
    },
    {
      "cell_type": "markdown",
      "metadata": {
        "id": "xE0Zr_9cAcU5",
        "colab_type": "text"
      },
      "source": [
        "## Confidence based on tree variance\n",
        "\n",
        "\n",
        "We will talk about this later"
      ]
    },
    {
      "cell_type": "markdown",
      "metadata": {
        "id": "e2HtOlU7_qbw",
        "colab_type": "text"
      },
      "source": [
        "## Feature Importance"
      ]
    },
    {
      "cell_type": "code",
      "metadata": {
        "id": "m_q4IsDHApeK",
        "colab_type": "code",
        "colab": {
          "base_uri": "https://localhost:8080/",
          "height": 50
        },
        "outputId": "87c6d9f2-bef3-47e9-c8d2-bf3a9a8150d8"
      },
      "source": [
        "# talking all the best params from above\n",
        "m=RandomForestClassifier(n_estimators=30,bootstrap=True,min_samples_leaf=9 ,max_features=9)\n",
        "m.fit(def_train,y_train)\n",
        "print(m.score(def_train,y_train))\n",
        "print(m.score(def_val,y_val))"
      ],
      "execution_count": 221,
      "outputs": [
        {
          "output_type": "stream",
          "text": [
            "0.8847262247838616\n",
            "0.817258883248731\n"
          ],
          "name": "stdout"
        }
      ]
    },
    {
      "cell_type": "markdown",
      "metadata": {
        "id": "us9gX1YpCF18",
        "colab_type": "text"
      },
      "source": [
        "Luckily we are not overfitting but have not too good validation score"
      ]
    },
    {
      "cell_type": "code",
      "metadata": {
        "id": "8d1IdpLJ4cLl",
        "colab_type": "code",
        "colab": {
          "base_uri": "https://localhost:8080/",
          "height": 0
        },
        "outputId": "19329b98-4aa3-41cb-9f94-170d8b4f0db5"
      },
      "source": [
        "fi = rf_feat_importance(m, def_train); \n",
        "fi"
      ],
      "execution_count": 222,
      "outputs": [
        {
          "output_type": "execute_result",
          "data": {
            "text/html": [
              "<div>\n",
              "<style scoped>\n",
              "    .dataframe tbody tr th:only-of-type {\n",
              "        vertical-align: middle;\n",
              "    }\n",
              "\n",
              "    .dataframe tbody tr th {\n",
              "        vertical-align: top;\n",
              "    }\n",
              "\n",
              "    .dataframe thead th {\n",
              "        text-align: right;\n",
              "    }\n",
              "</style>\n",
              "<table border=\"1\" class=\"dataframe\">\n",
              "  <thead>\n",
              "    <tr style=\"text-align: right;\">\n",
              "      <th></th>\n",
              "      <th>cols</th>\n",
              "      <th>imp</th>\n",
              "    </tr>\n",
              "  </thead>\n",
              "  <tbody>\n",
              "    <tr>\n",
              "      <th>3</th>\n",
              "      <td>Sex</td>\n",
              "      <td>0.434069</td>\n",
              "    </tr>\n",
              "    <tr>\n",
              "      <th>8</th>\n",
              "      <td>Fare</td>\n",
              "      <td>0.110578</td>\n",
              "    </tr>\n",
              "    <tr>\n",
              "      <th>1</th>\n",
              "      <td>Pclass</td>\n",
              "      <td>0.095130</td>\n",
              "    </tr>\n",
              "    <tr>\n",
              "      <th>7</th>\n",
              "      <td>Ticket</td>\n",
              "      <td>0.094634</td>\n",
              "    </tr>\n",
              "    <tr>\n",
              "      <th>9</th>\n",
              "      <td>Cabin</td>\n",
              "      <td>0.070303</td>\n",
              "    </tr>\n",
              "    <tr>\n",
              "      <th>4</th>\n",
              "      <td>Age</td>\n",
              "      <td>0.068870</td>\n",
              "    </tr>\n",
              "    <tr>\n",
              "      <th>2</th>\n",
              "      <td>Name</td>\n",
              "      <td>0.059434</td>\n",
              "    </tr>\n",
              "    <tr>\n",
              "      <th>0</th>\n",
              "      <td>PassengerId</td>\n",
              "      <td>0.041581</td>\n",
              "    </tr>\n",
              "    <tr>\n",
              "      <th>6</th>\n",
              "      <td>Parch</td>\n",
              "      <td>0.009910</td>\n",
              "    </tr>\n",
              "    <tr>\n",
              "      <th>10</th>\n",
              "      <td>Embarked</td>\n",
              "      <td>0.007770</td>\n",
              "    </tr>\n",
              "    <tr>\n",
              "      <th>5</th>\n",
              "      <td>SibSp</td>\n",
              "      <td>0.004932</td>\n",
              "    </tr>\n",
              "    <tr>\n",
              "      <th>11</th>\n",
              "      <td>Age_na</td>\n",
              "      <td>0.002788</td>\n",
              "    </tr>\n",
              "  </tbody>\n",
              "</table>\n",
              "</div>"
            ],
            "text/plain": [
              "           cols       imp\n",
              "3           Sex  0.434069\n",
              "8          Fare  0.110578\n",
              "1        Pclass  0.095130\n",
              "7        Ticket  0.094634\n",
              "9         Cabin  0.070303\n",
              "4           Age  0.068870\n",
              "2          Name  0.059434\n",
              "0   PassengerId  0.041581\n",
              "6         Parch  0.009910\n",
              "10     Embarked  0.007770\n",
              "5         SibSp  0.004932\n",
              "11       Age_na  0.002788"
            ]
          },
          "metadata": {
            "tags": []
          },
          "execution_count": 222
        }
      ]
    },
    {
      "cell_type": "code",
      "metadata": {
        "id": "WZ4h31RiC4Dc",
        "colab_type": "code",
        "colab": {
          "base_uri": "https://localhost:8080/",
          "height": 392
        },
        "outputId": "c6f1de4f-cb34-4809-d338-9f3f2c4a12c7"
      },
      "source": [
        "fi.plot('cols', 'imp', figsize=(10,6), legend=False);"
      ],
      "execution_count": 223,
      "outputs": [
        {
          "output_type": "display_data",
          "data": {
            "image/png": "[encoded data removed]",
            "text/plain": [
              "<Figure size 720x432 with 1 Axes>"
            ]
          },
          "metadata": {
            "tags": []
          }
        }
      ]
    },
    {
      "cell_type": "code",
      "metadata": {
        "id": "8Keq7tsxC8oY",
        "colab_type": "code",
        "colab": {}
      },
      "source": [
        "def plot_fi(fi): return fi.plot('cols', 'imp', 'barh', figsize=(12,7), legend=False)"
      ],
      "execution_count": 0,
      "outputs": []
    },
    {
      "cell_type": "code",
      "metadata": {
        "id": "cTBVMtD4DBNx",
        "colab_type": "code",
        "colab": {
          "base_uri": "https://localhost:8080/",
          "height": 432
        },
        "outputId": "b9db753a-e808-4427-df4a-a1f1c477d017"
      },
      "source": [
        "plot_fi(fi[:30]);"
      ],
      "execution_count": 225,
      "outputs": [
        {
          "output_type": "display_data",
          "data": {
            "image/png": "[encoded data removed]",
            "text/plain": [
              "<Figure size 864x504 with 1 Axes>"
            ]
          },
          "metadata": {
            "tags": []
          }
        }
      ]
    },
    {
      "cell_type": "markdown",
      "metadata": {
        "id": "tJr7jcpJDHfE",
        "colab_type": "text"
      },
      "source": [
        "Let us try to remove features Age_na, parch,embarked as they contribute very less"
      ]
    },
    {
      "cell_type": "code",
      "metadata": {
        "id": "7bb4uOwvDzOZ",
        "colab_type": "code",
        "colab": {}
      },
      "source": [
        "to_keep=fi[fi.imp>0.03].cols"
      ],
      "execution_count": 0,
      "outputs": []
    },
    {
      "cell_type": "code",
      "metadata": {
        "id": "WLwTG90WI4p5",
        "colab_type": "code",
        "colab": {
          "base_uri": "https://localhost:8080/",
          "height": 168
        },
        "outputId": "d4a48756-6da4-48af-9e7b-9af62bdba311"
      },
      "source": [
        "to_keep"
      ],
      "execution_count": 227,
      "outputs": [
        {
          "output_type": "execute_result",
          "data": {
            "text/plain": [
              "3            Sex\n",
              "8           Fare\n",
              "1         Pclass\n",
              "7         Ticket\n",
              "9          Cabin\n",
              "4            Age\n",
              "2           Name\n",
              "0    PassengerId\n",
              "Name: cols, dtype: object"
            ]
          },
          "metadata": {
            "tags": []
          },
          "execution_count": 227
        }
      ]
    },
    {
      "cell_type": "code",
      "metadata": {
        "id": "CQhi5UCEEViY",
        "colab_type": "code",
        "colab": {}
      },
      "source": [
        "df_keep_train_x=def_train[to_keep].copy()"
      ],
      "execution_count": 0,
      "outputs": []
    },
    {
      "cell_type": "markdown",
      "metadata": {
        "id": "VR5Lc8PRGG24",
        "colab_type": "text"
      },
      "source": [
        "#### remember that features in model (which is created with train dataset), must be equal to features in input dataset"
      ]
    },
    {
      "cell_type": "code",
      "metadata": {
        "id": "NezgQiJoGVVz",
        "colab_type": "code",
        "colab": {}
      },
      "source": [
        "def_keep_val=def_val[to_keep].copy()"
      ],
      "execution_count": 0,
      "outputs": []
    },
    {
      "cell_type": "code",
      "metadata": {
        "id": "OorpO29wFBg7",
        "colab_type": "code",
        "colab": {
          "base_uri": "https://localhost:8080/",
          "height": 50
        },
        "outputId": "8d27242a-2d9a-4765-9dc1-ad52fb5e1950"
      },
      "source": [
        "m=RandomForestClassifier(n_estimators=30,bootstrap=True,min_samples_leaf=9 )\n",
        "m.fit(df_keep_train_x,y_train)\n",
        "print(m.score(df_keep_train_x,y_train))\n",
        "print(m.score(def_keep_val,y_val))"
      ],
      "execution_count": 230,
      "outputs": [
        {
          "output_type": "stream",
          "text": [
            "0.8731988472622478\n",
            "0.8375634517766497\n"
          ],
          "name": "stdout"
        }
      ]
    },
    {
      "cell_type": "code",
      "metadata": {
        "id": "JaO_rZR3GtUk",
        "colab_type": "code",
        "colab": {
          "base_uri": "https://localhost:8080/",
          "height": 84
        },
        "outputId": "7dfa840e-8b77-4a22-9d93-f0684cc55004"
      },
      "source": [
        "m=RandomForestClassifier()\n",
        "m.fit(df_keep_train_x,y_train)\n",
        "print(m.score(df_keep_train_x,y_train))\n",
        "print(m.score(def_keep_val,y_val))"
      ],
      "execution_count": 231,
      "outputs": [
        {
          "output_type": "stream",
          "text": [
            "0.9913544668587896\n",
            "0.8223350253807107\n"
          ],
          "name": "stdout"
        },
        {
          "output_type": "stream",
          "text": [
            "/usr/local/lib/python3.6/dist-packages/sklearn/ensemble/forest.py:245: FutureWarning: The default value of n_estimators will change from 10 in version 0.20 to 100 in 0.22.\n",
            "  \"10 in version 0.20 to 100 in 0.22.\", FutureWarning)\n"
          ],
          "name": "stderr"
        }
      ]
    },
    {
      "cell_type": "code",
      "metadata": {
        "id": "X92t7Iq-G7d2",
        "colab_type": "code",
        "colab": {
          "base_uri": "https://localhost:8080/",
          "height": 50
        },
        "outputId": "d0b94c31-c753-47db-8faf-04e46b0f324b"
      },
      "source": [
        "m=RandomForestClassifier(n_estimators=30)\n",
        "m.fit(df_keep_train_x,y_train)\n",
        "print(m.score(df_keep_train_x,y_train))\n",
        "print(m.score(def_keep_val,y_val))"
      ],
      "execution_count": 232,
      "outputs": [
        {
          "output_type": "stream",
          "text": [
            "0.9985590778097982\n",
            "0.8071065989847716\n"
          ],
          "name": "stdout"
        }
      ]
    },
    {
      "cell_type": "code",
      "metadata": {
        "id": "fUjhjFbKG_Md",
        "colab_type": "code",
        "colab": {
          "base_uri": "https://localhost:8080/",
          "height": 50
        },
        "outputId": "f76593df-b8ab-4840-bb5a-99e8a1e24355"
      },
      "source": [
        "m=RandomForestClassifier(n_estimators=30,bootstrap=True)\n",
        "m.fit(df_keep_train_x,y_train)\n",
        "print(m.score(df_keep_train_x,y_train))\n",
        "print(m.score(def_keep_val,y_val))"
      ],
      "execution_count": 233,
      "outputs": [
        {
          "output_type": "stream",
          "text": [
            "0.9956772334293948\n",
            "0.8223350253807107\n"
          ],
          "name": "stdout"
        }
      ]
    },
    {
      "cell_type": "markdown",
      "metadata": {
        "id": "oG4b3ISIHGEd",
        "colab_type": "text"
      },
      "source": [
        "Bootstraping didn't proved to be of any use in above case"
      ]
    },
    {
      "cell_type": "markdown",
      "metadata": {
        "id": "lMGDidiiRTlK",
        "colab_type": "text"
      },
      "source": [
        "## We also know that name also dont play any role in survival, remove that feature some next time\n",
        "\n",
        "Do it before u write a blog"
      ]
    },
    {
      "cell_type": "code",
      "metadata": {
        "id": "fEoteEa4HLo2",
        "colab_type": "code",
        "colab": {
          "base_uri": "https://localhost:8080/",
          "height": 50
        },
        "outputId": "434eb980-38bb-4d06-e536-27179a40dad5"
      },
      "source": [
        "m=RandomForestClassifier(n_estimators=30,min_samples_leaf=9 )\n",
        "m.fit(df_keep_train_x,y_train)\n",
        "print(m.score(df_keep_train_x,y_train))\n",
        "print(m.score(def_keep_val,y_val))"
      ],
      "execution_count": 234,
      "outputs": [
        {
          "output_type": "stream",
          "text": [
            "0.8674351585014409\n",
            "0.8223350253807107\n"
          ],
          "name": "stdout"
        }
      ]
    },
    {
      "cell_type": "markdown",
      "metadata": {
        "id": "Mb_qm1MgHeYJ",
        "colab_type": "text"
      },
      "source": [
        "This is better\n",
        "\n",
        "\n",
        "##Removing redundant features\n",
        "\n",
        "One thing that makes this harder to interpret is that there seem to be some variables with very similar meanings. Let's try to remove redundent features."
      ]
    },
    {
      "cell_type": "code",
      "metadata": {
        "id": "yUNW-thnHkFH",
        "colab_type": "code",
        "colab": {}
      },
      "source": [
        "from scipy.cluster import hierarchy as hc"
      ],
      "execution_count": 0,
      "outputs": []
    },
    {
      "cell_type": "code",
      "metadata": {
        "id": "tsjiQ6Q9IlSW",
        "colab_type": "code",
        "colab": {}
      },
      "source": [
        "df_keep=df[to_keep].copy()"
      ],
      "execution_count": 0,
      "outputs": []
    },
    {
      "cell_type": "code",
      "metadata": {
        "id": "F5m9PF6XIuq1",
        "colab_type": "code",
        "colab": {
          "base_uri": "https://localhost:8080/",
          "height": 34
        },
        "outputId": "dfa6c2ea-7bf4-41f8-a509-82201fac4760"
      },
      "source": [
        "df_keep.shape"
      ],
      "execution_count": 237,
      "outputs": [
        {
          "output_type": "execute_result",
          "data": {
            "text/plain": [
              "(891, 8)"
            ]
          },
          "metadata": {
            "tags": []
          },
          "execution_count": 237
        }
      ]
    },
    {
      "cell_type": "code",
      "metadata": {
        "id": "uE_WoFtxIDsV",
        "colab_type": "code",
        "colab": {
          "base_uri": "https://localhost:8080/",
          "height": 595
        },
        "outputId": "b24feccf-fa36-43d8-9973-dc099b7d708d"
      },
      "source": [
        "corr = np.round(scipy.stats.spearmanr(df_keep).correlation, 4)\n",
        "corr_condensed = hc.distance.squareform(1-corr)\n",
        "z = hc.linkage(corr_condensed, method='average')\n",
        "fig = plt.figure(figsize=(16,10))\n",
        "dendrogram = hc.dendrogram(z, labels=df_keep.columns, orientation='left', leaf_font_size=16)\n",
        "plt.show()"
      ],
      "execution_count": 238,
      "outputs": [
        {
          "output_type": "display_data",
          "data": {
            "image/png": "[encoded data removed]",
            "text/plain": [
              "<Figure size 1152x720 with 1 Axes>"
            ]
          },
          "metadata": {
            "tags": []
          }
        }
      ]
    },
    {
      "cell_type": "markdown",
      "metadata": {
        "id": "I5eMXvLNKYQ-",
        "colab_type": "text"
      },
      "source": [
        "## Results it turned out that no features are redundant, in terms of delivering same performance\n",
        "\n",
        "In case u dont know about dendrograms, it can be thought as representation of clustering same objects within one cluster, and if objects are more closer than they are clubbed very early\n",
        "\n",
        "See below image for clarity\n",
        "\n",
        "https://www.researchgate.net/profile/Atef_Nassar/publication/288480628/figure/fig9/AS:324924200767502@1454479374699/Tree-dendrogram-of-the-clustering-patterns-and-their-proportion-of-explained-variance-13.png"
      ]
    },
    {
      "cell_type": "markdown",
      "metadata": {
        "id": "n7l6SIiGLsuJ",
        "colab_type": "text"
      },
      "source": [
        "Since we arrived at situation where, we get to know that age plays an important factor in Prediction, 4 times powerful than other features\n",
        "\n",
        "\n",
        "We can do research why is that and can do EDA\n",
        "\n",
        "Now this approach is ML driven EDA"
      ]
    },
    {
      "cell_type": "markdown",
      "metadata": {
        "id": "27EjINHEMXT1",
        "colab_type": "text"
      },
      "source": [
        "## Partial dependency"
      ]
    },
    {
      "cell_type": "code",
      "metadata": {
        "id": "0FVOy5NqLVrC",
        "colab_type": "code",
        "colab": {}
      },
      "source": [
        ""
      ],
      "execution_count": 0,
      "outputs": []
    },
    {
      "cell_type": "code",
      "metadata": {
        "id": "MUunsjEWPEnJ",
        "colab_type": "code",
        "colab": {}
      },
      "source": [
        ""
      ],
      "execution_count": 0,
      "outputs": []
    },
    {
      "cell_type": "markdown",
      "metadata": {
        "id": "d8dGDPxnPFU_",
        "colab_type": "text"
      },
      "source": [
        "Let us see what we get in test data set"
      ]
    },
    {
      "cell_type": "code",
      "metadata": {
        "id": "wWgv4FBsPI_T",
        "colab_type": "code",
        "colab": {
          "base_uri": "https://localhost:8080/",
          "height": 34
        },
        "outputId": "904d75a4-8127-4fa9-af2b-d86dad1a675b"
      },
      "source": [
        "data=drive.mount('/content/drive')"
      ],
      "execution_count": 239,
      "outputs": [
        {
          "output_type": "stream",
          "text": [
            "Drive already mounted at /content/drive; to attempt to forcibly remount, call drive.mount(\"/content/drive\", force_remount=True).\n"
          ],
          "name": "stdout"
        }
      ]
    },
    {
      "cell_type": "code",
      "metadata": {
        "id": "YBzj2oEAPOKa",
        "colab_type": "code",
        "colab": {}
      },
      "source": [
        "test=pd.read_csv(\"/content/drive/My Drive/ML dataSets/titanic/test.csv\",encoding = \"ISO-8859-1\")"
      ],
      "execution_count": 0,
      "outputs": []
    },
    {
      "cell_type": "code",
      "metadata": {
        "id": "tk4kNoSOPtaS",
        "colab_type": "code",
        "colab": {
          "base_uri": "https://localhost:8080/",
          "height": 195
        },
        "outputId": "80ed626c-c3ec-4de6-fad2-9476c0598ce6"
      },
      "source": [
        "test.head()"
      ],
      "execution_count": 241,
      "outputs": [
        {
          "output_type": "execute_result",
          "data": {
            "text/html": [
              "<div>\n",
              "<style scoped>\n",
              "    .dataframe tbody tr th:only-of-type {\n",
              "        vertical-align: middle;\n",
              "    }\n",
              "\n",
              "    .dataframe tbody tr th {\n",
              "        vertical-align: top;\n",
              "    }\n",
              "\n",
              "    .dataframe thead th {\n",
              "        text-align: right;\n",
              "    }\n",
              "</style>\n",
              "<table border=\"1\" class=\"dataframe\">\n",
              "  <thead>\n",
              "    <tr style=\"text-align: right;\">\n",
              "      <th></th>\n",
              "      <th>PassengerId</th>\n",
              "      <th>Pclass</th>\n",
              "      <th>Name</th>\n",
              "      <th>Sex</th>\n",
              "      <th>Age</th>\n",
              "      <th>SibSp</th>\n",
              "      <th>Parch</th>\n",
              "      <th>Ticket</th>\n",
              "      <th>Fare</th>\n",
              "      <th>Cabin</th>\n",
              "      <th>Embarked</th>\n",
              "    </tr>\n",
              "  </thead>\n",
              "  <tbody>\n",
              "    <tr>\n",
              "      <th>0</th>\n",
              "      <td>892</td>\n",
              "      <td>3</td>\n",
              "      <td>Kelly, Mr. James</td>\n",
              "      <td>male</td>\n",
              "      <td>34.5</td>\n",
              "      <td>0</td>\n",
              "      <td>0</td>\n",
              "      <td>330911</td>\n",
              "      <td>7.8292</td>\n",
              "      <td>NaN</td>\n",
              "      <td>Q</td>\n",
              "    </tr>\n",
              "    <tr>\n",
              "      <th>1</th>\n",
              "      <td>893</td>\n",
              "      <td>3</td>\n",
              "      <td>Wilkes, Mrs. James (Ellen Needs)</td>\n",
              "      <td>female</td>\n",
              "      <td>47.0</td>\n",
              "      <td>1</td>\n",
              "      <td>0</td>\n",
              "      <td>363272</td>\n",
              "      <td>7.0000</td>\n",
              "      <td>NaN</td>\n",
              "      <td>S</td>\n",
              "    </tr>\n",
              "    <tr>\n",
              "      <th>2</th>\n",
              "      <td>894</td>\n",
              "      <td>2</td>\n",
              "      <td>Myles, Mr. Thomas Francis</td>\n",
              "      <td>male</td>\n",
              "      <td>62.0</td>\n",
              "      <td>0</td>\n",
              "      <td>0</td>\n",
              "      <td>240276</td>\n",
              "      <td>9.6875</td>\n",
              "      <td>NaN</td>\n",
              "      <td>Q</td>\n",
              "    </tr>\n",
              "    <tr>\n",
              "      <th>3</th>\n",
              "      <td>895</td>\n",
              "      <td>3</td>\n",
              "      <td>Wirz, Mr. Albert</td>\n",
              "      <td>male</td>\n",
              "      <td>27.0</td>\n",
              "      <td>0</td>\n",
              "      <td>0</td>\n",
              "      <td>315154</td>\n",
              "      <td>8.6625</td>\n",
              "      <td>NaN</td>\n",
              "      <td>S</td>\n",
              "    </tr>\n",
              "    <tr>\n",
              "      <th>4</th>\n",
              "      <td>896</td>\n",
              "      <td>3</td>\n",
              "      <td>Hirvonen, Mrs. Alexander (Helga E Lindqvist)</td>\n",
              "      <td>female</td>\n",
              "      <td>22.0</td>\n",
              "      <td>1</td>\n",
              "      <td>1</td>\n",
              "      <td>3101298</td>\n",
              "      <td>12.2875</td>\n",
              "      <td>NaN</td>\n",
              "      <td>S</td>\n",
              "    </tr>\n",
              "  </tbody>\n",
              "</table>\n",
              "</div>"
            ],
            "text/plain": [
              "   PassengerId  Pclass  ... Cabin Embarked\n",
              "0          892       3  ...   NaN        Q\n",
              "1          893       3  ...   NaN        S\n",
              "2          894       2  ...   NaN        Q\n",
              "3          895       3  ...   NaN        S\n",
              "4          896       3  ...   NaN        S\n",
              "\n",
              "[5 rows x 11 columns]"
            ]
          },
          "metadata": {
            "tags": []
          },
          "execution_count": 241
        }
      ]
    },
    {
      "cell_type": "code",
      "metadata": {
        "id": "uMMwiUztPn79",
        "colab_type": "code",
        "colab": {
          "base_uri": "https://localhost:8080/",
          "height": 195
        },
        "outputId": "8f7e4e30-ae27-4611-9753-5cae04e828d0"
      },
      "source": [
        "test_x=test[to_keep]\n",
        "test_x.head()"
      ],
      "execution_count": 243,
      "outputs": [
        {
          "output_type": "execute_result",
          "data": {
            "text/html": [
              "<div>\n",
              "<style scoped>\n",
              "    .dataframe tbody tr th:only-of-type {\n",
              "        vertical-align: middle;\n",
              "    }\n",
              "\n",
              "    .dataframe tbody tr th {\n",
              "        vertical-align: top;\n",
              "    }\n",
              "\n",
              "    .dataframe thead th {\n",
              "        text-align: right;\n",
              "    }\n",
              "</style>\n",
              "<table border=\"1\" class=\"dataframe\">\n",
              "  <thead>\n",
              "    <tr style=\"text-align: right;\">\n",
              "      <th></th>\n",
              "      <th>Sex</th>\n",
              "      <th>Fare</th>\n",
              "      <th>Pclass</th>\n",
              "      <th>Ticket</th>\n",
              "      <th>Cabin</th>\n",
              "      <th>Age</th>\n",
              "      <th>Name</th>\n",
              "      <th>PassengerId</th>\n",
              "    </tr>\n",
              "  </thead>\n",
              "  <tbody>\n",
              "    <tr>\n",
              "      <th>0</th>\n",
              "      <td>male</td>\n",
              "      <td>7.8292</td>\n",
              "      <td>3</td>\n",
              "      <td>330911</td>\n",
              "      <td>NaN</td>\n",
              "      <td>34.5</td>\n",
              "      <td>Kelly, Mr. James</td>\n",
              "      <td>892</td>\n",
              "    </tr>\n",
              "    <tr>\n",
              "      <th>1</th>\n",
              "      <td>female</td>\n",
              "      <td>7.0000</td>\n",
              "      <td>3</td>\n",
              "      <td>363272</td>\n",
              "      <td>NaN</td>\n",
              "      <td>47.0</td>\n",
              "      <td>Wilkes, Mrs. James (Ellen Needs)</td>\n",
              "      <td>893</td>\n",
              "    </tr>\n",
              "    <tr>\n",
              "      <th>2</th>\n",
              "      <td>male</td>\n",
              "      <td>9.6875</td>\n",
              "      <td>2</td>\n",
              "      <td>240276</td>\n",
              "      <td>NaN</td>\n",
              "      <td>62.0</td>\n",
              "      <td>Myles, Mr. Thomas Francis</td>\n",
              "      <td>894</td>\n",
              "    </tr>\n",
              "    <tr>\n",
              "      <th>3</th>\n",
              "      <td>male</td>\n",
              "      <td>8.6625</td>\n",
              "      <td>3</td>\n",
              "      <td>315154</td>\n",
              "      <td>NaN</td>\n",
              "      <td>27.0</td>\n",
              "      <td>Wirz, Mr. Albert</td>\n",
              "      <td>895</td>\n",
              "    </tr>\n",
              "    <tr>\n",
              "      <th>4</th>\n",
              "      <td>female</td>\n",
              "      <td>12.2875</td>\n",
              "      <td>3</td>\n",
              "      <td>3101298</td>\n",
              "      <td>NaN</td>\n",
              "      <td>22.0</td>\n",
              "      <td>Hirvonen, Mrs. Alexander (Helga E Lindqvist)</td>\n",
              "      <td>896</td>\n",
              "    </tr>\n",
              "  </tbody>\n",
              "</table>\n",
              "</div>"
            ],
            "text/plain": [
              "      Sex     Fare  ...                                          Name PassengerId\n",
              "0    male   7.8292  ...                              Kelly, Mr. James         892\n",
              "1  female   7.0000  ...              Wilkes, Mrs. James (Ellen Needs)         893\n",
              "2    male   9.6875  ...                     Myles, Mr. Thomas Francis         894\n",
              "3    male   8.6625  ...                              Wirz, Mr. Albert         895\n",
              "4  female  12.2875  ...  Hirvonen, Mrs. Alexander (Helga E Lindqvist)         896\n",
              "\n",
              "[5 rows x 8 columns]"
            ]
          },
          "metadata": {
            "tags": []
          },
          "execution_count": 243
        }
      ]
    },
    {
      "cell_type": "markdown",
      "metadata": {
        "id": "RgmRkn6AQRrJ",
        "colab_type": "text"
      },
      "source": [
        "## Be cautious we cannot give this data to model, as it is not numericalised"
      ]
    },
    {
      "cell_type": "code",
      "metadata": {
        "id": "rzwZC5OBPOUs",
        "colab_type": "code",
        "colab": {
          "base_uri": "https://localhost:8080/",
          "height": 118
        },
        "outputId": "d1ee16a7-dab0-45d5-dd4d-19b4d18e28dc"
      },
      "source": [
        "# using train_cats\n",
        "train_cats(test_x)"
      ],
      "execution_count": 257,
      "outputs": [
        {
          "output_type": "stream",
          "text": [
            "/usr/local/lib/python3.6/dist-packages/fastai/structured.py:152: SettingWithCopyWarning: \n",
            "A value is trying to be set on a copy of a slice from a DataFrame.\n",
            "Try using .loc[row_indexer,col_indexer] = value instead\n",
            "\n",
            "See the caveats in the documentation: http://pandas.pydata.org/pandas-docs/stable/indexing.html#indexing-view-versus-copy\n",
            "  if is_string_dtype(c): df[n] = c.astype('category').cat.as_ordered()\n"
          ],
          "name": "stderr"
        }
      ]
    },
    {
      "cell_type": "code",
      "metadata": {
        "id": "ruJpF_dCQdIN",
        "colab_type": "code",
        "colab": {
          "base_uri": "https://localhost:8080/",
          "height": 101
        },
        "outputId": "fe9a0524-0683-4ec3-8f1c-b0c4fa2b8da4"
      },
      "source": [
        "df, y, nas = proc_df(test_x)"
      ],
      "execution_count": 258,
      "outputs": [
        {
          "output_type": "stream",
          "text": [
            "/usr/local/lib/python3.6/dist-packages/pandas/core/frame.py:3940: SettingWithCopyWarning: \n",
            "A value is trying to be set on a copy of a slice from a DataFrame\n",
            "\n",
            "See the caveats in the documentation: http://pandas.pydata.org/pandas-docs/stable/indexing.html#indexing-view-versus-copy\n",
            "  errors=errors)\n"
          ],
          "name": "stderr"
        }
      ]
    },
    {
      "cell_type": "code",
      "metadata": {
        "id": "QagLZyKAQ_bg",
        "colab_type": "code",
        "colab": {
          "base_uri": "https://localhost:8080/",
          "height": 195
        },
        "outputId": "ba0a930a-f23b-4445-f5a8-8f45c9612af0"
      },
      "source": [
        "df.head()"
      ],
      "execution_count": 259,
      "outputs": [
        {
          "output_type": "execute_result",
          "data": {
            "text/html": [
              "<div>\n",
              "<style scoped>\n",
              "    .dataframe tbody tr th:only-of-type {\n",
              "        vertical-align: middle;\n",
              "    }\n",
              "\n",
              "    .dataframe tbody tr th {\n",
              "        vertical-align: top;\n",
              "    }\n",
              "\n",
              "    .dataframe thead th {\n",
              "        text-align: right;\n",
              "    }\n",
              "</style>\n",
              "<table border=\"1\" class=\"dataframe\">\n",
              "  <thead>\n",
              "    <tr style=\"text-align: right;\">\n",
              "      <th></th>\n",
              "      <th>Sex</th>\n",
              "      <th>Fare</th>\n",
              "      <th>Pclass</th>\n",
              "      <th>Ticket</th>\n",
              "      <th>Cabin</th>\n",
              "      <th>Age</th>\n",
              "      <th>Name</th>\n",
              "      <th>PassengerId</th>\n",
              "      <th>Fare_na</th>\n",
              "      <th>Age_na</th>\n",
              "    </tr>\n",
              "  </thead>\n",
              "  <tbody>\n",
              "    <tr>\n",
              "      <th>0</th>\n",
              "      <td>2</td>\n",
              "      <td>7.8292</td>\n",
              "      <td>3</td>\n",
              "      <td>153</td>\n",
              "      <td>0</td>\n",
              "      <td>34.5</td>\n",
              "      <td>207</td>\n",
              "      <td>892</td>\n",
              "      <td>False</td>\n",
              "      <td>False</td>\n",
              "    </tr>\n",
              "    <tr>\n",
              "      <th>1</th>\n",
              "      <td>1</td>\n",
              "      <td>7.0000</td>\n",
              "      <td>3</td>\n",
              "      <td>222</td>\n",
              "      <td>0</td>\n",
              "      <td>47.0</td>\n",
              "      <td>404</td>\n",
              "      <td>893</td>\n",
              "      <td>False</td>\n",
              "      <td>False</td>\n",
              "    </tr>\n",
              "    <tr>\n",
              "      <th>2</th>\n",
              "      <td>2</td>\n",
              "      <td>9.6875</td>\n",
              "      <td>2</td>\n",
              "      <td>74</td>\n",
              "      <td>0</td>\n",
              "      <td>62.0</td>\n",
              "      <td>270</td>\n",
              "      <td>894</td>\n",
              "      <td>False</td>\n",
              "      <td>False</td>\n",
              "    </tr>\n",
              "    <tr>\n",
              "      <th>3</th>\n",
              "      <td>2</td>\n",
              "      <td>8.6625</td>\n",
              "      <td>3</td>\n",
              "      <td>148</td>\n",
              "      <td>0</td>\n",
              "      <td>27.0</td>\n",
              "      <td>409</td>\n",
              "      <td>895</td>\n",
              "      <td>False</td>\n",
              "      <td>False</td>\n",
              "    </tr>\n",
              "    <tr>\n",
              "      <th>4</th>\n",
              "      <td>1</td>\n",
              "      <td>12.2875</td>\n",
              "      <td>3</td>\n",
              "      <td>139</td>\n",
              "      <td>0</td>\n",
              "      <td>22.0</td>\n",
              "      <td>179</td>\n",
              "      <td>896</td>\n",
              "      <td>False</td>\n",
              "      <td>False</td>\n",
              "    </tr>\n",
              "  </tbody>\n",
              "</table>\n",
              "</div>"
            ],
            "text/plain": [
              "   Sex     Fare  Pclass  Ticket  ...  Name  PassengerId  Fare_na  Age_na\n",
              "0    2   7.8292       3     153  ...   207          892    False   False\n",
              "1    1   7.0000       3     222  ...   404          893    False   False\n",
              "2    2   9.6875       2      74  ...   270          894    False   False\n",
              "3    2   8.6625       3     148  ...   409          895    False   False\n",
              "4    1  12.2875       3     139  ...   179          896    False   False\n",
              "\n",
              "[5 rows x 10 columns]"
            ]
          },
          "metadata": {
            "tags": []
          },
          "execution_count": 259
        }
      ]
    },
    {
      "cell_type": "code",
      "metadata": {
        "id": "vFxrb1dRRCOt",
        "colab_type": "code",
        "colab": {}
      },
      "source": [
        "answer=m.predict(df[to_keep])"
      ],
      "execution_count": 0,
      "outputs": []
    },
    {
      "cell_type": "code",
      "metadata": {
        "id": "BGPrRRfeUhvO",
        "colab_type": "code",
        "colab": {
          "base_uri": "https://localhost:8080/",
          "height": 34
        },
        "outputId": "f6f07466-6a47-4dcc-fe07-718418448bea"
      },
      "source": [
        "answer.shape"
      ],
      "execution_count": 261,
      "outputs": [
        {
          "output_type": "execute_result",
          "data": {
            "text/plain": [
              "(418,)"
            ]
          },
          "metadata": {
            "tags": []
          },
          "execution_count": 261
        }
      ]
    },
    {
      "cell_type": "code",
      "metadata": {
        "id": "_jFVhl6YU9km",
        "colab_type": "code",
        "colab": {
          "base_uri": "https://localhost:8080/",
          "height": 34
        },
        "outputId": "1b878e12-5d18-4264-ba4c-52219b446f07"
      },
      "source": [
        "test.shape"
      ],
      "execution_count": 262,
      "outputs": [
        {
          "output_type": "execute_result",
          "data": {
            "text/plain": [
              "(418, 11)"
            ]
          },
          "metadata": {
            "tags": []
          },
          "execution_count": 262
        }
      ]
    },
    {
      "cell_type": "code",
      "metadata": {
        "id": "rQBoQ2s-V0rJ",
        "colab_type": "code",
        "colab": {}
      },
      "source": [
        "answer_df=pd.DataFrame(columns=['PassengerId','Survived'])"
      ],
      "execution_count": 0,
      "outputs": []
    },
    {
      "cell_type": "code",
      "metadata": {
        "id": "J2Mx0Be6WFai",
        "colab_type": "code",
        "colab": {}
      },
      "source": [
        "answer_df['PassengerId']=df['PassengerId']"
      ],
      "execution_count": 0,
      "outputs": []
    },
    {
      "cell_type": "code",
      "metadata": {
        "id": "E6BkLcfFWu5a",
        "colab_type": "code",
        "colab": {}
      },
      "source": [
        "answer_df['Survived']=answer"
      ],
      "execution_count": 0,
      "outputs": []
    },
    {
      "cell_type": "code",
      "metadata": {
        "id": "tZR2tC4XXLK8",
        "colab_type": "code",
        "colab": {}
      },
      "source": [
        "answer_df.to_csv('submission.csv', sep='\\t')"
      ],
      "execution_count": 0,
      "outputs": []
    },
    {
      "cell_type": "code",
      "metadata": {
        "id": "ROJvnKfuYKnF",
        "colab_type": "code",
        "colab": {}
      },
      "source": [
        "!cp submission.csv drive/My\\ Drive/ML\\ dataSets/titanic"
      ],
      "execution_count": 0,
      "outputs": []
    },
    {
      "cell_type": "markdown",
      "metadata": {
        "id": "sDjVgMrIb0uK",
        "colab_type": "text"
      },
      "source": [
        "## Result\n",
        "\n",
        "Got 0.75 score in kaggle\n",
        "\n",
        "Not that bad, we know its gonna happen, let us try Naive bayes which is good for classfication, and SVM"
      ]
    },
    {
      "cell_type": "code",
      "metadata": {
        "id": "3YDQqpuAb41V",
        "colab_type": "code",
        "colab": {}
      },
      "source": [
        ""
      ],
      "execution_count": 0,
      "outputs": []
    }
  ]
}