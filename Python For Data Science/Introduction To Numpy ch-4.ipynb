{
 "cells": [
  {
   "cell_type": "markdown",
   "metadata": {},
   "source": [
    "# NumPy Basics: Arrays and Vectorized Computation"
   ]
  },
  {
   "cell_type": "code",
   "execution_count": 1,
   "metadata": {},
   "outputs": [],
   "source": [
    "import numpy as np\n",
    "np.random.seed(12345)\n",
    "import matplotlib.pyplot as plt\n",
    "plt.rc('figure', figsize=(10, 6))\n",
    "np.set_printoptions(precision=4, suppress=True)"
   ]
  },
  {
   "cell_type": "code",
   "execution_count": 2,
   "metadata": {},
   "outputs": [],
   "source": [
    "import numpy as np\n",
    "my_arr = np.arange(1000000) # this would make an array of size 1000000 where each element is equal to its index\n",
    "my_list = list(range(1000000))"
   ]
  },
  {
   "cell_type": "code",
   "execution_count": 3,
   "metadata": {},
   "outputs": [
    {
     "name": "stdout",
     "output_type": "stream",
     "text": [
      "Wall time: 44.9 ms\n",
      "Wall time: 2.61 s\n"
     ]
    }
   ],
   "source": [
    "%time for _ in range(10): my_arr2 = my_arr * 2\n",
    "%time for _ in range(10): my_list2 = [x * 2 for x in my_list]"
   ]
  },
  {
   "cell_type": "markdown",
   "metadata": {},
   "source": [
    "## The NumPy ndarray: A Multidimensional Array Object"
   ]
  },
  {
   "cell_type": "code",
   "execution_count": 4,
   "metadata": {},
   "outputs": [
    {
     "data": {
      "text/plain": [
       "array([[-0.2047,  0.4789, -0.5194],\n",
       "       [-0.5557,  1.9658,  1.3934]])"
      ]
     },
     "execution_count": 4,
     "metadata": {},
     "output_type": "execute_result"
    }
   ],
   "source": [
    "import numpy as np\n",
    "# Generate some random data\n",
    "data = np.random.randn(2, 3) # thus we have generated nparray with 2 row and 3 column\n",
    "data"
   ]
  },
  {
   "cell_type": "markdown",
   "metadata": {},
   "source": [
    "An ndarray is a generic multidimensional container for homogeneous data; that is, all\n",
    "of the elements must be the same type."
   ]
  },
  {
   "cell_type": "code",
   "execution_count": 5,
   "metadata": {},
   "outputs": [
    {
     "name": "stdout",
     "output_type": "stream",
     "text": [
      "[[-2.0471  4.7894 -5.1944]\n",
      " [-5.5573 19.6578 13.9341]]\n",
      "\n",
      "[[-0.4094  0.9579 -1.0389]\n",
      " [-1.1115  3.9316  2.7868]]\n"
     ]
    }
   ],
   "source": [
    "print(data * 10) #now each element of the 2d array is multiplied with 10\n",
    "print()\n",
    "print(data + data)# each element of the 2d array is added with itself"
   ]
  },
  {
   "cell_type": "code",
   "execution_count": 6,
   "metadata": {},
   "outputs": [
    {
     "name": "stdout",
     "output_type": "stream",
     "text": [
      "(2, 3)\n"
     ]
    },
    {
     "data": {
      "text/plain": [
       "dtype('float64')"
      ]
     },
     "execution_count": 6,
     "metadata": {},
     "output_type": "execute_result"
    }
   ],
   "source": [
    "print(data.shape) # this gives us the shape of the 2d array\n",
    "data.dtype"
   ]
  },
  {
   "cell_type": "markdown",
   "metadata": {},
   "source": [
    "### Creating ndarrays"
   ]
  },
  {
   "cell_type": "code",
   "execution_count": 7,
   "metadata": {},
   "outputs": [
    {
     "name": "stdout",
     "output_type": "stream",
     "text": [
      "[6.  7.5 8.  0.  1. ]\n"
     ]
    }
   ],
   "source": [
    "data1 = [6, 7.5, 8, 0, 1] # this is the creation of the simple array \n",
    "arr1 = np.array(data1) # and this how we create npArray by help of array fun and pass simple array to it\n",
    "type(arr1)\n",
    "print(arr1)"
   ]
  },
  {
   "cell_type": "markdown",
   "metadata": {},
   "source": [
    "Nested sequences, like a list of equal-length lists, will be converted into a multidimensional\n",
    "array"
   ]
  },
  {
   "cell_type": "code",
   "execution_count": 8,
   "metadata": {},
   "outputs": [
    {
     "data": {
      "text/plain": [
       "array([[1, 2, 3, 4],\n",
       "       [5, 6, 7, 8]])"
      ]
     },
     "execution_count": 8,
     "metadata": {},
     "output_type": "execute_result"
    }
   ],
   "source": [
    "data2 = [[1, 2, 3, 4], [5, 6, 7, 8]]\n",
    "arr2 = np.array(data2)\n",
    "arr2"
   ]
  },
  {
   "cell_type": "code",
   "execution_count": 9,
   "metadata": {},
   "outputs": [
    {
     "name": "stdout",
     "output_type": "stream",
     "text": [
      "2\n",
      "(2, 4)\n"
     ]
    }
   ],
   "source": [
    "print(arr2.ndim)\n",
    "print(arr2.shape)"
   ]
  },
  {
   "cell_type": "markdown",
   "metadata": {},
   "source": [
    "Unless explicitly specified (more on this later), np.array tries to infer a good data type\n",
    "for the array that it creates"
   ]
  },
  {
   "cell_type": "code",
   "execution_count": 10,
   "metadata": {},
   "outputs": [
    {
     "name": "stdout",
     "output_type": "stream",
     "text": [
      "float64\n",
      "int32\n"
     ]
    }
   ],
   "source": [
    "print(arr1.dtype)\n",
    "print(arr2.dtype)"
   ]
  },
  {
   "cell_type": "markdown",
   "metadata": {},
   "source": [
    "It’s not safe to assume that np.empty will return an array of all zeros. In\n",
    "many cases, as previously shown, it will return uninitialized garbage\n",
    "values.\n"
   ]
  },
  {
   "cell_type": "code",
   "execution_count": 11,
   "metadata": {},
   "outputs": [
    {
     "name": "stdout",
     "output_type": "stream",
     "text": [
      "[0. 0. 0. 0. 0. 0. 0. 0. 0. 0.]\n",
      "[[0. 0. 0. 0. 0. 0.]\n",
      " [0. 0. 0. 0. 0. 0.]\n",
      " [0. 0. 0. 0. 0. 0.]]\n",
      "[[[0. 0.]\n",
      "  [0. 0.]\n",
      "  [0. 0.]]\n",
      "\n",
      " [[0. 0.]\n",
      "  [0. 0.]\n",
      "  [0. 0.]]]\n"
     ]
    }
   ],
   "source": [
    "print(np.zeros(10))\n",
    "print(np.zeros((3, 6)))\n",
    "print(np.empty((2, 3, 2)))\n"
   ]
  },
  {
   "cell_type": "markdown",
   "metadata": {},
   "source": [
    "array :Convert input data (list, tuple, array, or other sequence type) to an ndarray either by\n",
    "inferring a dtype or explicitly specifying a dtype. Copies the input data by default.\n",
    "\n",
    "asarray :Convert input to ndarray, but do not copy if the input is already an ndarray\n",
    "\n",
    "arange :Like the built-in range but returns an ndarray instead of a list.\n",
    "\n",
    "ones, ones_like: Produce an array of all 1’s with the given shape and dtype. ones_like takes another array and produces a ones array of the same shape and dtype.\n",
    "\n",
    "zeros, zeros_like Like ones and ones_like but producing arrays of 0’s instead\n",
    "\n",
    "empty, empty_like Create new arrays by allocating new memory, but do not populate with any values like ones and zeros\n",
    "\n",
    "eye, identity Create a square N x N identity matrix (1’s on the diagonal and 0’s elsewhere)"
   ]
  },
  {
   "cell_type": "code",
   "execution_count": 12,
   "metadata": {},
   "outputs": [
    {
     "data": {
      "text/plain": [
       "array([ 0,  1,  2,  3,  4,  5,  6,  7,  8,  9, 10, 11, 12, 13, 14])"
      ]
     },
     "execution_count": 12,
     "metadata": {},
     "output_type": "execute_result"
    }
   ],
   "source": [
    "np.arange(15) # this return the npArray not the list ,like range returns list within given range"
   ]
  },
  {
   "cell_type": "markdown",
   "metadata": {},
   "source": [
    "### Data Types for ndarrays"
   ]
  },
  {
   "cell_type": "code",
   "execution_count": 13,
   "metadata": {},
   "outputs": [
    {
     "name": "stdout",
     "output_type": "stream",
     "text": [
      "float64\n",
      "int32\n"
     ]
    }
   ],
   "source": [
    "arr1 = np.array([1, 2, 3], dtype=np.float64)\n",
    "arr2 = np.array([1, 2, 3], dtype=np.int32)\n",
    "print(arr1.dtype)\n",
    "print(arr2.dtype)"
   ]
  },
  {
   "cell_type": "markdown",
   "metadata": {},
   "source": [
    "You can explicitly convert or cast an array from one dtype to another using ndarray’s\n",
    "astype method"
   ]
  },
  {
   "cell_type": "code",
   "execution_count": 14,
   "metadata": {},
   "outputs": [
    {
     "name": "stdout",
     "output_type": "stream",
     "text": [
      "int32\n",
      "float64\n"
     ]
    }
   ],
   "source": [
    "arr = np.array([1, 2, 3, 4, 5])\n",
    "print(arr.dtype)\n",
    "float_arr = arr.astype(np.float64)\n",
    "print(float_arr.dtype)"
   ]
  },
  {
   "cell_type": "code",
   "execution_count": 15,
   "metadata": {},
   "outputs": [
    {
     "name": "stdout",
     "output_type": "stream",
     "text": [
      "[ 3.7 -1.2 -2.6  0.5 12.9 10.1]\n",
      "[ 3 -1 -2  0 12 10]\n"
     ]
    }
   ],
   "source": [
    "arr = np.array([3.7, -1.2, -2.6, 0.5, 12.9, 10.1])\n",
    "print(arr)\n",
    "print(arr.astype(np.int32))\n",
    "\n",
    "# you can easily see that decimals are truncated"
   ]
  },
  {
   "cell_type": "code",
   "execution_count": 16,
   "metadata": {},
   "outputs": [
    {
     "name": "stdout",
     "output_type": "stream",
     "text": [
      "[b'1.25' b'-9.6' b'42']\n",
      "[ 1.25 -9.6  42.  ]\n"
     ]
    }
   ],
   "source": [
    "numeric_strings = np.array(['1.25', '-9.6', '42'], dtype=np.string_)\n",
    "print(numeric_strings)\n",
    "print(numeric_strings.astype(float))"
   ]
  },
  {
   "cell_type": "code",
   "execution_count": 17,
   "metadata": {},
   "outputs": [
    {
     "data": {
      "text/plain": [
       "array([0., 1., 2., 3., 4., 5., 6., 7., 8., 9.])"
      ]
     },
     "execution_count": 17,
     "metadata": {},
     "output_type": "execute_result"
    }
   ],
   "source": [
    "int_array = np.arange(10)\n",
    "calibers = np.array([.22, .270, .357, .380, .44, .50], dtype=np.float64)\n",
    "int_array.astype(calibers.dtype)"
   ]
  },
  {
   "cell_type": "code",
   "execution_count": 18,
   "metadata": {},
   "outputs": [
    {
     "data": {
      "text/plain": [
       "array([         0, 1075314688,          0, 1075707904,          0,\n",
       "       1075838976,          0, 1072693248], dtype=uint32)"
      ]
     },
     "execution_count": 18,
     "metadata": {},
     "output_type": "execute_result"
    }
   ],
   "source": [
    "empty_uint32 = np.empty(8, dtype='u4')# u4 means int \n",
    "empty_uint32"
   ]
  },
  {
   "cell_type": "markdown",
   "metadata": {},
   "source": [
    "### Arithmetic with NumPy Arrays"
   ]
  },
  {
   "cell_type": "code",
   "execution_count": 19,
   "metadata": {},
   "outputs": [
    {
     "name": "stdout",
     "output_type": "stream",
     "text": [
      "[[1. 2. 3.]\n",
      " [4. 5. 6.]]\n",
      "[[ 1.  4.  9.]\n",
      " [16. 25. 36.]]\n",
      "[[0. 0. 0.]\n",
      " [0. 0. 0.]]\n"
     ]
    }
   ],
   "source": [
    "arr = np.array([[1., 2., 3.], [4., 5., 6.]])\n",
    "print(arr)\n",
    "print(arr * arr)\n",
    "print(arr - arr)"
   ]
  },
  {
   "cell_type": "code",
   "execution_count": 20,
   "metadata": {},
   "outputs": [
    {
     "name": "stdout",
     "output_type": "stream",
     "text": [
      "[[1.     0.5    0.3333]\n",
      " [0.25   0.2    0.1667]]\n",
      "[[1.     1.4142 1.7321]\n",
      " [2.     2.2361 2.4495]]\n"
     ]
    }
   ],
   "source": [
    "print(1 / arr)\n",
    "print(arr ** 0.5)"
   ]
  },
  {
   "cell_type": "code",
   "execution_count": 21,
   "metadata": {},
   "outputs": [
    {
     "name": "stdout",
     "output_type": "stream",
     "text": [
      "[[ 0.  4.  1.]\n",
      " [ 7.  2. 12.]]\n",
      "[[False  True False]\n",
      " [ True False  True]]\n"
     ]
    }
   ],
   "source": [
    "arr2 = np.array([[0., 4., 1.], [7., 2., 12.]])\n",
    "print(arr2)\n",
    "print(arr2 > arr)"
   ]
  },
  {
   "cell_type": "markdown",
   "metadata": {},
   "source": [
    "### Basic Indexing and Slicing"
   ]
  },
  {
   "cell_type": "markdown",
   "metadata": {},
   "source": [
    "An important first distinction from lists is that array slices are views on the original array. This means that\n",
    "the data is not copied, and any modifications to the view will be reflected in the source array"
   ]
  },
  {
   "cell_type": "code",
   "execution_count": 22,
   "metadata": {},
   "outputs": [
    {
     "name": "stdout",
     "output_type": "stream",
     "text": [
      "[0 1 2 3 4 5 6 7 8 9]\n",
      "5\n",
      "[5 6 7]\n",
      "after the manipulation  [ 0  1  2  3  4 12 12 12  8  9]\n"
     ]
    }
   ],
   "source": [
    "arr = np.arange(10)\n",
    "print(arr)\n",
    "print(arr[5]) # accessing the fifth indexed of arr\n",
    "print(arr[5:8])\n",
    "arr[5:8] = 12 # making the elements from index 5 to 7 equal to 12, we have\n",
    "print('after the manipulation ',arr)\n",
    "\n",
    "# thus the changes are reflected to the arr, thus slice is the view and it do affect the parent"
   ]
  },
  {
   "cell_type": "code",
   "execution_count": 23,
   "metadata": {},
   "outputs": [],
   "source": [
    "arr_slice = arr[5:8]\n"
   ]
  },
  {
   "cell_type": "markdown",
   "metadata": {},
   "source": [
    "You can see that arr_slice is the view of arr, and changing this view value would change the real array"
   ]
  },
  {
   "cell_type": "code",
   "execution_count": 24,
   "metadata": {},
   "outputs": [
    {
     "data": {
      "text/plain": [
       "array([    0,     1,     2,     3,     4,    12, 12345,    12,     8,\n",
       "           9])"
      ]
     },
     "execution_count": 24,
     "metadata": {},
     "output_type": "execute_result"
    }
   ],
   "source": [
    "arr_slice[1] = 12345\n",
    "arr"
   ]
  },
  {
   "cell_type": "code",
   "execution_count": 25,
   "metadata": {},
   "outputs": [
    {
     "data": {
      "text/plain": [
       "array([ 0,  1,  2,  3,  4, 64, 64, 64,  8,  9])"
      ]
     },
     "execution_count": 25,
     "metadata": {},
     "output_type": "execute_result"
    }
   ],
   "source": [
    "arr_slice[:] = 64 # making all the elements as 64 \n",
    "arr # again the changes are easily seen ,as the view changes arr is also changing"
   ]
  },
  {
   "cell_type": "code",
   "execution_count": 26,
   "metadata": {},
   "outputs": [
    {
     "data": {
      "text/plain": [
       "array([7, 8, 9])"
      ]
     },
     "execution_count": 26,
     "metadata": {},
     "output_type": "execute_result"
    }
   ],
   "source": [
    "arr2d = np.array([[1, 2, 3], [4, 5, 6], [7, 8, 9]])\n",
    "arr2d[2] # 2 index would give the 2nd indexed row"
   ]
  },
  {
   "cell_type": "code",
   "execution_count": 27,
   "metadata": {},
   "outputs": [
    {
     "name": "stdout",
     "output_type": "stream",
     "text": [
      "3\n",
      "3\n"
     ]
    }
   ],
   "source": [
    "print(arr2d[0][2]) # c way of doing things \n",
    "print(arr2d[0, 2]) # python way"
   ]
  },
  {
   "cell_type": "code",
   "execution_count": 28,
   "metadata": {},
   "outputs": [
    {
     "data": {
      "text/plain": [
       "array([[[ 1,  2,  3],\n",
       "        [ 4,  5,  6]],\n",
       "\n",
       "       [[ 7,  8,  9],\n",
       "        [10, 11, 12]]])"
      ]
     },
     "execution_count": 28,
     "metadata": {},
     "output_type": "execute_result"
    }
   ],
   "source": [
    "arr3d = np.array([[[1, 2, 3], [4, 5, 6]], [[7, 8, 9], [10, 11, 12]]])\n",
    "# you can say that two 2D array form a 3D array, ofcourse yes\n",
    "arr3d"
   ]
  },
  {
   "cell_type": "code",
   "execution_count": 29,
   "metadata": {},
   "outputs": [
    {
     "data": {
      "text/plain": [
       "array([[1, 2, 3],\n",
       "       [4, 5, 6]])"
      ]
     },
     "execution_count": 29,
     "metadata": {},
     "output_type": "execute_result"
    }
   ],
   "source": [
    "arr3d[0]"
   ]
  },
  {
   "cell_type": "code",
   "execution_count": 30,
   "metadata": {},
   "outputs": [
    {
     "name": "stdout",
     "output_type": "stream",
     "text": [
      "arr3d is : [[[42 42 42]\n",
      "  [42 42 42]]\n",
      "\n",
      " [[ 7  8  9]\n",
      "  [10 11 12]]]\n",
      "\n",
      "arr3d is : [[[ 1  2  3]\n",
      "  [ 4  5  6]]\n",
      "\n",
      " [[ 7  8  9]\n",
      "  [10 11 12]]]\n"
     ]
    }
   ],
   "source": [
    "old_values = arr3d[0].copy()\n",
    "arr3d[0] = 42 # assigning all the values of 2D array to value 42\n",
    "print('arr3d is :',arr3d)\n",
    "arr3d[0] = old_values # assigning one 2D array to another 2D array\n",
    "print()\n",
    "print('arr3d is :',arr3d)"
   ]
  },
  {
   "cell_type": "code",
   "execution_count": 31,
   "metadata": {},
   "outputs": [
    {
     "data": {
      "text/plain": [
       "array([7, 8, 9])"
      ]
     },
     "execution_count": 31,
     "metadata": {},
     "output_type": "execute_result"
    }
   ],
   "source": [
    "arr3d[1, 0] # acessing the second 2D table and then first row of it"
   ]
  },
  {
   "cell_type": "code",
   "execution_count": 32,
   "metadata": {},
   "outputs": [
    {
     "name": "stdout",
     "output_type": "stream",
     "text": [
      "[[ 7  8  9]\n",
      " [10 11 12]]\n"
     ]
    },
    {
     "data": {
      "text/plain": [
       "array([7, 8, 9])"
      ]
     },
     "execution_count": 32,
     "metadata": {},
     "output_type": "execute_result"
    }
   ],
   "source": [
    "x = arr3d[1]\n",
    "print(x)\n",
    "x[0]"
   ]
  },
  {
   "cell_type": "markdown",
   "metadata": {},
   "source": [
    "#### Indexing with slices"
   ]
  },
  {
   "cell_type": "code",
   "execution_count": 33,
   "metadata": {},
   "outputs": [
    {
     "name": "stdout",
     "output_type": "stream",
     "text": [
      "[ 0  1  2  3  4 64 64 64  8  9]\n",
      "[ 1  2  3  4 64]\n"
     ]
    }
   ],
   "source": [
    "print(arr)\n",
    "print(arr[1:6])"
   ]
  },
  {
   "cell_type": "code",
   "execution_count": 34,
   "metadata": {},
   "outputs": [
    {
     "name": "stdout",
     "output_type": "stream",
     "text": [
      "[[1 2 3]\n",
      " [4 5 6]\n",
      " [7 8 9]]\n",
      "[[1 2 3]\n",
      " [4 5 6]]\n"
     ]
    }
   ],
   "source": [
    "print(arr2d)\n",
    "print(arr2d[:2]) # arr2d[something] would give us the something row of the aar2d, now slicing would give us the collection of the rows"
   ]
  },
  {
   "cell_type": "code",
   "execution_count": 35,
   "metadata": {},
   "outputs": [
    {
     "data": {
      "text/plain": [
       "array([[2, 3],\n",
       "       [5, 6]])"
      ]
     },
     "execution_count": 35,
     "metadata": {},
     "output_type": "execute_result"
    }
   ],
   "source": [
    "arr2d[:2, 1:] # means get the arr2d with rows from 0 to 1 and column from 1 to last column"
   ]
  },
  {
   "cell_type": "code",
   "execution_count": 36,
   "metadata": {},
   "outputs": [
    {
     "data": {
      "text/plain": [
       "array([4, 5])"
      ]
     },
     "execution_count": 36,
     "metadata": {},
     "output_type": "execute_result"
    }
   ],
   "source": [
    "arr2d[1, :2] # 2nd row and column 0 and 1 only "
   ]
  },
  {
   "cell_type": "code",
   "execution_count": 37,
   "metadata": {},
   "outputs": [
    {
     "data": {
      "text/plain": [
       "array([3, 6])"
      ]
     },
     "execution_count": 37,
     "metadata": {},
     "output_type": "execute_result"
    }
   ],
   "source": [
    "arr2d[:2, 2]"
   ]
  },
  {
   "cell_type": "code",
   "execution_count": 38,
   "metadata": {},
   "outputs": [
    {
     "data": {
      "text/plain": [
       "array([[1],\n",
       "       [4],\n",
       "       [7]])"
      ]
     },
     "execution_count": 38,
     "metadata": {},
     "output_type": "execute_result"
    }
   ],
   "source": [
    "arr2d[:, :1]"
   ]
  },
  {
   "cell_type": "code",
   "execution_count": 39,
   "metadata": {},
   "outputs": [
    {
     "data": {
      "text/plain": [
       "array([[1, 0, 0],\n",
       "       [4, 0, 0],\n",
       "       [7, 8, 9]])"
      ]
     },
     "execution_count": 39,
     "metadata": {},
     "output_type": "execute_result"
    }
   ],
   "source": [
    "arr2d[:2, 1:] = 0 # we are changing the view (that is the slice of the 2d array) and thus changes are reflected in the actual array\n",
    "arr2d"
   ]
  },
  {
   "cell_type": "markdown",
   "metadata": {},
   "source": [
    "### Boolean Indexing"
   ]
  },
  {
   "cell_type": "code",
   "execution_count": 40,
   "metadata": {},
   "outputs": [
    {
     "name": "stdout",
     "output_type": "stream",
     "text": [
      "['Bob' 'Joe' 'Will' 'Bob' 'Will' 'Joe' 'Joe']\n",
      "[[ 0.0929  0.2817  0.769   1.2464]\n",
      " [ 1.0072 -1.2962  0.275   0.2289]\n",
      " [ 1.3529  0.8864 -2.0016 -0.3718]\n",
      " [ 1.669  -0.4386 -0.5397  0.477 ]\n",
      " [ 3.2489 -1.0212 -0.5771  0.1241]\n",
      " [ 0.3026  0.5238  0.0009  1.3438]\n",
      " [-0.7135 -0.8312 -2.3702 -1.8608]]\n"
     ]
    }
   ],
   "source": [
    "names = np.array(['Bob', 'Joe', 'Will', 'Bob', 'Will', 'Joe', 'Joe'])\n",
    "data = np.random.randn(7, 4)\n",
    "print(names)\n",
    "print(data)"
   ]
  },
  {
   "cell_type": "code",
   "execution_count": 41,
   "metadata": {},
   "outputs": [
    {
     "data": {
      "text/plain": [
       "array([ True, False, False,  True, False, False, False])"
      ]
     },
     "execution_count": 41,
     "metadata": {},
     "output_type": "execute_result"
    }
   ],
   "source": [
    "names == 'Bob' # thus when comparing array with any value then all the corresponding values are compared as shown below and return the np array"
   ]
  },
  {
   "cell_type": "markdown",
   "metadata": {},
   "source": [
    "This above boolean array can be passed when indexing the array \n",
    "\n",
    "The boolean array must be of the same length as the axis it’s indexing. You can even\n",
    "mix and match boolean arrays with slices or integers (or sequences of integers, more\n",
    "on this later):"
   ]
  },
  {
   "cell_type": "code",
   "execution_count": 42,
   "metadata": {},
   "outputs": [
    {
     "data": {
      "text/plain": [
       "array([[ 0.0929,  0.2817,  0.769 ,  1.2464],\n",
       "       [ 1.669 , -0.4386, -0.5397,  0.477 ]])"
      ]
     },
     "execution_count": 42,
     "metadata": {},
     "output_type": "execute_result"
    }
   ],
   "source": [
    "data[names == 'Bob'] # what is being done? it is like data['true','false','true','false'], thus we get all those rows\n",
    "# for which correspondingly we have true\n",
    "\n",
    "# 1st elem of name is compared with 'bob' and thus true, 1st row of data selected, and then 2nd element of name is  \n",
    "# compared with 'bob'and it turn out that its false and then 2nd row the data is not selected and .. thus this goes on and on\n",
    "\n",
    "# Or inshort Row indexing is done by the boolean array"
   ]
  },
  {
   "cell_type": "code",
   "execution_count": 43,
   "metadata": {},
   "outputs": [
    {
     "name": "stdout",
     "output_type": "stream",
     "text": [
      "[[ 0.769   1.2464]\n",
      " [-0.5397  0.477 ]]\n"
     ]
    },
    {
     "data": {
      "text/plain": [
       "array([1.2464, 0.477 ])"
      ]
     },
     "execution_count": 43,
     "metadata": {},
     "output_type": "execute_result"
    }
   ],
   "source": [
    "print(data[names == 'Bob', 2:]) # names == 'Bob' is selecting the row and '2:' is selecting the columns here it is 2nd column to\n",
    "# last column\n",
    "data[names == 'Bob', 3] # here row indexing is done by names == 'Bob' and colum is 3, it is data[,] "
   ]
  },
  {
   "cell_type": "code",
   "execution_count": 44,
   "metadata": {},
   "outputs": [
    {
     "name": "stdout",
     "output_type": "stream",
     "text": [
      "[False  True  True False  True  True  True]\n",
      "[[ 1.0072 -1.2962  0.275   0.2289]\n",
      " [ 1.3529  0.8864 -2.0016 -0.3718]\n",
      " [ 3.2489 -1.0212 -0.5771  0.1241]\n",
      " [ 0.3026  0.5238  0.0009  1.3438]\n",
      " [-0.7135 -0.8312 -2.3702 -1.8608]]\n"
     ]
    }
   ],
   "source": [
    "print(names != 'Bob') # we have now got a new boolean array which can act as selector for rows or other purpose\n",
    "\n",
    "print(data[~(names == 'Bob')]) # ~ act as ! ,using ! would give syntax error\n",
    "#data[!(names == 'Bob')] # ~ act as ! "
   ]
  },
  {
   "cell_type": "code",
   "execution_count": 45,
   "metadata": {},
   "outputs": [
    {
     "data": {
      "text/plain": [
       "array([[ 1.0072, -1.2962,  0.275 ,  0.2289],\n",
       "       [ 1.3529,  0.8864, -2.0016, -0.3718],\n",
       "       [ 3.2489, -1.0212, -0.5771,  0.1241],\n",
       "       [ 0.3026,  0.5238,  0.0009,  1.3438],\n",
       "       [-0.7135, -0.8312, -2.3702, -1.8608]])"
      ]
     },
     "execution_count": 45,
     "metadata": {},
     "output_type": "execute_result"
    }
   ],
   "source": [
    "cond = names == 'Bob'\n",
    "data[~cond]"
   ]
  },
  {
   "cell_type": "markdown",
   "metadata": {},
   "source": [
    "### The Python keywords and and or do not work with boolean arrays."
   ]
  },
  {
   "cell_type": "code",
   "execution_count": 46,
   "metadata": {},
   "outputs": [
    {
     "name": "stdout",
     "output_type": "stream",
     "text": [
      "[ True False  True  True  True False False]\n"
     ]
    },
    {
     "data": {
      "text/plain": [
       "array([[ 0.0929,  0.2817,  0.769 ,  1.2464],\n",
       "       [ 1.3529,  0.8864, -2.0016, -0.3718],\n",
       "       [ 1.669 , -0.4386, -0.5397,  0.477 ],\n",
       "       [ 3.2489, -1.0212, -0.5771,  0.1241]])"
      ]
     },
     "execution_count": 46,
     "metadata": {},
     "output_type": "execute_result"
    }
   ],
   "source": [
    "mask = (names == 'Bob') | (names == 'Will') # u can say that we are oring two boolean np arrays and putting answer in mask \n",
    "print(mask)\n",
    "data[mask]"
   ]
  },
  {
   "cell_type": "markdown",
   "metadata": {},
   "source": [
    "Setting values with boolean arrays works in a common-sense way. To set all of the\n",
    "negative values in data to 0 we need only do:"
   ]
  },
  {
   "cell_type": "code",
   "execution_count": 47,
   "metadata": {},
   "outputs": [
    {
     "data": {
      "text/plain": [
       "array([[0.0929, 0.2817, 0.769 , 1.2464],\n",
       "       [1.0072, 0.    , 0.275 , 0.2289],\n",
       "       [1.3529, 0.8864, 0.    , 0.    ],\n",
       "       [1.669 , 0.    , 0.    , 0.477 ],\n",
       "       [3.2489, 0.    , 0.    , 0.1241],\n",
       "       [0.3026, 0.5238, 0.0009, 1.3438],\n",
       "       [0.    , 0.    , 0.    , 0.    ]])"
      ]
     },
     "execution_count": 47,
     "metadata": {},
     "output_type": "execute_result"
    }
   ],
   "source": [
    "data[data < 0] = 0 # now a 2D boolean array is passsed to data and if it is true than set value accordingly\n",
    "data"
   ]
  },
  {
   "cell_type": "code",
   "execution_count": 48,
   "metadata": {},
   "outputs": [
    {
     "data": {
      "text/plain": [
       "array([[7.    , 7.    , 7.    , 7.    ],\n",
       "       [1.0072, 0.    , 0.275 , 0.2289],\n",
       "       [7.    , 7.    , 7.    , 7.    ],\n",
       "       [7.    , 7.    , 7.    , 7.    ],\n",
       "       [7.    , 7.    , 7.    , 7.    ],\n",
       "       [0.3026, 0.5238, 0.0009, 1.3438],\n",
       "       [0.    , 0.    , 0.    , 0.    ]])"
      ]
     },
     "execution_count": 48,
     "metadata": {},
     "output_type": "execute_result"
    }
   ],
   "source": [
    "data[names != 'Joe'] = 7\n",
    "data"
   ]
  },
  {
   "cell_type": "markdown",
   "metadata": {},
   "source": [
    "Explaining the abbove code:\n",
    "\n",
    "Now name!='joe' give us boolean value and if corresponding value is true then row is selected and value of that row is set to 7"
   ]
  },
  {
   "cell_type": "markdown",
   "metadata": {},
   "source": [
    "### Fancy Indexing"
   ]
  },
  {
   "cell_type": "code",
   "execution_count": 49,
   "metadata": {},
   "outputs": [
    {
     "name": "stdout",
     "output_type": "stream",
     "text": [
      "[[6.0135e-154 1.9819e+214 9.8186e+252 5.2241e+257]\n",
      " [5.6335e+188 1.2801e-152 1.3852e+219 9.1772e+170]\n",
      " [1.9086e+185 6.0135e-154 6.0135e-154 7.8738e+276]\n",
      " [5.3059e+180 5.5611e+180 1.2755e+232 4.9379e+180]\n",
      " [6.0135e-154 6.0135e-154 1.2170e-152 6.0112e+175]\n",
      " [2.3895e+180 2.5863e+161 4.6217e+228 6.0135e-154]\n",
      " [6.0135e-154 1.3852e+219 1.2783e-152 2.6925e+020]\n",
      " [1.2388e-259 1.0388e-013 1.0388e-013 1.0348e-013]]\n"
     ]
    },
    {
     "data": {
      "text/plain": [
       "array([[0., 0., 0., 0.],\n",
       "       [1., 1., 1., 1.],\n",
       "       [2., 2., 2., 2.],\n",
       "       [3., 3., 3., 3.],\n",
       "       [4., 4., 4., 4.],\n",
       "       [5., 5., 5., 5.],\n",
       "       [6., 6., 6., 6.],\n",
       "       [7., 7., 7., 7.]])"
      ]
     },
     "execution_count": 49,
     "metadata": {},
     "output_type": "execute_result"
    }
   ],
   "source": [
    "arr = np.empty((8, 4))\n",
    "print(arr)\n",
    "for i in range(8):\n",
    "    arr[i] = i\n",
    "arr"
   ]
  },
  {
   "cell_type": "code",
   "execution_count": 50,
   "metadata": {},
   "outputs": [
    {
     "data": {
      "text/plain": [
       "array([[4., 4., 4., 4.],\n",
       "       [3., 3., 3., 3.],\n",
       "       [0., 0., 0., 0.],\n",
       "       [6., 6., 6., 6.]])"
      ]
     },
     "execution_count": 50,
     "metadata": {},
     "output_type": "execute_result"
    }
   ],
   "source": [
    "# To select out a subset of the rows in a particular order, you can simply pass a list or\n",
    "# ndarray of integers specifying the desired order:\n",
    "arr[[4, 3, 0, 6]]"
   ]
  },
  {
   "cell_type": "code",
   "execution_count": 51,
   "metadata": {},
   "outputs": [
    {
     "data": {
      "text/plain": [
       "array([[5., 5., 5., 5.],\n",
       "       [3., 3., 3., 3.],\n",
       "       [1., 1., 1., 1.]])"
      ]
     },
     "execution_count": 51,
     "metadata": {},
     "output_type": "execute_result"
    }
   ],
   "source": [
    "arr[[-3, -5, -7]]"
   ]
  },
  {
   "cell_type": "markdown",
   "metadata": {},
   "source": [
    "In below Code it take a moment to understand what just happened: the elements (1, 0), (5, 3), (7,1), and (2, 2) were selected."
   ]
  },
  {
   "cell_type": "code",
   "execution_count": 52,
   "metadata": {},
   "outputs": [
    {
     "name": "stdout",
     "output_type": "stream",
     "text": [
      "[[ 0  1  2  3]\n",
      " [ 4  5  6  7]\n",
      " [ 8  9 10 11]\n",
      " [12 13 14 15]\n",
      " [16 17 18 19]\n",
      " [20 21 22 23]\n",
      " [24 25 26 27]\n",
      " [28 29 30 31]]\n"
     ]
    },
    {
     "data": {
      "text/plain": [
       "array([ 4, 23, 29, 10])"
      ]
     },
     "execution_count": 52,
     "metadata": {},
     "output_type": "execute_result"
    }
   ],
   "source": [
    "arr = np.arange(32).reshape((8, 4))\n",
    "print(arr)\n",
    "arr[[1, 5, 7, 2], [0, 3, 1, 2]]"
   ]
  },
  {
   "cell_type": "code",
   "execution_count": 53,
   "metadata": {},
   "outputs": [
    {
     "data": {
      "text/plain": [
       "array([[ 4,  7,  5,  6],\n",
       "       [20, 23, 21, 22],\n",
       "       [28, 31, 29, 30],\n",
       "       [ 8, 11,  9, 10]])"
      ]
     },
     "execution_count": 53,
     "metadata": {},
     "output_type": "execute_result"
    }
   ],
   "source": [
    "# this is Unclear\n",
    "arr[[1, 5, 7, 2]][:, [0, 3, 1, 2]]"
   ]
  },
  {
   "cell_type": "markdown",
   "metadata": {},
   "source": [
    "### Transposing Arrays and Swapping Axes"
   ]
  },
  {
   "cell_type": "code",
   "execution_count": 54,
   "metadata": {},
   "outputs": [
    {
     "name": "stdout",
     "output_type": "stream",
     "text": [
      "[[ 0  1  2  3  4]\n",
      " [ 5  6  7  8  9]\n",
      " [10 11 12 13 14]]\n"
     ]
    },
    {
     "data": {
      "text/plain": [
       "array([[ 0,  5, 10],\n",
       "       [ 1,  6, 11],\n",
       "       [ 2,  7, 12],\n",
       "       [ 3,  8, 13],\n",
       "       [ 4,  9, 14]])"
      ]
     },
     "execution_count": 54,
     "metadata": {},
     "output_type": "execute_result"
    }
   ],
   "source": [
    "arr = np.arange(15).reshape((3, 5))\n",
    "print(arr)\n",
    "arr.T"
   ]
  },
  {
   "cell_type": "code",
   "execution_count": 55,
   "metadata": {},
   "outputs": [
    {
     "name": "stdout",
     "output_type": "stream",
     "text": [
      "[[-0.8608  0.5601 -1.2659]\n",
      " [ 0.1198 -1.0635  0.3329]\n",
      " [-2.3594 -0.1995 -1.542 ]\n",
      " [-0.9707 -1.307   0.2863]\n",
      " [ 0.378  -0.7539  0.3313]\n",
      " [ 1.3497  0.0699  0.2467]]\n"
     ]
    },
    {
     "data": {
      "text/plain": [
       "array([[ 9.2291,  0.9394,  4.948 ],\n",
       "       [ 0.9394,  3.7662, -1.3622],\n",
       "       [ 4.948 , -1.3622,  4.3437]])"
      ]
     },
     "execution_count": 55,
     "metadata": {},
     "output_type": "execute_result"
    }
   ],
   "source": [
    "arr = np.random.randn(6, 3)\n",
    "print(arr)\n",
    "np.dot(arr.T, arr)\n",
    "\n",
    "# doing the dot product"
   ]
  },
  {
   "cell_type": "code",
   "execution_count": 56,
   "metadata": {},
   "outputs": [
    {
     "name": "stdout",
     "output_type": "stream",
     "text": [
      "[[[ 0  1  2  3]\n",
      "  [ 4  5  6  7]]\n",
      "\n",
      " [[ 8  9 10 11]\n",
      "  [12 13 14 15]]]\n"
     ]
    },
    {
     "data": {
      "text/plain": [
       "'\\nFor higher dimensional arrays, transpose will accept a tuple of axis numbers to permute the axes (for extra mind bending):\\n'"
      ]
     },
     "execution_count": 56,
     "metadata": {},
     "output_type": "execute_result"
    }
   ],
   "source": [
    "arr = np.arange(16).reshape((2, 2, 4))\n",
    "print(arr)\n",
    "arr.transpose((1, 0, 2))\n",
    "'''\n",
    "For higher dimensional arrays, transpose will accept a tuple of axis numbers to permute the axes (for extra mind bending):\n",
    "'''"
   ]
  },
  {
   "cell_type": "code",
   "execution_count": 57,
   "metadata": {},
   "outputs": [
    {
     "name": "stdout",
     "output_type": "stream",
     "text": [
      "[[[ 0  1  2  3]\n",
      "  [ 4  5  6  7]]\n",
      "\n",
      " [[ 8  9 10 11]\n",
      "  [12 13 14 15]]]\n"
     ]
    },
    {
     "data": {
      "text/plain": [
       "array([[[ 0,  4],\n",
       "        [ 1,  5],\n",
       "        [ 2,  6],\n",
       "        [ 3,  7]],\n",
       "\n",
       "       [[ 8, 12],\n",
       "        [ 9, 13],\n",
       "        [10, 14],\n",
       "        [11, 15]]])"
      ]
     },
     "execution_count": 57,
     "metadata": {},
     "output_type": "execute_result"
    }
   ],
   "source": [
    "'''\n",
    "Simple transposing with .T is just a special case of swapping axes. ndarray has the method swapaxes which takes a pair\n",
    "of axis numbers:\n",
    "'''\n",
    "print(arr)\n",
    "arr.swapaxes(1, 2)"
   ]
  },
  {
   "cell_type": "markdown",
   "metadata": {},
   "source": [
    "## Universal Functions: Fast Element-Wise Array Functions"
   ]
  },
  {
   "cell_type": "markdown",
   "metadata": {},
   "source": [
    "A universal function, or ufunc, is a function that performs elementwise operations on\n",
    "data in ndarrays. You can think of them as fast vectorized wrappers for simple functions\n",
    "that take one or more scalar values and produce one or more scalar results"
   ]
  },
  {
   "cell_type": "code",
   "execution_count": 58,
   "metadata": {},
   "outputs": [
    {
     "name": "stdout",
     "output_type": "stream",
     "text": [
      "[0 1 2 3 4 5 6 7 8 9]\n",
      "[0.     1.     1.4142 1.7321 2.     2.2361 2.4495 2.6458 2.8284 3.    ]\n",
      "[   1.        2.7183    7.3891   20.0855   54.5982  148.4132  403.4288\n",
      " 1096.6332 2980.958  8103.0839]\n"
     ]
    }
   ],
   "source": [
    "#.sqrt() and exp() are unary functions which take one array only\n",
    "arr = np.arange(10)\n",
    "print(arr)\n",
    "print(np.sqrt(arr))\n",
    "print(np.exp(arr))"
   ]
  },
  {
   "cell_type": "code",
   "execution_count": 59,
   "metadata": {},
   "outputs": [
    {
     "name": "stdout",
     "output_type": "stream",
     "text": [
      "[-0.0119  1.0048  1.3272 -0.9193 -1.5491  0.0222  0.7584 -0.6605]\n",
      "[ 0.8626 -0.01    0.05    0.6702  0.853  -0.9559 -0.0235 -2.3042]\n",
      "[ 0.8626  1.0048  1.3272  0.6702  0.853   0.0222  0.7584 -0.6605]\n"
     ]
    }
   ],
   "source": [
    "# .maximum() or such as add or maximum, take 2 arrays\n",
    "#(thus, binary ufuncs) and return a single array as the result:\n",
    "x = np.random.randn(8)\n",
    "y = np.random.randn(8)\n",
    "print(x)\n",
    "print(y)\n",
    "print(np.maximum(x, y))"
   ]
  },
  {
   "cell_type": "code",
   "execution_count": 60,
   "metadata": {},
   "outputs": [
    {
     "name": "stdout",
     "output_type": "stream",
     "text": [
      "[-3.2623 -6.0915 -6.663   5.3731  3.6182  3.45    5.0077]\n",
      "[-0.2623 -0.0915 -0.663   0.3731  0.6182  0.45    0.0077]\n",
      "[-3. -6. -6.  5.  3.  3.  5.]\n"
     ]
    }
   ],
   "source": [
    "'''\n",
    "While not common, a ufunc can return multiple arrays. modf is one example, a vectorized\n",
    "version of the built-in Python divmod: it returns the fractional and integral parts of\n",
    "a floating point array:\n",
    "'''\n",
    "arr = np.random.randn(7) * 5\n",
    "print(arr)\n",
    "remainder, whole_part = np.modf(arr)\n",
    "print(remainder)\n",
    "print(whole_part)"
   ]
  },
  {
   "cell_type": "code",
   "execution_count": 61,
   "metadata": {},
   "outputs": [
    {
     "name": "stdout",
     "output_type": "stream",
     "text": [
      "[-3.2623 -6.0915 -6.663   5.3731  3.6182  3.45    5.0077]\n",
      "[0.     0.     0.     5.3731 3.6182 3.45   5.0077]\n"
     ]
    },
    {
     "data": {
      "text/plain": [
       "array([0.    , 0.    , 0.    , 2.318 , 1.9022, 1.8574, 2.2378])"
      ]
     },
     "execution_count": 61,
     "metadata": {},
     "output_type": "execute_result"
    }
   ],
   "source": [
    "# we got error as arr had negative numbers thus sqrt of -ve numbers gave us some error\n",
    "print(arr)\n",
    "arr[arr<0]=0\n",
    "print(arr)\n",
    "np.sqrt(arr)\n",
    "np.sqrt(arr, arr)\n",
    "arr"
   ]
  },
  {
   "cell_type": "markdown",
   "metadata": {},
   "source": [
    "## Array-Oriented Programming with Arrays"
   ]
  },
  {
   "cell_type": "markdown",
   "metadata": {},
   "source": [
    "Using NumPy arrays enables you to express many kinds of data processing tasks as\n",
    "concise array expressions that might otherwise require writing loops. This practice of\n",
    "replacing explicit loops with array expressions is commonly referred to as vectorization.\n",
    "In general, vectorized array operations will often be one or two (or more) orders\n",
    "of magnitude faster than their pure Python equivalents, with the biggest impact in any\n",
    "kind of numerical computations. Later, in Chapter 12, I will explain broadcasting, a\n",
    "powerful method for vectorizing computations.\n",
    "\n",
    "As a simple example, suppose we wished to evaluate the function sqrt(x^2 + y^2)\n",
    "across a regular grid of values. The np.meshgrid function takes two 1D arrays and produces\n",
    "two 2D matrices corresponding to all pairs of (x, y) in the two arrays:"
   ]
  },
  {
   "cell_type": "code",
   "execution_count": 62,
   "metadata": {},
   "outputs": [
    {
     "name": "stdout",
     "output_type": "stream",
     "text": [
      "(1000,)\n",
      "shape of xs is  (1000, 1000)\n",
      "shape of ys is  (1000, 1000)\n"
     ]
    }
   ],
   "source": [
    "points = np.arange(-5, 5, 0.01) # 1000 equally spaced points\n",
    "# what the above code line does was create nparray where elements in it are ranging from -5 to 5 with difference of 0.01 between\n",
    "# each element\n",
    "#print(points)\n",
    "print(points.shape)\n",
    "xs, ys = np.meshgrid(points, points)\n",
    "# print('xs are \\n',xs)\n",
    "print('shape of xs is ',xs.shape)\n",
    "# print('\\n ys are \\n',ys)\n",
    "print('shape of ys is ',ys.shape)\n",
    "\n"
   ]
  },
  {
   "cell_type": "markdown",
   "metadata": {},
   "source": [
    "Now, evaluating the function is a simple matter of writing the same expression you would write with two points:"
   ]
  },
  {
   "cell_type": "code",
   "execution_count": 63,
   "metadata": {},
   "outputs": [
    {
     "data": {
      "text/plain": [
       "array([[7.0711, 7.064 , 7.0569, ..., 7.0499, 7.0569, 7.064 ],\n",
       "       [7.064 , 7.0569, 7.0499, ..., 7.0428, 7.0499, 7.0569],\n",
       "       [7.0569, 7.0499, 7.0428, ..., 7.0357, 7.0428, 7.0499],\n",
       "       ...,\n",
       "       [7.0499, 7.0428, 7.0357, ..., 7.0286, 7.0357, 7.0428],\n",
       "       [7.0569, 7.0499, 7.0428, ..., 7.0357, 7.0428, 7.0499],\n",
       "       [7.064 , 7.0569, 7.0499, ..., 7.0428, 7.0499, 7.0569]])"
      ]
     },
     "execution_count": 63,
     "metadata": {},
     "output_type": "execute_result"
    }
   ],
   "source": [
    "z = np.sqrt(xs ** 2 + ys ** 2)\n",
    "z"
   ]
  },
  {
   "cell_type": "markdown",
   "metadata": {},
   "source": [
    "# Where is X? in below imshow() plot - Unclear"
   ]
  },
  {
   "cell_type": "code",
   "execution_count": 64,
   "metadata": {},
   "outputs": [
    {
     "data": {
      "text/plain": [
       "Text(0.5,1,'Image plot of $\\\\sqrt{x^2 + y^2}$ for a grid of values')"
      ]
     },
     "execution_count": 64,
     "metadata": {},
     "output_type": "execute_result"
    },
    {
     "data": {
      "image/png": "[encoded data removed]",
      "text/plain": [
       "<Figure size 432x288 with 2 Axes>"
      ]
     },
     "metadata": {},
     "output_type": "display_data"
    }
   ],
   "source": [
    "import matplotlib.pyplot as plt\n",
    "plt.imshow(z, cmap=plt.cm.gray); \n",
    "plt.colorbar()\n",
    "plt.title(\"Image plot of $\\sqrt{x^2 + y^2}$ for a grid of values\")"
   ]
  },
  {
   "cell_type": "code",
   "execution_count": 65,
   "metadata": {},
   "outputs": [
    {
     "data": {
      "text/plain": [
       "<Figure size 432x288 with 0 Axes>"
      ]
     },
     "metadata": {},
     "output_type": "display_data"
    }
   ],
   "source": [
    "plt.draw()"
   ]
  },
  {
   "cell_type": "code",
   "execution_count": 66,
   "metadata": {},
   "outputs": [],
   "source": [
    "plt.close('all')"
   ]
  },
  {
   "cell_type": "markdown",
   "metadata": {},
   "source": [
    "### Expressing Conditional Logic as Array Operations"
   ]
  },
  {
   "cell_type": "markdown",
   "metadata": {},
   "source": [
    "The numpy.where function is a vectorized version of the ternary expression x if condition else y. Suppose we had a boolean array and two arrays of values"
   ]
  },
  {
   "cell_type": "code",
   "execution_count": 67,
   "metadata": {},
   "outputs": [],
   "source": [
    "xarr = np.array([1.1, 1.2, 1.3, 1.4, 1.5])\n",
    "yarr = np.array([2.1, 2.2, 2.3, 2.4, 2.5])\n",
    "cond = np.array([True, False, True, True, False])"
   ]
  },
  {
   "cell_type": "markdown",
   "metadata": {},
   "source": [
    "Suppose we wanted to take a value from xarr whenever the corresponding value in cond is True otherwise take the value from yarr. A list comprehension doing this might look like"
   ]
  },
  {
   "cell_type": "markdown",
   "metadata": {},
   "source": [
    "## What if u want to have more than one iterator in Python Loops\n",
    "Use zip ,as shown below\n",
    "\n",
    "and that (x if c else y) is also tricky"
   ]
  },
  {
   "cell_type": "code",
   "execution_count": 68,
   "metadata": {},
   "outputs": [
    {
     "data": {
      "text/plain": [
       "[1.1, 2.2, 1.3, 1.4, 2.5]"
      ]
     },
     "execution_count": 68,
     "metadata": {},
     "output_type": "execute_result"
    }
   ],
   "source": [
    "result = [(x if c else y)\n",
    "          for x, y, c in zip(xarr, yarr, cond)]\n",
    "result"
   ]
  },
  {
   "cell_type": "markdown",
   "metadata": {},
   "source": [
    "This has multiple problems. First, it will not be very fast for large arrays (because all the work is being done in pure Python). Secondly, it will not work with multidimensional arrays. With np.where you can write this very concisely:"
   ]
  },
  {
   "cell_type": "markdown",
   "metadata": {},
   "source": [
    "### where(conditionarray, arr1,arr2)\n",
    "WHere conditionarray is boolean array containing true and false for corresponding value, and arr1 (first param) is what will be value when condition is true in boolean array and if it is false o/p would be arr2 element\n",
    "\n",
    "See two example for more clarity"
   ]
  },
  {
   "cell_type": "code",
   "execution_count": 69,
   "metadata": {},
   "outputs": [
    {
     "data": {
      "text/plain": [
       "array([1.1, 2.2, 1.3, 1.4, 2.5])"
      ]
     },
     "execution_count": 69,
     "metadata": {},
     "output_type": "execute_result"
    }
   ],
   "source": [
    "result = np.where(cond, xarr, yarr)\n",
    "result"
   ]
  },
  {
   "cell_type": "markdown",
   "metadata": {},
   "source": [
    "The second and third arguments to np.where don’t need to be arrays; one or both of\n",
    "them can be scalars. A typical use of where in data analysis is to produce a new array of\n",
    "values based on another array. Suppose you had a matrix of randomly generated data\n",
    "and you wanted to replace all positive values with 2 and all negative values with -2.\n",
    "This is very easy to do with np.where:"
   ]
  },
  {
   "cell_type": "code",
   "execution_count": 70,
   "metadata": {},
   "outputs": [
    {
     "name": "stdout",
     "output_type": "stream",
     "text": [
      "[[-0.5031 -0.6223 -0.9212 -0.7262]\n",
      " [ 0.2229  0.0513 -1.1577  0.8167]\n",
      " [ 0.4336  1.0107  1.8249 -0.9975]\n",
      " [ 0.8506 -0.1316  0.9124  0.1882]]\n",
      "[[False False False False]\n",
      " [ True  True False  True]\n",
      " [ True  True  True False]\n",
      " [ True False  True  True]]\n"
     ]
    },
    {
     "data": {
      "text/plain": [
       "array([[-2, -2, -2, -2],\n",
       "       [ 2,  2, -2,  2],\n",
       "       [ 2,  2,  2, -2],\n",
       "       [ 2, -2,  2,  2]])"
      ]
     },
     "execution_count": 70,
     "metadata": {},
     "output_type": "execute_result"
    }
   ],
   "source": [
    "arr = np.random.randn(4, 4)\n",
    "print(arr)\n",
    "print(arr > 0)\n",
    "np.where(arr > 0, 2, -2)"
   ]
  },
  {
   "cell_type": "code",
   "execution_count": 71,
   "metadata": {},
   "outputs": [
    {
     "data": {
      "text/plain": [
       "array([[-0.5031, -0.6223, -0.9212, -0.7262],\n",
       "       [ 2.    ,  2.    , -1.1577,  2.    ],\n",
       "       [ 2.    ,  2.    ,  2.    , -0.9975],\n",
       "       [ 2.    , -0.1316,  2.    ,  2.    ]])"
      ]
     },
     "execution_count": 71,
     "metadata": {},
     "output_type": "execute_result"
    }
   ],
   "source": [
    "np.where(arr > 0, 2, arr) # set only positive values to 2"
   ]
  },
  {
   "cell_type": "markdown",
   "metadata": {},
   "source": [
    "The arrays passed to where can be more than just equal sizes array or scalers.\n",
    "With some cleverness you can use where to express more complicated logic; consider\n",
    "this example where I have two boolean arrays, cond1 and cond2, and wish to assign a\n",
    "different value for each of the 4 possible pairs of boolean values:"
   ]
  },
  {
   "cell_type": "markdown",
   "metadata": {},
   "source": [
    "result = []\n",
    ">> for i in range(n):\n",
    " if cond1[i] and cond2[i]:\n",
    "    >> result.append(0)\n",
    ">> elif cond1[i]:\n",
    "    >>result.append(1)\n",
    ">> elif cond2[i]:\n",
    "    >>result.append(2)\n",
    "else:\n",
    "result.append(3)"
   ]
  },
  {
   "cell_type": "markdown",
   "metadata": {},
   "source": [
    "While perhaps not immediately obvious, this for loop can be converted into a nested\n",
    "where expression:\n",
    "np.where(cond1 & cond2, 0,\n",
    "np.where(cond1, 1,\n",
    "np.where(cond2, 2, 3)))\n",
    "In this particular example, we can also take advantage of the fact that boolean values\n",
    "are treated as 0 or 1 in calculations, so this could alternatively be expressed (though a\n",
    "bit more cryptically) as an arithmetic operation:\n",
    "result = 1 * cond1 + 2 * cond2 + 3 * -(cond1 | cond2\n",
    "\n",
    "### page number 99 chapter 4"
   ]
  },
  {
   "cell_type": "markdown",
   "metadata": {},
   "source": [
    "### Mathematical and Statistical Methods"
   ]
  },
  {
   "cell_type": "markdown",
   "metadata": {},
   "source": [
    "A set of mathematical functions which compute statistics about an entire array or about\n",
    "the data along an axis are accessible as array methods. Aggregations (often called\n",
    "reductions) like sum, mean, and standard deviation std can either be used by calling the\n",
    "array instance method or using the top level NumPy function:"
   ]
  },
  {
   "cell_type": "code",
   "execution_count": 72,
   "metadata": {},
   "outputs": [
    {
     "name": "stdout",
     "output_type": "stream",
     "text": [
      "[[ 2.1695 -0.1149  2.0037  0.0296]\n",
      " [ 0.7953  0.1181 -0.7485  0.585 ]\n",
      " [ 0.1527 -1.5657 -0.5625 -0.0327]\n",
      " [-0.929  -0.4826 -0.0363  1.0954]\n",
      " [ 0.9809 -0.5895  1.5817 -0.5287]]\n",
      "0.19607051119998253\n",
      "0.19607051119998253\n",
      "3.9214102239996507\n"
     ]
    }
   ],
   "source": [
    "arr = np.random.randn(5, 4)\n",
    "print(arr)\n",
    "print(arr.mean())\n",
    "print(np.mean(arr))\n",
    "print(arr.sum())"
   ]
  },
  {
   "cell_type": "code",
   "execution_count": 73,
   "metadata": {},
   "outputs": [
    {
     "name": "stdout",
     "output_type": "stream",
     "text": [
      "[[1 0 1 1]\n",
      " [1 1 0 1]\n",
      " [1 0 0 0]\n",
      " [0 0 0 1]\n",
      " [1 0 1 0]]\n",
      "[0.75 0.75 0.25 0.25 0.5 ]\n",
      "[4 1 2 3]\n"
     ]
    }
   ],
   "source": [
    "arr=np.where(arr>0,1,0)\n",
    "print(arr)\n",
    "print(arr.mean(axis=1)) # this calculates the mean about axis =0\n",
    "print(arr.sum(axis=0)) # this calculates the sum about axis =1\n",
    "\n",
    "# axis 0 is column and axis 1 is row"
   ]
  },
  {
   "cell_type": "markdown",
   "metadata": {},
   "source": [
    "Other methods like cumsum and cumprod do not aggregate, instead producing an array of the intermediate results:"
   ]
  },
  {
   "cell_type": "code",
   "execution_count": 74,
   "metadata": {},
   "outputs": [
    {
     "data": {
      "text/plain": [
       "array([ 0,  1,  3,  6, 10, 15, 21, 28], dtype=int32)"
      ]
     },
     "execution_count": 74,
     "metadata": {},
     "output_type": "execute_result"
    }
   ],
   "source": [
    "arr = np.array([0, 1, 2, 3, 4, 5, 6, 7])\n",
    "arr.cumsum()"
   ]
  },
  {
   "cell_type": "code",
   "execution_count": 75,
   "metadata": {},
   "outputs": [
    {
     "data": {
      "text/plain": [
       "array([[  0,   0,   0],\n",
       "       [  3,  12,  60],\n",
       "       [  6,  42, 336]], dtype=int32)"
      ]
     },
     "execution_count": 75,
     "metadata": {},
     "output_type": "execute_result"
    }
   ],
   "source": [
    "arr = np.array([[0, 1, 2], [3, 4, 5], [6, 7, 8]])\n",
    "arr\n",
    "arr.cumsum(axis=0)\n",
    "arr.cumprod(axis=1)"
   ]
  },
  {
   "cell_type": "code",
   "execution_count": 76,
   "metadata": {},
   "outputs": [
    {
     "name": "stdout",
     "output_type": "stream",
     "text": [
      "[[0 1 2]\n",
      " [3 4 5]\n",
      " [6 7 8]]\n"
     ]
    }
   ],
   "source": [
    "arr = np.array([[0, 1, 2], [3, 4, 5], [6, 7, 8]])\n",
    "print(arr)"
   ]
  },
  {
   "cell_type": "code",
   "execution_count": 77,
   "metadata": {},
   "outputs": [
    {
     "data": {
      "text/plain": [
       "array([[ 0,  1,  2],\n",
       "       [ 3,  5,  7],\n",
       "       [ 9, 12, 15]], dtype=int32)"
      ]
     },
     "execution_count": 77,
     "metadata": {},
     "output_type": "execute_result"
    }
   ],
   "source": [
    "arr.cumsum(0) # here cumsum is calculated column wise ,as 0 axis is column ,thus axis is passes as argument"
   ]
  },
  {
   "cell_type": "code",
   "execution_count": 78,
   "metadata": {},
   "outputs": [
    {
     "data": {
      "text/plain": [
       "array([[ 0,  1,  2],\n",
       "       [ 0,  4, 10],\n",
       "       [ 0, 28, 80]], dtype=int32)"
      ]
     },
     "execution_count": 78,
     "metadata": {},
     "output_type": "execute_result"
    }
   ],
   "source": [
    "arr.cumprod(0) # here we have calculated cummulative product"
   ]
  },
  {
   "cell_type": "markdown",
   "metadata": {},
   "source": [
    "### these are some other functions    \n",
    "    sum Sum of all the elements in the array or along an axis. Zero-length arrays have sum 0\n",
    "    \n",
    "    mean Arithmetic mean. Zero-length arrays have NaN mean.\n",
    "    \n",
    "    std, var Standard deviation and variance, respectively, with optional degrees of freedom adjustment(default denominator n).\n",
    "    \n",
    "    min, max Minimum and maximum.\n",
    "    \n",
    "    argmin, argmax Indices of minimum and maximum elements, respectively.\n",
    "    \n",
    "    cumsum Cumulative sum of elements starting from 0\n",
    "    \n",
    "    cumprod Cumulative product of elements starting from 1"
   ]
  },
  {
   "cell_type": "markdown",
   "metadata": {},
   "source": [
    "### Methods for Boolean Arrays"
   ]
  },
  {
   "cell_type": "markdown",
   "metadata": {},
   "source": [
    "Boolean values are coerced to 1 (True) and 0 (False) in the above methods. Thus, sum\n",
    "is often used as a means of counting True values in a boolean array:"
   ]
  },
  {
   "cell_type": "code",
   "execution_count": 79,
   "metadata": {},
   "outputs": [
    {
     "data": {
      "text/plain": [
       "42"
      ]
     },
     "execution_count": 79,
     "metadata": {},
     "output_type": "execute_result"
    }
   ],
   "source": [
    "arr = np.random.randn(100)\n",
    "(arr > 0).sum() # Number of positive values"
   ]
  },
  {
   "cell_type": "code",
   "execution_count": 80,
   "metadata": {},
   "outputs": [
    {
     "name": "stdout",
     "output_type": "stream",
     "text": [
      "True\n",
      "False\n"
     ]
    },
    {
     "data": {
      "text/plain": [
       "'\\nThese methods also work with non-boolean arrays, where non-zero elements evaluate\\nto True.\\n'"
      ]
     },
     "execution_count": 80,
     "metadata": {},
     "output_type": "execute_result"
    }
   ],
   "source": [
    "bools = np.array([False, False, True, False])\n",
    "print(bools.any())\n",
    "print(bools.all())\n",
    "'''\n",
    "These methods also work with non-boolean arrays, where non-zero elements evaluate\n",
    "to True.\n",
    "'''"
   ]
  },
  {
   "cell_type": "markdown",
   "metadata": {},
   "source": [
    "### Sorting"
   ]
  },
  {
   "cell_type": "markdown",
   "metadata": {},
   "source": [
    "Like Python’s built-in list type, NumPy arrays can be sorted in-place using the sort\n",
    "method:"
   ]
  },
  {
   "cell_type": "code",
   "execution_count": 81,
   "metadata": {},
   "outputs": [
    {
     "data": {
      "text/plain": [
       "array([-0.8469, -0.4938, -0.1357,  0.6095,  1.24  ,  1.43  ])"
      ]
     },
     "execution_count": 81,
     "metadata": {},
     "output_type": "execute_result"
    }
   ],
   "source": [
    "arr = np.random.randn(6)\n",
    "arr\n",
    "arr.sort()\n",
    "arr"
   ]
  },
  {
   "cell_type": "code",
   "execution_count": 82,
   "metadata": {},
   "outputs": [
    {
     "name": "stdout",
     "output_type": "stream",
     "text": [
      "[[ 0.6033  1.2636 -0.2555]\n",
      " [-0.4457  0.4684 -0.9616]\n",
      " [-1.8245  0.6254  1.0229]\n",
      " [ 1.1074  0.0909 -0.3501]\n",
      " [ 0.218  -0.8948 -1.7415]]\n"
     ]
    },
    {
     "data": {
      "text/plain": [
       "array([[-0.2555,  0.6033,  1.2636],\n",
       "       [-0.9616, -0.4457,  0.4684],\n",
       "       [-1.8245,  0.6254,  1.0229],\n",
       "       [-0.3501,  0.0909,  1.1074],\n",
       "       [-1.7415, -0.8948,  0.218 ]])"
      ]
     },
     "execution_count": 82,
     "metadata": {},
     "output_type": "execute_result"
    }
   ],
   "source": [
    "arr = np.random.randn(5, 3)\n",
    "print(arr)\n",
    "arr.sort(1) # sort along axis=1 that is along rows\n",
    "arr"
   ]
  },
  {
   "cell_type": "markdown",
   "metadata": {},
   "source": [
    "The top level method np.sort returns a sorted copy of an array instead of modifying\n",
    "the array in place."
   ]
  },
  {
   "cell_type": "code",
   "execution_count": 83,
   "metadata": {},
   "outputs": [
    {
     "data": {
      "text/plain": [
       "-1.5311513550102103"
      ]
     },
     "execution_count": 83,
     "metadata": {},
     "output_type": "execute_result"
    }
   ],
   "source": [
    "large_arr = np.random.randn(1000)\n",
    "large_arr.sort()\n",
    "large_arr[int(0.05 * len(large_arr))] # 5% quantile"
   ]
  },
  {
   "cell_type": "markdown",
   "metadata": {},
   "source": [
    "For more details on using NumPy’s sorting methods, and more advanced techniques\n",
    "like indirect sorts, see Chapter 12. Several other kinds of data manipulations related to\n",
    "sorting (for example, sorting a table of data by one or more columns) are also to be\n",
    "found in pandas."
   ]
  },
  {
   "cell_type": "markdown",
   "metadata": {},
   "source": [
    "### Unique and Other Set Logic"
   ]
  },
  {
   "cell_type": "markdown",
   "metadata": {},
   "source": [
    "NumPy has some basic set operations for one-dimensional ndarrays. Probably the most commonly used one is np.unique, which returns the sorted unique values in an array:"
   ]
  },
  {
   "cell_type": "code",
   "execution_count": 84,
   "metadata": {},
   "outputs": [
    {
     "name": "stdout",
     "output_type": "stream",
     "text": [
      "['Bob' 'Joe' 'Will']\n"
     ]
    },
    {
     "data": {
      "text/plain": [
       "array([1, 2, 3, 4])"
      ]
     },
     "execution_count": 84,
     "metadata": {},
     "output_type": "execute_result"
    }
   ],
   "source": [
    "names = np.array(['Bob', 'Joe', 'Will', 'Bob', 'Will', 'Joe', 'Joe'])\n",
    "print(np.unique(names))\n",
    "ints = np.array([3, 3, 3, 2, 2, 1, 1, 4, 4])\n",
    "np.unique(ints)"
   ]
  },
  {
   "cell_type": "markdown",
   "metadata": {},
   "source": [
    "Contrast np.unique with the pure Python alternative:"
   ]
  },
  {
   "cell_type": "code",
   "execution_count": 85,
   "metadata": {},
   "outputs": [
    {
     "data": {
      "text/plain": [
       "['Bob', 'Joe', 'Will']"
      ]
     },
     "execution_count": 85,
     "metadata": {},
     "output_type": "execute_result"
    }
   ],
   "source": [
    "sorted(set(names))"
   ]
  },
  {
   "cell_type": "markdown",
   "metadata": {},
   "source": [
    "Membership fun. for 1D \n",
    "\n",
    "Another function, np.in1d, tests membership of the values in one array in another,returning a boolean array"
   ]
  },
  {
   "cell_type": "code",
   "execution_count": 86,
   "metadata": {},
   "outputs": [
    {
     "data": {
      "text/plain": [
       "array([ True, False, False,  True,  True, False,  True])"
      ]
     },
     "execution_count": 86,
     "metadata": {},
     "output_type": "execute_result"
    }
   ],
   "source": [
    "values = np.array([6, 0, 0, 3, 2, 5, 6])\n",
    "np.in1d(values, [2, 3, 6])"
   ]
  },
  {
   "cell_type": "markdown",
   "metadata": {},
   "source": [
    "## File Input and Output with Arrays"
   ]
  },
  {
   "cell_type": "markdown",
   "metadata": {},
   "source": [
    "NumPy is able to save and load data to and from disk either in text or binary format.\n",
    "In later chapters you will learn about tools in pandas for reading tabular data into\n",
    "memory"
   ]
  },
  {
   "cell_type": "markdown",
   "metadata": {},
   "source": [
    "np.save and np.load are the two workhorse functions for efficiently saving and loading\n",
    "array data on disk. Arrays are saved by default in an uncompressed raw binary format\n",
    "with file extension .npy."
   ]
  },
  {
   "cell_type": "code",
   "execution_count": 87,
   "metadata": {},
   "outputs": [],
   "source": [
    "arr = np.arange(10)\n",
    "np.save('some_array', arr)"
   ]
  },
  {
   "cell_type": "code",
   "execution_count": 88,
   "metadata": {},
   "outputs": [
    {
     "data": {
      "text/plain": [
       "array([0, 1, 2, 3, 4, 5, 6, 7, 8, 9])"
      ]
     },
     "execution_count": 88,
     "metadata": {},
     "output_type": "execute_result"
    }
   ],
   "source": [
    "np.load('some_array.npy')"
   ]
  },
  {
   "cell_type": "markdown",
   "metadata": {},
   "source": [
    "You save multiple arrays in a zip archive using np.savez and passing the arrays as keyword arguments:"
   ]
  },
  {
   "cell_type": "code",
   "execution_count": 89,
   "metadata": {},
   "outputs": [],
   "source": [
    "np.savez('array_archive.npz', a=arr, b=arr)"
   ]
  },
  {
   "cell_type": "markdown",
   "metadata": {},
   "source": [
    "When loading an .npz file, you get back a dict-like object which loads the individual\n",
    "arrays lazily"
   ]
  },
  {
   "cell_type": "code",
   "execution_count": 90,
   "metadata": {},
   "outputs": [
    {
     "data": {
      "text/plain": [
       "array([0, 1, 2, 3, 4, 5, 6, 7, 8, 9])"
      ]
     },
     "execution_count": 90,
     "metadata": {},
     "output_type": "execute_result"
    }
   ],
   "source": [
    "arch = np.load('array_archive.npz')\n",
    "arch['b']"
   ]
  },
  {
   "cell_type": "code",
   "execution_count": 91,
   "metadata": {},
   "outputs": [],
   "source": [
    "np.savez_compressed('arrays_compressed.npz', a=arr, b=arr)"
   ]
  },
  {
   "cell_type": "code",
   "execution_count": 92,
   "metadata": {},
   "outputs": [
    {
     "name": "stderr",
     "output_type": "stream",
     "text": [
      "rm: cannot remove `array_archive.npz': Permission denied\n"
     ]
    }
   ],
   "source": [
    "!rm some_array.npy\n",
    "!rm array_archive.npz\n",
    "!rm arrays_compressed.npz"
   ]
  },
  {
   "cell_type": "markdown",
   "metadata": {},
   "source": [
    "## Linear Algebra"
   ]
  },
  {
   "cell_type": "markdown",
   "metadata": {},
   "source": [
    "Linear algebra, like matrix multiplication, decompositions, determinants, and other\n",
    "square matrix math, is an important part of any array library. Unlike some languages\n",
    "like MATLAB, multiplying two two-dimensional arrays with * is an element-wise\n",
    "product instead of a matrix dot product. As such, there is a function dot, both an array\n",
    "method, and a function in the numpy namespace, for matrix multiplication:"
   ]
  },
  {
   "cell_type": "code",
   "execution_count": 93,
   "metadata": {},
   "outputs": [
    {
     "data": {
      "text/plain": [
       "array([[ 28.,  64.],\n",
       "       [ 67., 181.]])"
      ]
     },
     "execution_count": 93,
     "metadata": {},
     "output_type": "execute_result"
    }
   ],
   "source": [
    "x = np.array([[1., 2., 3.], [4., 5., 6.]])\n",
    "y = np.array([[6., 23.], [-1, 7], [8, 9]])\n",
    "x\n",
    "y\n",
    "x.dot(y)"
   ]
  },
  {
   "cell_type": "code",
   "execution_count": 94,
   "metadata": {},
   "outputs": [
    {
     "data": {
      "text/plain": [
       "array([[ 28.,  64.],\n",
       "       [ 67., 181.]])"
      ]
     },
     "execution_count": 94,
     "metadata": {},
     "output_type": "execute_result"
    }
   ],
   "source": [
    "np.dot(x, y)"
   ]
  },
  {
   "cell_type": "code",
   "execution_count": 95,
   "metadata": {},
   "outputs": [
    {
     "data": {
      "text/plain": [
       "array([ 6., 15.])"
      ]
     },
     "execution_count": 95,
     "metadata": {},
     "output_type": "execute_result"
    }
   ],
   "source": [
    "np.dot(x, np.ones(3))"
   ]
  },
  {
   "cell_type": "code",
   "execution_count": 96,
   "metadata": {},
   "outputs": [
    {
     "data": {
      "text/plain": [
       "array([ 6., 15.])"
      ]
     },
     "execution_count": 96,
     "metadata": {},
     "output_type": "execute_result"
    }
   ],
   "source": [
    "x @ np.ones(3)"
   ]
  },
  {
   "cell_type": "markdown",
   "metadata": {},
   "source": [
    "### Note\n",
    "numpy.linalg has a standard set of matrix decompositions and things like inverse and\n",
    "determinant. These are implemented under the hood using the same industry-standard\n",
    "Fortran libraries used in other languages like MATLAB and R, such as like BLAS, LAPACK,\n",
    "or possibly (depending on your NumPy build) the Intel MKL:"
   ]
  },
  {
   "cell_type": "code",
   "execution_count": 97,
   "metadata": {},
   "outputs": [
    {
     "name": "stdout",
     "output_type": "stream",
     "text": [
      "[[-0.638  -0.3739 -0.0534 -0.1046  0.3938]\n",
      " [-0.132  -0.5292  0.3035 -0.8896 -0.1733]\n",
      " [ 0.6433 -1.254   0.1172  0.8665  1.0795]\n",
      " [-0.3975  1.4875  0.558   0.6144  0.428 ]\n",
      " [-0.272   0.7388 -0.5081  1.3153  0.4459]]\n",
      "\n",
      "[[ 1.0703 -1.2904 -0.0142  0.1398  0.1747]\n",
      " [-1.2904  4.7509  0.167   1.3088 -0.4431]\n",
      " [-0.0142  0.167   0.6783 -0.4883  0.0651]\n",
      " [ 0.1398  1.3088 -0.4883  3.6606  1.8979]\n",
      " [ 0.1747 -0.4431  0.0651  1.8979  1.7324]]\n",
      "\n",
      "[[  933.1189   871.8258 -1417.6902 -1460.4005  1782.1391]\n",
      " [  871.8258   815.3929 -1325.9965 -1365.9242  1666.9347]\n",
      " [-1417.6902 -1325.9965  2158.4424  2222.0191 -2711.6822]\n",
      " [-1460.4005 -1365.9242  2222.0191  2289.0575 -2793.422 ]\n",
      " [ 1782.1391  1666.9347 -2711.6822 -2793.422   3409.5128]]\n"
     ]
    },
    {
     "data": {
      "text/plain": [
       "array([[-1.6914,  4.38  ,  0.1757,  0.4075, -0.7838],\n",
       "       [ 0.    , -2.6436,  0.1939, -3.072 , -1.0702],\n",
       "       [ 0.    ,  0.    , -0.8138,  1.5414,  0.6155],\n",
       "       [ 0.    ,  0.    ,  0.    , -2.6445, -2.1669],\n",
       "       [ 0.    ,  0.    ,  0.    ,  0.    ,  0.0002]])"
      ]
     },
     "execution_count": 97,
     "metadata": {},
     "output_type": "execute_result"
    }
   ],
   "source": [
    "from numpy.linalg import inv, qr\n",
    "X = np.random.randn(5, 5)\n",
    "print(X)\n",
    "mat = X.T.dot(X)\n",
    "print()\n",
    "print(mat)\n",
    "print()\n",
    "print(inv(mat))\n",
    "mat.dot(inv(mat))\n",
    "q, r = qr(mat)\n",
    "r"
   ]
  },
  {
   "cell_type": "markdown",
   "metadata": {},
   "source": [
    "## Pseudorandom Number Generation"
   ]
  },
  {
   "cell_type": "markdown",
   "metadata": {},
   "source": [
    "Generating random 4 by 4 matrix which gives normal distribution by taking 16 sample numbers from normal distribution"
   ]
  },
  {
   "cell_type": "code",
   "execution_count": 98,
   "metadata": {},
   "outputs": [
    {
     "data": {
      "text/plain": [
       "array([[ 0.5732,  0.1933,  0.4429,  1.2796],\n",
       "       [ 0.575 ,  0.4339, -0.7658, -1.237 ],\n",
       "       [-0.5367,  1.8545, -0.92  , -0.1082],\n",
       "       [ 0.1525,  0.9435, -1.0953, -0.144 ]])"
      ]
     },
     "execution_count": 98,
     "metadata": {},
     "output_type": "execute_result"
    }
   ],
   "source": [
    "samples = np.random.normal(size=(4, 4))\n",
    "samples"
   ]
  },
  {
   "attachments": {
    "temp.PNG": {
     "image/png": "[encoded data removed]"
    }
   },
   "cell_type": "markdown",
   "metadata": {},
   "source": [
    "![temp.PNG](attachment:temp.PNG)"
   ]
  },
  {
   "cell_type": "code",
   "execution_count": 99,
   "metadata": {},
   "outputs": [
    {
     "name": "stdout",
     "output_type": "stream",
     "text": [
      "1.42 s ± 369 ms per loop (mean ± std. dev. of 7 runs, 1 loop each)\n",
      "44 ms ± 881 µs per loop (mean ± std. dev. of 7 runs, 10 loops each)\n"
     ]
    }
   ],
   "source": [
    "from random import normalvariate\n",
    "N = 1000000\n",
    "%timeit samples = [normalvariate(0, 1) for _ in range(N)]\n",
    "%timeit np.random.normal(size=N)"
   ]
  },
  {
   "cell_type": "code",
   "execution_count": 100,
   "metadata": {},
   "outputs": [],
   "source": [
    "np.random.seed(1234)"
   ]
  },
  {
   "cell_type": "code",
   "execution_count": 101,
   "metadata": {},
   "outputs": [
    {
     "data": {
      "text/plain": [
       "array([ 0.4714, -1.191 ,  1.4327, -0.3127, -0.7206,  0.8872,  0.8596,\n",
       "       -0.6365,  0.0157, -2.2427])"
      ]
     },
     "execution_count": 101,
     "metadata": {},
     "output_type": "execute_result"
    }
   ],
   "source": [
    "rng = np.random.RandomState(1234)\n",
    "rng.randn(10)"
   ]
  },
  {
   "cell_type": "markdown",
   "metadata": {},
   "source": [
    "## Example: Random Walks"
   ]
  },
  {
   "cell_type": "markdown",
   "metadata": {},
   "source": [
    "An illustrative application of utilizing array operations is in the simulation of random\n",
    "walks. Let’s first consider a simple random walk starting at 0 with steps of 1 and -1\n",
    "occurring with equal probability. A pure Python way to implement a single random\n",
    "walk with 1,000 steps using the built-in random module:"
   ]
  },
  {
   "cell_type": "code",
   "execution_count": 102,
   "metadata": {},
   "outputs": [],
   "source": [
    "import random\n",
    "position = 0\n",
    "walk = [position]\n",
    "steps = 1000\n",
    "for i in range(steps):\n",
    "    step = 1 if random.randint(0, 1) else -1\n",
    "    position += step\n",
    "    walk.append(position)"
   ]
  },
  {
   "cell_type": "code",
   "execution_count": 103,
   "metadata": {},
   "outputs": [
    {
     "data": {
      "text/plain": [
       "<Figure size 432x288 with 0 Axes>"
      ]
     },
     "execution_count": 103,
     "metadata": {},
     "output_type": "execute_result"
    },
    {
     "data": {
      "text/plain": [
       "<Figure size 432x288 with 0 Axes>"
      ]
     },
     "metadata": {},
     "output_type": "display_data"
    }
   ],
   "source": [
    "plt.figure()"
   ]
  },
  {
   "cell_type": "code",
   "execution_count": 104,
   "metadata": {},
   "outputs": [
    {
     "data": {
      "text/plain": [
       "[<matplotlib.lines.Line2D at 0x1695480e4a8>]"
      ]
     },
     "execution_count": 104,
     "metadata": {},
     "output_type": "execute_result"
    },
    {
     "data": {
      "image/png": "[encoded data removed]",
      "text/plain": [
       "<Figure size 432x288 with 1 Axes>"
      ]
     },
     "metadata": {},
     "output_type": "display_data"
    }
   ],
   "source": [
    "plt.plot(walk[:100])"
   ]
  },
  {
   "cell_type": "markdown",
   "metadata": {},
   "source": [
    "You might make the observation that walk is simply the cumulative sum of the random\n",
    "steps and could be evaluated as an array expression. Thus, I use the np.random module\n",
    "to draw 1,000 coin flips at once, set these to 1 and -1, and compute the cumulative sum:"
   ]
  },
  {
   "cell_type": "code",
   "execution_count": 105,
   "metadata": {},
   "outputs": [],
   "source": [
    "np.random.seed(12345)"
   ]
  },
  {
   "cell_type": "code",
   "execution_count": 106,
   "metadata": {},
   "outputs": [],
   "source": [
    "nsteps = 1000\n",
    "draws = np.random.randint(0, 2, size=nsteps) # this line make draws with random 0 and 1\n",
    "# print(np.unique(draws))\n",
    "steps = np.where(draws > 0, 1, -1)\n",
    "walk = steps.cumsum()"
   ]
  },
  {
   "cell_type": "code",
   "execution_count": 107,
   "metadata": {},
   "outputs": [
    {
     "name": "stdout",
     "output_type": "stream",
     "text": [
      "-3\n",
      "31\n"
     ]
    }
   ],
   "source": [
    "print(walk.min())\n",
    "print(walk.max())"
   ]
  },
  {
   "cell_type": "code",
   "execution_count": 108,
   "metadata": {},
   "outputs": [
    {
     "data": {
      "text/plain": [
       "37"
      ]
     },
     "execution_count": 108,
     "metadata": {},
     "output_type": "execute_result"
    }
   ],
   "source": [
    "(np.abs(walk) >= 10).argmax()"
   ]
  },
  {
   "cell_type": "code",
   "execution_count": 109,
   "metadata": {},
   "outputs": [
    {
     "data": {
      "text/plain": [
       "[<matplotlib.lines.Line2D at 0x16954872c18>]"
      ]
     },
     "execution_count": 109,
     "metadata": {},
     "output_type": "execute_result"
    },
    {
     "data": {
      "image/png": "[encoded data removed]",
      "text/plain": [
       "<Figure size 432x288 with 1 Axes>"
      ]
     },
     "metadata": {},
     "output_type": "display_data"
    }
   ],
   "source": [
    "plt.plot(walk[:100])"
   ]
  },
  {
   "cell_type": "markdown",
   "metadata": {},
   "source": [
    "### Simulating Many Random Walks at Once"
   ]
  },
  {
   "cell_type": "markdown",
   "metadata": {},
   "source": [
    "If your goal was to simulate many random walks, say 5,000 of them, you can generate\n",
    "all of the random walks with minor modifications to the above code. The numpy.ran\n",
    "dom functions if passed a 2-tuple will generate a 2D array of draws, and we can compute\n",
    "the cumulative sum across the rows to compute all 5,000 random walks in one shot:"
   ]
  },
  {
   "cell_type": "code",
   "execution_count": 110,
   "metadata": {},
   "outputs": [
    {
     "data": {
      "text/plain": [
       "array([[  1,   0,   1, ...,   8,   7,   8],\n",
       "       [  1,   0,  -1, ...,  34,  33,  32],\n",
       "       [  1,   0,  -1, ...,   4,   5,   4],\n",
       "       ...,\n",
       "       [  1,   2,   1, ...,  24,  25,  26],\n",
       "       [  1,   2,   3, ...,  14,  13,  14],\n",
       "       [ -1,  -2,  -3, ..., -24, -23, -22]], dtype=int32)"
      ]
     },
     "execution_count": 110,
     "metadata": {},
     "output_type": "execute_result"
    }
   ],
   "source": [
    "nwalks = 5000\n",
    "nsteps = 1000\n",
    "draws = np.random.randint(0, 2, size=(nwalks, nsteps)) # 0 or 1\n",
    "steps = np.where(draws > 0, 1, -1)\n",
    "walks = steps.cumsum(1)\n",
    "walks"
   ]
  },
  {
   "cell_type": "code",
   "execution_count": 111,
   "metadata": {},
   "outputs": [
    {
     "data": {
      "text/plain": [
       "-133"
      ]
     },
     "execution_count": 111,
     "metadata": {},
     "output_type": "execute_result"
    }
   ],
   "source": [
    "walks.max()\n",
    "walks.min()"
   ]
  },
  {
   "cell_type": "code",
   "execution_count": 112,
   "metadata": {},
   "outputs": [
    {
     "data": {
      "text/plain": [
       "3410"
      ]
     },
     "execution_count": 112,
     "metadata": {},
     "output_type": "execute_result"
    }
   ],
   "source": [
    "hits30 = (np.abs(walks) >= 30).any(1)\n",
    "hits30\n",
    "hits30.sum() # Number that hit 30 or -30"
   ]
  },
  {
   "cell_type": "code",
   "execution_count": 113,
   "metadata": {},
   "outputs": [
    {
     "data": {
      "text/plain": [
       "498.8897360703812"
      ]
     },
     "execution_count": 113,
     "metadata": {},
     "output_type": "execute_result"
    }
   ],
   "source": [
    "crossing_times = (np.abs(walks[hits30]) >= 30).argmax(1)\n",
    "crossing_times.mean()"
   ]
  },
  {
   "cell_type": "code",
   "execution_count": 114,
   "metadata": {},
   "outputs": [],
   "source": [
    "steps = np.random.normal(loc=0, scale=0.25,\n",
    "                         size=(nwalks, nsteps))"
   ]
  },
  {
   "cell_type": "markdown",
   "metadata": {},
   "source": [
    "## Conclusion"
   ]
  }
 ],
 "metadata": {
  "kernelspec": {
   "display_name": "Python 3",
   "language": "python",
   "name": "python3"
  },
  "language_info": {
   "codemirror_mode": {
    "name": "ipython",
    "version": 3
   },
   "file_extension": ".py",
   "mimetype": "text/x-python",
   "name": "python",
   "nbconvert_exporter": "python",
   "pygments_lexer": "ipython3",
   "version": "3.6.5"
  }
 },
 "nbformat": 4,
 "nbformat_minor": 1
}
