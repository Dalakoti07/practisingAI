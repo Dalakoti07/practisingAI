{
 "cells": [
  {
   "cell_type": "code",
   "execution_count": 1,
   "metadata": {},
   "outputs": [],
   "source": [
    "import numpy as np"
   ]
  },
  {
   "cell_type": "markdown",
   "metadata": {},
   "source": [
    "What we does in KNN is very simple and straight forward, we memorize each and every image, which means we must have all the \n",
    "Training images with us to do this, and we take two image and try to find distance between those two images, where difference between two images is the element wise absolute difference between all the pixels of the image and atlast sum of all these difference like \n",
    "\n",
    "[2,1,3,4,5,6] is a flattened image and [1,2,2,2,2,2] is another image than absolute difference is [1+1+1+2+3+4]=12, thus this is how we calculate difference between two images.\n",
    "\n",
    "For a given image in test set, we calculate its distance from all training images, and this image is categorised to this nearest image"
   ]
  },
  {
   "cell_type": "code",
   "execution_count": 7,
   "metadata": {},
   "outputs": [],
   "source": [
    "class KKNImageClassifier:\n",
    "#     This take x dataset which has n images and each image is faltened and y as label which is may be string or integer\n",
    "    def __init__(self,x,y):\n",
    "        pass\n",
    "    \n",
    "    def train(self,x,y):\n",
    "        self.xTrn=x,self.yTrn=y\n",
    "    \n",
    "    def predict(self,xTest):\n",
    "        size=xTest.shape[0]\n",
    "        predValues=np.zeros(size,self.yTrn.dtype)\n",
    "        # iterate over all the train data and find the nearest image as per distance\n",
    "        for i in range(size):\n",
    "            distance=self.xTrn-xTest[i,:]\n",
    "            nearestImageIndex=np.argmin(distance)\n",
    "            predValues[i]=self.yTrn[nearestImageIndex]\n",
    "    \n",
    "        return predValues"
   ]
  },
  {
   "cell_type": "markdown",
   "metadata": {},
   "source": [
    "This method is too slow, for 1000 images in training dataset and each image of 100X100 then it would take 10^7 time, thus training time is O(1) and test time for 1 image O(n*width*height of each image)"
   ]
  },
  {
   "cell_type": "markdown",
   "metadata": {},
   "source": [
    "Many methods exist for fast / approximate nearest neighbor (beyond the scope of 231N!) and below is one example\n",
    "\n",
    "https://github.com/facebookresearch/faiss\n"
   ]
  },
  {
   "cell_type": "markdown",
   "metadata": {},
   "source": [
    "Instead of copying label from nearest label we can do majority vote\n",
    "\n",
    "Distance metric like manhattan distance or eucledian distance can be used"
   ]
  },
  {
   "cell_type": "markdown",
   "metadata": {},
   "source": [
    "Playground to see how the hyperparameter tuning changes the boundary of KNN neighbour\n",
    "\n",
    "http://vision.stanford.edu/teaching/cs231n-demos/knn/"
   ]
  },
  {
   "cell_type": "markdown",
   "metadata": {},
   "source": [
    "KNN is very slow at training time and distance difference between image is not a good metric and not at all informative\n",
    "\n",
    "Thus KNN is never used to classify the image"
   ]
  },
  {
   "cell_type": "markdown",
   "metadata": {},
   "source": [
    "Take CIFAR 10 dataset and calculate the accuaracy"
   ]
  },
  {
   "cell_type": "markdown",
   "metadata": {},
   "source": [
    "If you ran this code, you would see that this classifier only achieves 38.6% on CIFAR-10. That’s more impressive than guessing at random (which would give 10% accuracy since there are 10 classes), but nowhere near human performance (which is estimated at about 94%) or near state-of-the-art Convolutional Neural Networks that achieve about 95%, matching human accuracy (see the leaderboard of a recent Kaggle competition on CIFAR-10)."
   ]
  },
  {
   "cell_type": "markdown",
   "metadata": {},
   "source": [
    "### Assignment Train, Validate and Test the CIFAR 10 with KNN"
   ]
  }
 ],
 "metadata": {
  "kernelspec": {
   "display_name": "Python 3",
   "language": "python",
   "name": "python3"
  },
  "language_info": {
   "codemirror_mode": {
    "name": "ipython",
    "version": 3
   },
   "file_extension": ".py",
   "mimetype": "text/x-python",
   "name": "python",
   "nbconvert_exporter": "python",
   "pygments_lexer": "ipython3",
   "version": "3.6.8"
  }
 },
 "nbformat": 4,
 "nbformat_minor": 2
}
